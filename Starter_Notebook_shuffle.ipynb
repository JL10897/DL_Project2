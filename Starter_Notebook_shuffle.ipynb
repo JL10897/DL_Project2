{
 "cells": [
  {
   "cell_type": "markdown",
   "id": "a02285e6",
   "metadata": {
    "id": "a02285e6"
   },
   "source": [
    "# Starter Notebook"
   ]
  },
  {
   "cell_type": "markdown",
   "id": "bdcc5329",
   "metadata": {
    "id": "bdcc5329"
   },
   "source": [
    "Install and import required libraries"
   ]
  },
  {
   "cell_type": "code",
   "execution_count": 1,
   "id": "348ceed6-b684-46c3-8a32-9bb640c9a9d7",
   "metadata": {
    "id": "348ceed6-b684-46c3-8a32-9bb640c9a9d7"
   },
   "outputs": [],
   "source": [
    "# !pip install transformers datasets evaluate accelerate peft trl bitsandbytes\n",
    "# !pip install nvidia-ml-py3"
   ]
  },
  {
   "cell_type": "code",
   "execution_count": 2,
   "id": "cca64f38-d8d2-4313-8295-fbbd43c2a263",
   "metadata": {
    "id": "cca64f38-d8d2-4313-8295-fbbd43c2a263"
   },
   "outputs": [
    {
     "name": "stderr",
     "output_type": "stream",
     "text": [
      "[nltk_data] Downloading package wordnet to\n",
      "[nltk_data]     /home/viewsetting/nltk_data...\n",
      "[nltk_data]   Package wordnet is already up-to-date!\n",
      "[nltk_data] Downloading package averaged_perceptron_tagger to\n",
      "[nltk_data]     /home/viewsetting/nltk_data...\n",
      "[nltk_data]   Package averaged_perceptron_tagger is already up-to-\n",
      "[nltk_data]       date!\n"
     ]
    },
    {
     "data": {
      "text/plain": [
       "True"
      ]
     },
     "execution_count": 2,
     "metadata": {},
     "output_type": "execute_result"
    }
   ],
   "source": [
    "import os\n",
    "import pandas as pd\n",
    "import torch\n",
    "import random\n",
    "import re\n",
    "import nltk\n",
    "import pickle\n",
    "import nlpaug.augmenter.word as naw\n",
    "import nlpaug.augmenter.char as nac\n",
    "\n",
    "from transformers import (\n",
    "    RobertaModel,\n",
    "    RobertaTokenizer, \n",
    "    TrainingArguments,\n",
    "    Trainer,\n",
    "    DataCollatorWithPadding,\n",
    "    RobertaForSequenceClassification,\n",
    "    EarlyStoppingCallback\n",
    ")\n",
    "from peft import LoraConfig, get_peft_model, PeftModel\n",
    "from datasets import load_dataset, Dataset, ClassLabel\n",
    "\n",
    "# Download required NLTK data\n",
    "nltk.download('wordnet')\n",
    "nltk.download('averaged_perceptron_tagger')"
   ]
  },
  {
   "cell_type": "code",
   "execution_count": 3,
   "id": "09eccaf2",
   "metadata": {},
   "outputs": [
    {
     "name": "stdout",
     "output_type": "stream",
     "text": [
      "Using Device: cuda:1\n"
     ]
    }
   ],
   "source": [
    "# 设置设备\n",
    "device = torch.device('cuda:1' if torch.cuda.is_available() else 'mps' if torch.backends.mps.is_available() else 'cpu')\n",
    "print(f\"Using Device: {device}\")"
   ]
  },
  {
   "cell_type": "code",
   "execution_count": 4,
   "id": "d0b527c6",
   "metadata": {},
   "outputs": [
    {
     "name": "stderr",
     "output_type": "stream",
     "text": [
      "Failed to detect the name of this notebook, you can set it manually with the WANDB_NOTEBOOK_NAME environment variable to enable code saving.\n",
      "\u001b[34m\u001b[1mwandb\u001b[0m: \u001b[33mWARNING\u001b[0m If you're specifying your api key in code, ensure this code is not shared publicly.\n",
      "\u001b[34m\u001b[1mwandb\u001b[0m: \u001b[33mWARNING\u001b[0m Consider setting the WANDB_API_KEY environment variable, or running `wandb login` from the command line.\n",
      "\u001b[34m\u001b[1mwandb\u001b[0m: Appending key for api.wandb.ai to your netrc file: /home/viewsetting/.netrc\n"
     ]
    },
    {
     "data": {
      "text/plain": [
       "True"
      ]
     },
     "execution_count": 4,
     "metadata": {},
     "output_type": "execute_result"
    }
   ],
   "source": [
    "import wandb\n",
    "wandb.login(key=\"2008ab8d896bfc68619ace7f820e0513468b9783\", relogin=True)\n"
   ]
  },
  {
   "cell_type": "code",
   "execution_count": 5,
   "id": "415c25a4",
   "metadata": {},
   "outputs": [
    {
     "name": "stdout",
     "output_type": "stream",
     "text": [
      "Current wandb entity: jl10897-new-york-university\n"
     ]
    }
   ],
   "source": [
    "# Get current wandb entity\n",
    "current_entity = wandb.api.default_entity\n",
    "print(f\"Current wandb entity: {current_entity}\")\n"
   ]
  },
  {
   "cell_type": "markdown",
   "id": "59d6e377",
   "metadata": {
    "id": "59d6e377"
   },
   "source": [
    "## Load Tokenizer and Preprocess Data"
   ]
  },
  {
   "cell_type": "code",
   "execution_count": 6,
   "id": "21f42747-f551-40a5-a95f-7affb1eba4a3",
   "metadata": {
    "id": "21f42747-f551-40a5-a95f-7affb1eba4a3"
   },
   "outputs": [],
   "source": [
    "# base_model = 'roberta-base'\n",
    "# # base_model = 'roberta-large'\n",
    "\n",
    "# dataset = load_dataset('ag_news', split='train')\n",
    "# tokenizer = RobertaTokenizer.from_pretrained(base_model)\n",
    "\n",
    "# def clean_text(text):\n",
    "#     text = re.sub(r\"<.*?>\", \"\", text)                 # 去除 HTML 标签\n",
    "#     text = re.sub(r\"http\\S+|www\\S+\", \"\", text)        # 移除 URL\n",
    "#     text = re.sub(r\"[^A-Za-z0-9.,!?;:'\\\"()\\[\\]\\s]\", \"\", text)  # 去除特殊字符\n",
    "#     text = re.sub(r\"\\s+\", \" \", text).strip()          # 去除多余空格\n",
    "#     return text.lower()                               # 可选：统一小写\n",
    "    \n",
    "# def preprocess(examples):\n",
    "#     cleaned_texts = [clean_text(t) for t in examples['text']]\n",
    "#     return tokenizer(cleaned_texts, truncation=True, padding=True, max_length=256)\n",
    "\n",
    "# tokenized_dataset = dataset.map(preprocess, batched=True,  remove_columns=[\"text\"])\n",
    "# tokenized_dataset = tokenized_dataset.rename_column(\"label\", \"labels\")"
   ]
  },
  {
   "cell_type": "code",
   "execution_count": 7,
   "id": "5cc88ef2",
   "metadata": {},
   "outputs": [
    {
     "name": "stderr",
     "output_type": "stream",
     "text": [
      "[nltk_data] Downloading package averaged_perceptron_tagger_eng to\n",
      "[nltk_data]     /home/viewsetting/nltk_data...\n",
      "[nltk_data]   Unzipping taggers/averaged_perceptron_tagger_eng.zip.\n"
     ]
    },
    {
     "data": {
      "text/plain": [
       "True"
      ]
     },
     "execution_count": 7,
     "metadata": {},
     "output_type": "execute_result"
    }
   ],
   "source": [
    "nltk.download('averaged_perceptron_tagger_eng', download_dir='/home/viewsetting/nltk_data')\n",
    "\n"
   ]
  },
  {
   "cell_type": "code",
   "execution_count": 8,
   "id": "7f7cf7e0",
   "metadata": {},
   "outputs": [],
   "source": [
    "nltk.data.path.append('/home/viewsetting/nltk_data')"
   ]
  },
  {
   "cell_type": "code",
   "execution_count": 9,
   "id": "4d90e80a",
   "metadata": {},
   "outputs": [
    {
     "name": "stderr",
     "output_type": "stream",
     "text": [
      "/cache_intel/anaconda/miniconda3/lib/python3.9/site-packages/transformers/tokenization_utils_base.py:1601: FutureWarning: `clean_up_tokenization_spaces` was not set. It will be set to `True` by default. This behavior will be depracted in transformers v4.45, and will be then set to `False` by default. For more details check this issue: https://github.com/huggingface/transformers/issues/31884\n",
      "  warnings.warn(\n",
      "Parameter 'function'=<function <lambda> at 0x7a82c9eef5e0> of the transform datasets.arrow_dataset.Dataset._map_single couldn't be hashed properly, a random hash was used instead. Make sure your transforms and parameters are serializable with pickle or dill for the dataset fingerprinting and caching to work. If you reuse this transform, the caching mechanism will consider it to be different from the previous calls and recompute everything. This warning is only showed once. Subsequent hashing failures won't be showed.\n"
     ]
    },
    {
     "data": {
      "application/vnd.jupyter.widget-view+json": {
       "model_id": "03fdd6fc82c94caf83f7936d8ee1da55",
       "version_major": 2,
       "version_minor": 0
      },
      "text/plain": [
       "Map:   0%|          | 0/120000 [00:00<?, ? examples/s]"
      ]
     },
     "metadata": {},
     "output_type": "display_data"
    }
   ],
   "source": [
    "base_model = 'roberta-base'\n",
    "# base_model = 'roberta-large'\n",
    "\n",
    "dataset = load_dataset('ag_news', split='train')\n",
    "tokenizer = RobertaTokenizer.from_pretrained(base_model)\n",
    "\n",
    "# Initialize augmenters\n",
    "synonym_aug = naw.SynonymAug(aug_src='wordnet', aug_p=0.3)\n",
    "delete_aug = naw.RandomWordAug(action='delete', aug_p=0.1)\n",
    "swap_aug = naw.RandomWordAug(action='swap', aug_p=0.1)\n",
    "typo_aug = nac.RandomCharAug(action='swap', aug_char_p=0.05, aug_word_p=0.1)\n",
    "\n",
    "def clean_text(text):\n",
    "    text = re.sub(r\"<.*?>\", \"\", text)                 # 去除 HTML 标签\n",
    "    text = re.sub(r\"http\\S+|www\\S+\", \"\", text)        # 移除 URL\n",
    "    text = re.sub(r\"[^A-Za-z0-9.,!?;:'\\\"()\\[\\]\\s]\", \"\", text)  # 去除特殊字符\n",
    "    text = re.sub(r\"\\s+\", \" \", text).strip()          # 去除多余空格\n",
    "    return text.lower()                               # 统一小写\n",
    "\n",
    "def sentence_shuffle(text):\n",
    "    # Split text into sentences using simple punctuation-based splitting\n",
    "    sentences = re.split(r'(?<=[.!?])\\s+', text.strip())\n",
    "    if len(sentences) < 2:  # Skip if only one sentence\n",
    "        return text\n",
    "    # Randomly shuffle sentences\n",
    "    random.shuffle(sentences)\n",
    "    # Rejoin with spaces, ensuring proper spacing\n",
    "    return ' '.join(s.strip() for s in sentences if s.strip())\n",
    "\n",
    "def preprocess_with_augmentation(examples, augmentations=None):\n",
    "    if augmentations is None:\n",
    "        augmentations = {\n",
    "            'synonym': False,\n",
    "            'delete': False,\n",
    "            'swap': False,\n",
    "            'shuffle': False,\n",
    "            'noise': False\n",
    "        }\n",
    "\n",
    "    # Clean texts first\n",
    "    cleaned_texts = [clean_text(t) for t in examples['text']]\n",
    "    augmented_texts = []\n",
    "\n",
    "    for text in cleaned_texts:\n",
    "        aug_text = text\n",
    "        if augmentations.get('synonym', False):\n",
    "            aug_text = synonym_aug.augment(aug_text)[0]\n",
    "        if augmentations.get('delete', False):\n",
    "            aug_text = delete_aug.augment(aug_text)[0]\n",
    "        if augmentations.get('swap', False):\n",
    "            aug_text = swap_aug.augment(aug_text)[0]\n",
    "        if augmentations.get('shuffle', False):\n",
    "            aug_text = sentence_shuffle(aug_text)\n",
    "        if augmentations.get('noise', False):\n",
    "            aug_text = typo_aug.augment(aug_text)[0]\n",
    "        augmented_texts.append(aug_text)\n",
    "\n",
    "    # Tokenize with same parameters as original\n",
    "    return tokenizer(augmented_texts, truncation=True, padding=True, max_length=256)\n",
    "\n",
    "# Example augmentation configuration\n",
    "augmentation_config = {\n",
    "    'synonym': True,\n",
    "    'delete': True,\n",
    "    'swap': True,\n",
    "    'shuffle': True,  # Enable sentence shuffling\n",
    "    'noise': True\n",
    "}\n",
    "\n",
    "\n",
    "\n",
    "tokenized_dataset = dataset.map(\n",
    "    lambda examples: preprocess_with_augmentation(examples, augmentation_config),\n",
    "    batched=True,\n",
    "    remove_columns=[\"text\"]\n",
    ")\n",
    "tokenized_dataset = tokenized_dataset.rename_column(\"label\", \"labels\")"
   ]
  },
  {
   "cell_type": "code",
   "execution_count": 10,
   "id": "9e07f641-bec0-43a6-8c26-510d7642916a",
   "metadata": {
    "id": "9e07f641-bec0-43a6-8c26-510d7642916a"
   },
   "outputs": [
    {
     "name": "stdout",
     "output_type": "stream",
     "text": [
      "number of labels: 4\n",
      "the labels: ['World', 'Sports', 'Business', 'Sci/Tech']\n"
     ]
    }
   ],
   "source": [
    "# Extract the number of classess and their names\n",
    "num_labels = dataset.features['label'].num_classes\n",
    "class_names = dataset.features[\"label\"].names\n",
    "print(f\"number of labels: {num_labels}\")\n",
    "print(f\"the labels: {class_names}\")\n",
    "\n",
    "# Create an id2label mapping\n",
    "# We will need this for our classifier.\n",
    "id2label = {i: label for i, label in enumerate(class_names)}\n",
    "\n",
    "data_collator = DataCollatorWithPadding(tokenizer=tokenizer, return_tensors=\"pt\")\n"
   ]
  },
  {
   "cell_type": "markdown",
   "id": "c9e24afd",
   "metadata": {
    "id": "c9e24afd"
   },
   "source": [
    "## Load Pre-trained Model\n",
    "Set up config for pretrained model and download it from hugging face"
   ]
  },
  {
   "cell_type": "code",
   "execution_count": 11,
   "id": "262a8416-a59c-4ea1-95d9-0b1f81d6094c",
   "metadata": {
    "id": "262a8416-a59c-4ea1-95d9-0b1f81d6094c"
   },
   "outputs": [
    {
     "name": "stderr",
     "output_type": "stream",
     "text": [
      "Some weights of RobertaForSequenceClassification were not initialized from the model checkpoint at roberta-base and are newly initialized: ['classifier.dense.bias', 'classifier.dense.weight', 'classifier.out_proj.bias', 'classifier.out_proj.weight']\n",
      "You should probably TRAIN this model on a down-stream task to be able to use it for predictions and inference.\n"
     ]
    },
    {
     "data": {
      "text/plain": [
       "RobertaForSequenceClassification(\n",
       "  (roberta): RobertaModel(\n",
       "    (embeddings): RobertaEmbeddings(\n",
       "      (word_embeddings): Embedding(50265, 768, padding_idx=1)\n",
       "      (position_embeddings): Embedding(514, 768, padding_idx=1)\n",
       "      (token_type_embeddings): Embedding(1, 768)\n",
       "      (LayerNorm): LayerNorm((768,), eps=1e-05, elementwise_affine=True)\n",
       "      (dropout): Dropout(p=0.1, inplace=False)\n",
       "    )\n",
       "    (encoder): RobertaEncoder(\n",
       "      (layer): ModuleList(\n",
       "        (0-11): 12 x RobertaLayer(\n",
       "          (attention): RobertaAttention(\n",
       "            (self): RobertaSelfAttention(\n",
       "              (query): Linear(in_features=768, out_features=768, bias=True)\n",
       "              (key): Linear(in_features=768, out_features=768, bias=True)\n",
       "              (value): Linear(in_features=768, out_features=768, bias=True)\n",
       "              (dropout): Dropout(p=0.1, inplace=False)\n",
       "            )\n",
       "            (output): RobertaSelfOutput(\n",
       "              (dense): Linear(in_features=768, out_features=768, bias=True)\n",
       "              (LayerNorm): LayerNorm((768,), eps=1e-05, elementwise_affine=True)\n",
       "              (dropout): Dropout(p=0.1, inplace=False)\n",
       "            )\n",
       "          )\n",
       "          (intermediate): RobertaIntermediate(\n",
       "            (dense): Linear(in_features=768, out_features=3072, bias=True)\n",
       "            (intermediate_act_fn): GELUActivation()\n",
       "          )\n",
       "          (output): RobertaOutput(\n",
       "            (dense): Linear(in_features=3072, out_features=768, bias=True)\n",
       "            (LayerNorm): LayerNorm((768,), eps=1e-05, elementwise_affine=True)\n",
       "            (dropout): Dropout(p=0.1, inplace=False)\n",
       "          )\n",
       "        )\n",
       "      )\n",
       "    )\n",
       "  )\n",
       "  (classifier): RobertaClassificationHead(\n",
       "    (dense): Linear(in_features=768, out_features=768, bias=True)\n",
       "    (dropout): Dropout(p=0.1, inplace=False)\n",
       "    (out_proj): Linear(in_features=768, out_features=4, bias=True)\n",
       "  )\n",
       ")"
      ]
     },
     "execution_count": 11,
     "metadata": {},
     "output_type": "execute_result"
    }
   ],
   "source": [
    "model = RobertaForSequenceClassification.from_pretrained(\n",
    "    base_model,\n",
    "    id2label=id2label)\n",
    "model"
   ]
  },
  {
   "cell_type": "markdown",
   "id": "f265839d-a088-4693-8474-862641de11ed",
   "metadata": {
    "id": "f265839d-a088-4693-8474-862641de11ed"
   },
   "source": [
    "## Anything from here on can be modified"
   ]
  },
  {
   "cell_type": "code",
   "execution_count": 12,
   "id": "e7413430-be57-482b-856e-36bd4ba799df",
   "metadata": {
    "id": "e7413430-be57-482b-856e-36bd4ba799df"
   },
   "outputs": [],
   "source": [
    "# Split the original training set\n",
    "split_datasets = tokenized_dataset.train_test_split(test_size=640, seed=42)\n",
    "train_dataset = split_datasets['train']\n",
    "eval_dataset = split_datasets['test']"
   ]
  },
  {
   "cell_type": "markdown",
   "id": "652452e3",
   "metadata": {
    "id": "652452e3"
   },
   "source": [
    "## Setup LoRA Config\n",
    "Setup PEFT config and get peft model for finetuning"
   ]
  },
  {
   "cell_type": "code",
   "execution_count": 13,
   "id": "bd0ca0ea-86b8-47f7-8cbf-83da25685876",
   "metadata": {
    "id": "bd0ca0ea-86b8-47f7-8cbf-83da25685876"
   },
   "outputs": [],
   "source": [
    "peft_config = LoraConfig(\n",
    "    r=4,\n",
    "    lora_alpha=16,\n",
    "    lora_dropout=0.05,\n",
    "    bias=\"none\",\n",
    "    target_modules=[\"query\", \"value\"],\n",
    "    task_type=\"SEQ_CLS\"\n",
    ")"
   ]
  },
  {
   "cell_type": "code",
   "execution_count": 14,
   "id": "6ec2739d-76b6-4fde-91c2-0fc49e1884b0",
   "metadata": {
    "id": "6ec2739d-76b6-4fde-91c2-0fc49e1884b0"
   },
   "outputs": [
    {
     "data": {
      "text/plain": [
       "PeftModelForSequenceClassification(\n",
       "  (base_model): LoraModel(\n",
       "    (model): RobertaForSequenceClassification(\n",
       "      (roberta): RobertaModel(\n",
       "        (embeddings): RobertaEmbeddings(\n",
       "          (word_embeddings): Embedding(50265, 768, padding_idx=1)\n",
       "          (position_embeddings): Embedding(514, 768, padding_idx=1)\n",
       "          (token_type_embeddings): Embedding(1, 768)\n",
       "          (LayerNorm): LayerNorm((768,), eps=1e-05, elementwise_affine=True)\n",
       "          (dropout): Dropout(p=0.1, inplace=False)\n",
       "        )\n",
       "        (encoder): RobertaEncoder(\n",
       "          (layer): ModuleList(\n",
       "            (0-11): 12 x RobertaLayer(\n",
       "              (attention): RobertaAttention(\n",
       "                (self): RobertaSelfAttention(\n",
       "                  (query): lora.Linear(\n",
       "                    (base_layer): Linear(in_features=768, out_features=768, bias=True)\n",
       "                    (lora_dropout): ModuleDict(\n",
       "                      (default): Dropout(p=0.05, inplace=False)\n",
       "                    )\n",
       "                    (lora_A): ModuleDict(\n",
       "                      (default): Linear(in_features=768, out_features=4, bias=False)\n",
       "                    )\n",
       "                    (lora_B): ModuleDict(\n",
       "                      (default): Linear(in_features=4, out_features=768, bias=False)\n",
       "                    )\n",
       "                    (lora_embedding_A): ParameterDict()\n",
       "                    (lora_embedding_B): ParameterDict()\n",
       "                    (lora_magnitude_vector): ModuleDict()\n",
       "                  )\n",
       "                  (key): Linear(in_features=768, out_features=768, bias=True)\n",
       "                  (value): lora.Linear(\n",
       "                    (base_layer): Linear(in_features=768, out_features=768, bias=True)\n",
       "                    (lora_dropout): ModuleDict(\n",
       "                      (default): Dropout(p=0.05, inplace=False)\n",
       "                    )\n",
       "                    (lora_A): ModuleDict(\n",
       "                      (default): Linear(in_features=768, out_features=4, bias=False)\n",
       "                    )\n",
       "                    (lora_B): ModuleDict(\n",
       "                      (default): Linear(in_features=4, out_features=768, bias=False)\n",
       "                    )\n",
       "                    (lora_embedding_A): ParameterDict()\n",
       "                    (lora_embedding_B): ParameterDict()\n",
       "                    (lora_magnitude_vector): ModuleDict()\n",
       "                  )\n",
       "                  (dropout): Dropout(p=0.1, inplace=False)\n",
       "                )\n",
       "                (output): RobertaSelfOutput(\n",
       "                  (dense): Linear(in_features=768, out_features=768, bias=True)\n",
       "                  (LayerNorm): LayerNorm((768,), eps=1e-05, elementwise_affine=True)\n",
       "                  (dropout): Dropout(p=0.1, inplace=False)\n",
       "                )\n",
       "              )\n",
       "              (intermediate): RobertaIntermediate(\n",
       "                (dense): Linear(in_features=768, out_features=3072, bias=True)\n",
       "                (intermediate_act_fn): GELUActivation()\n",
       "              )\n",
       "              (output): RobertaOutput(\n",
       "                (dense): Linear(in_features=3072, out_features=768, bias=True)\n",
       "                (LayerNorm): LayerNorm((768,), eps=1e-05, elementwise_affine=True)\n",
       "                (dropout): Dropout(p=0.1, inplace=False)\n",
       "              )\n",
       "            )\n",
       "          )\n",
       "        )\n",
       "      )\n",
       "      (classifier): ModulesToSaveWrapper(\n",
       "        (original_module): RobertaClassificationHead(\n",
       "          (dense): Linear(in_features=768, out_features=768, bias=True)\n",
       "          (dropout): Dropout(p=0.1, inplace=False)\n",
       "          (out_proj): Linear(in_features=768, out_features=4, bias=True)\n",
       "        )\n",
       "        (modules_to_save): ModuleDict(\n",
       "          (default): RobertaClassificationHead(\n",
       "            (dense): Linear(in_features=768, out_features=768, bias=True)\n",
       "            (dropout): Dropout(p=0.1, inplace=False)\n",
       "            (out_proj): Linear(in_features=768, out_features=4, bias=True)\n",
       "          )\n",
       "        )\n",
       "      )\n",
       "    )\n",
       "  )\n",
       ")"
      ]
     },
     "execution_count": 14,
     "metadata": {},
     "output_type": "execute_result"
    }
   ],
   "source": [
    "peft_model = get_peft_model(model, peft_config)\n",
    "peft_model"
   ]
  },
  {
   "cell_type": "code",
   "execution_count": 15,
   "id": "da45f85c-b016-4c49-8808-6eafa7cb5d1b",
   "metadata": {
    "id": "da45f85c-b016-4c49-8808-6eafa7cb5d1b"
   },
   "outputs": [
    {
     "name": "stdout",
     "output_type": "stream",
     "text": [
      "PEFT Model\n",
      "trainable params: 741,124 || all params: 125,389,832 || trainable%: 0.5911\n"
     ]
    }
   ],
   "source": [
    "print('PEFT Model')\n",
    "peft_model.print_trainable_parameters()"
   ]
  },
  {
   "cell_type": "markdown",
   "id": "12284b58",
   "metadata": {
    "id": "12284b58"
   },
   "source": [
    "## Training Setup"
   ]
  },
  {
   "cell_type": "code",
   "execution_count": 19,
   "id": "0ee64c43-fe38-479a-b3c5-7d939a3db4c1",
   "metadata": {
    "id": "0ee64c43-fe38-479a-b3c5-7d939a3db4c1"
   },
   "outputs": [],
   "source": [
    "import wandb\n",
    "import seaborn as sns\n",
    "import matplotlib.pyplot as plt\n",
    "from typing import Dict\n",
    "from sklearn.metrics import (\n",
    "    accuracy_score, \n",
    "    precision_score, \n",
    "    recall_score, \n",
    "    f1_score, \n",
    "    confusion_matrix,\n",
    "    classification_report\n",
    ")\n",
    "\n",
    "def compute_metrics(pred):\n",
    "    \"\"\"\n",
    "    Compute and log comprehensive evaluation metrics\n",
    "    \"\"\"\n",
    "    labels = pred.label_ids\n",
    "    preds = pred.predictions.argmax(-1)\n",
    "    probs = torch.nn.functional.softmax(torch.tensor(pred.predictions), dim=-1)\n",
    "    \n",
    "    # Basic metrics\n",
    "    accuracy = accuracy_score(labels, preds)\n",
    "    precision_macro = precision_score(labels, preds, average='macro')\n",
    "    precision_micro = precision_score(labels, preds, average='micro')\n",
    "    precision_per_class = precision_score(labels, preds, average=None)\n",
    "    \n",
    "    recall_macro = recall_score(labels, preds, average='macro')\n",
    "    recall_micro = recall_score(labels, preds, average='micro')\n",
    "    recall_per_class = recall_score(labels, preds, average=None)\n",
    "    \n",
    "    f1_macro = f1_score(labels, preds, average='macro')\n",
    "    f1_micro = f1_score(labels, preds, average='micro')\n",
    "    f1_per_class = f1_score(labels, preds, average=None)\n",
    "    \n",
    "    # Per-class metrics\n",
    "    metrics_per_class = {}\n",
    "    for i, class_name in enumerate(id2label.values()):\n",
    "        metrics_per_class.update({\n",
    "            f'precision_class_{class_name}': precision_per_class[i],\n",
    "            f'recall_class_{class_name}': recall_per_class[i],\n",
    "            f'f1_class_{class_name}': f1_per_class[i]\n",
    "        })\n",
    "    \n",
    "    # Confusion matrix - only log to wandb\n",
    "    cm = confusion_matrix(labels, preds)\n",
    "    plt.figure(figsize=(10,8))\n",
    "    sns.heatmap(cm, annot=True, fmt='d', cmap='Blues',\n",
    "                xticklabels=list(id2label.values()),\n",
    "                yticklabels=list(id2label.values()))\n",
    "    plt.title('Confusion Matrix')\n",
    "    plt.ylabel('True Label')\n",
    "    plt.xlabel('Predicted Label')\n",
    "    \n",
    "    # Log confusion matrix to wandb\n",
    "    wandb.log({'eval/confusion_matrix': wandb.Image(plt)})\n",
    "    plt.close()\n",
    "    \n",
    "    # Confidence histograms - only log to wandb\n",
    "    for i in range(len(id2label)):\n",
    "        plt.figure(figsize=(8,6))\n",
    "        class_probs = probs[:, i].numpy()\n",
    "        plt.hist(class_probs, bins=50)\n",
    "        plt.title(f'Confidence Distribution - Class {id2label[i]}')\n",
    "        plt.xlabel('Confidence')\n",
    "        plt.ylabel('Count')\n",
    "        wandb.log({f'eval/confidence_dist_class_{id2label[i]}': wandb.Image(plt)})\n",
    "        plt.close()\n",
    "\n",
    "    # Log metrics to wandb\n",
    "    wandb.log({\n",
    "        'eval/accuracy': accuracy,\n",
    "        'eval/precision_macro': precision_macro,\n",
    "        'eval/precision_micro': precision_micro,\n",
    "        'eval/recall_macro': recall_macro,\n",
    "        'eval/recall_micro': recall_micro,\n",
    "        'eval/f1_macro': f1_macro,\n",
    "        'eval/f1_micro': f1_micro,\n",
    "    })\n",
    "    \n",
    "    # Return only JSON-serializable metrics\n",
    "    return {\n",
    "        'accuracy': accuracy,\n",
    "        'precision_macro': precision_macro,\n",
    "        'precision_micro': precision_micro,\n",
    "        'recall_macro': recall_macro,\n",
    "        'recall_micro': recall_micro,\n",
    "        'f1_macro': f1_macro,\n",
    "        'f1_micro': f1_micro,\n",
    "        **metrics_per_class\n",
    "    }\n",
    "\n",
    "class CustomTrainer(Trainer):\n",
    "    def __init__(self, *args, **kwargs):\n",
    "        super().__init__(*args, **kwargs)\n",
    "        self.gradient_norm = 0.0\n",
    "\n",
    "    def training_step(self, model, inputs):\n",
    "        \"\"\"Override training step to compute training metrics\"\"\"\n",
    "        loss = super().training_step(model, inputs)\n",
    "        \n",
    "        # Compute training accuracy\n",
    "        with torch.no_grad():\n",
    "            outputs = model(**inputs)\n",
    "            predictions = outputs.logits.argmax(-1)\n",
    "            accuracy = (predictions == inputs['labels']).float().mean()\n",
    "            \n",
    "            # Log training metrics\n",
    "            if self.state.global_step % self.args.logging_steps == 0:\n",
    "                wandb.log({\n",
    "                    'train/loss': loss.item(),\n",
    "                    'train/accuracy': accuracy.item(),\n",
    "                    'train/step': self.state.global_step\n",
    "                })\n",
    "        \n",
    "        # Compute gradient norm\n",
    "        if self.args.gradient_checkpointing:\n",
    "            self.gradient_norm = torch.norm(\n",
    "                torch.stack([\n",
    "                    torch.norm(p.grad.detach())\n",
    "                    for p in model.parameters()\n",
    "                    if p.grad is not None\n",
    "                ])\n",
    "            ).item()\n",
    "        \n",
    "        return loss\n",
    "\n",
    "    def log(self, logs: Dict[str, float]) -> None:\n",
    "        \"\"\"\n",
    "        Enhanced logging with additional training metrics\n",
    "        \"\"\"\n",
    "        if self.state.global_step % self.args.logging_steps == 0:\n",
    "            # Log learning rates\n",
    "            if hasattr(self.optimizer, \"param_groups\"):\n",
    "                current_lr = self.optimizer.param_groups[0]['lr']\n",
    "                wandb.log({\n",
    "                    'train/learning_rate': current_lr,\n",
    "                    'train/step': self.state.global_step\n",
    "                })\n",
    "            \n",
    "            # Log gradient norm\n",
    "            logs[\"train/gradient_norm\"] = self.gradient_norm\n",
    "            \n",
    "            # Log batch size\n",
    "            logs[\"train/batch_size\"] = self.args.per_device_train_batch_size\n",
    "            \n",
    "            # Log memory usage if using GPU\n",
    "            if torch.cuda.is_available():\n",
    "                logs[\"system/gpu_memory_allocated\"] = torch.cuda.memory_allocated() / 1024**2  # MB\n",
    "                logs[\"system/gpu_memory_cached\"] = torch.cuda.memory_reserved() / 1024**2  # MB\n",
    "            \n",
    "            # Log parameter statistics\n",
    "            for name, param in self.model.named_parameters():\n",
    "                if param.requires_grad:\n",
    "                    logs[f\"parameters/mean/{name}\"] = param.data.mean().item()\n",
    "                    logs[f\"parameters/std/{name}\"] = param.data.std().item()\n",
    "                    if param.grad is not None:\n",
    "                        logs[f\"gradients/mean/{name}\"] = param.grad.data.mean().item()\n",
    "                        logs[f\"gradients/std/{name}\"] = param.grad.data.std().item()\n",
    "            \n",
    "            # Log all metrics to wandb\n",
    "            wandb.log(logs)\n",
    "        \n",
    "        super().log(logs)\n",
    "\n",
    "# Setup Training args\n",
    "output_dir = \"results\"\n",
    "\n",
    "training_args = TrainingArguments(\n",
    "    output_dir=output_dir,\n",
    "    report_to='wandb',\n",
    "    eval_strategy='steps',\n",
    "    logging_steps=100,\n",
    "    eval_steps=200,\n",
    "    save_steps=400,\n",
    "    save_total_limit=2,\n",
    "\n",
    "    learning_rate=1e-4,  # LoRA\n",
    "    warmup_ratio=0.1,\n",
    "    num_train_epochs=2,\n",
    "    \n",
    "    per_device_train_batch_size=32,\n",
    "    per_device_eval_batch_size=16,\n",
    "\n",
    "    optim=\"adamw_torch\",  # BETTER THAN SGD\n",
    "    weight_decay=0.01,\n",
    "\n",
    "    gradient_checkpointing=False,\n",
    "    dataloader_num_workers=2,\n",
    "    load_best_model_at_end=True,\n",
    "    metric_for_best_model=\"accuracy\",\n",
    "    greater_is_better=True,\n",
    "    run_name=\"lora_finetuning_run_1\",\n",
    "    \n",
    "    logging_first_step=True, \n",
    "    logging_nan_inf_filter=False, \n",
    "    logging_strategy=\"steps\",  \n",
    "    label_names=[\"labels\"]\n",
    ")\n",
    "\n",
    "def get_trainer(model):\n",
    "    \"\"\"\n",
    "    Create a trainer instance with enhanced logging\n",
    "    \"\"\"\n",
    "    # Initialize wandb with detailed config\n",
    "    wandb.init(\n",
    "        project=\"ag_news_classification\",\n",
    "        name=f\"roberta_lora_{wandb.util.generate_id()}\",\n",
    "        config={\n",
    "            \"model_name\": base_model,\n",
    "            \"lora_config\": {\n",
    "                \"r\": peft_config.r,\n",
    "                \"alpha\": peft_config.lora_alpha,\n",
    "                \"dropout\": peft_config.lora_dropout,\n",
    "                \"target_modules\": peft_config.target_modules,\n",
    "            },\n",
    "            \"training_config\": {\n",
    "                \"learning_rate\": training_args.learning_rate,\n",
    "                \"batch_size\": training_args.per_device_train_batch_size,\n",
    "                \"epochs\": training_args.num_train_epochs,\n",
    "                \"warmup_ratio\": training_args.warmup_ratio,\n",
    "                \"weight_decay\": training_args.weight_decay,\n",
    "            },\n",
    "            \"augmentation_config\": augmentation_config,\n",
    "            \"dataset\": \"ag_news\",\n",
    "            \"train_size\": len(train_dataset),\n",
    "            \"eval_size\": len(eval_dataset),\n",
    "        }\n",
    "    )\n",
    "    \n",
    "    model.config.label2id = {label: i for i, label in enumerate(class_names)}\n",
    "    model.config.id2label = {i: label for i, label in enumerate(class_names)}\n",
    "    \n",
    "    return CustomTrainer(\n",
    "        model=model,\n",
    "        args=training_args,\n",
    "        compute_metrics=compute_metrics,\n",
    "        train_dataset=train_dataset,\n",
    "        eval_dataset=eval_dataset,\n",
    "        data_collator=data_collator,\n",
    "        callbacks=[EarlyStoppingCallback(early_stopping_patience=5)]\n",
    "    )"
   ]
  },
  {
   "cell_type": "markdown",
   "id": "9b848278",
   "metadata": {
    "id": "9b848278"
   },
   "source": [
    "### Start Training"
   ]
  },
  {
   "cell_type": "code",
   "execution_count": 20,
   "id": "41d9c7da",
   "metadata": {},
   "outputs": [],
   "source": [
    "!export CUDA_VISIBLE_DEVICES=3\n"
   ]
  },
  {
   "cell_type": "code",
   "execution_count": 21,
   "id": "98d9d57d-b57f-4acc-80fb-fc5443e75515",
   "metadata": {
    "id": "98d9d57d-b57f-4acc-80fb-fc5443e75515"
   },
   "outputs": [
    {
     "data": {
      "text/html": [
       "Finishing last run (ID:8dss67wl) before initializing another..."
      ],
      "text/plain": [
       "<IPython.core.display.HTML object>"
      ]
     },
     "metadata": {},
     "output_type": "display_data"
    },
    {
     "data": {
      "application/vnd.jupyter.widget-view+json": {
       "model_id": "0a9db2ab4d384b8683cbbc4945f11ca9",
       "version_major": 2,
       "version_minor": 0
      },
      "text/plain": [
       "VBox(children=(Label(value='0.271 MB of 0.271 MB uploaded\\r'), FloatProgress(value=1.0, max=1.0)))"
      ]
     },
     "metadata": {},
     "output_type": "display_data"
    },
    {
     "data": {
      "text/html": [
       "<style>\n",
       "    table.wandb td:nth-child(1) { padding: 0 10px; text-align: left ; width: auto;} td:nth-child(2) {text-align: left ; width: 100%}\n",
       "    .wandb-row { display: flex; flex-direction: row; flex-wrap: wrap; justify-content: flex-start; width: 100% }\n",
       "    .wandb-col { display: flex; flex-direction: column; flex-basis: 100%; flex: 1; padding: 10px; }\n",
       "    </style>\n",
       "<div class=\"wandb-row\"><div class=\"wandb-col\"><h3>Run history:</h3><br/><table class=\"wandb\"><tr><td>eval/accuracy</td><td>▁▁██</td></tr><tr><td>eval/f1_class_Business</td><td>▁█</td></tr><tr><td>eval/f1_class_Sci/Tech</td><td>▁█</td></tr><tr><td>eval/f1_class_Sports</td><td>▁█</td></tr><tr><td>eval/f1_class_World</td><td>▁█</td></tr><tr><td>eval/f1_macro</td><td>▁▁██</td></tr><tr><td>eval/f1_micro</td><td>▁▁██</td></tr><tr><td>eval/loss</td><td>█▁</td></tr><tr><td>eval/precision_class_Business</td><td>▁█</td></tr><tr><td>eval/precision_class_Sci/Tech</td><td>█▁</td></tr><tr><td>eval/precision_class_Sports</td><td>▁█</td></tr><tr><td>eval/precision_class_World</td><td>▁█</td></tr><tr><td>eval/precision_macro</td><td>▁▁██</td></tr><tr><td>eval/precision_micro</td><td>▁▁██</td></tr><tr><td>eval/recall_class_Business</td><td>█▁</td></tr><tr><td>eval/recall_class_Sci/Tech</td><td>▁█</td></tr><tr><td>eval/recall_class_Sports</td><td>▁█</td></tr><tr><td>eval/recall_class_World</td><td>█▁</td></tr><tr><td>eval/recall_macro</td><td>▁▁██</td></tr><tr><td>eval/recall_micro</td><td>▁▁██</td></tr><tr><td>eval/runtime</td><td>█▁</td></tr><tr><td>eval/samples_per_second</td><td>▁█</td></tr><tr><td>eval/steps_per_second</td><td>▁█</td></tr><tr><td>eval_accuracy</td><td>▁█</td></tr><tr><td>eval_f1_class_Business</td><td>▁█</td></tr><tr><td>eval_f1_class_Sci/Tech</td><td>▁█</td></tr><tr><td>eval_f1_class_Sports</td><td>▁█</td></tr><tr><td>eval_f1_class_World</td><td>▁█</td></tr><tr><td>eval_f1_macro</td><td>▁█</td></tr><tr><td>eval_f1_micro</td><td>▁█</td></tr><tr><td>eval_loss</td><td>█▁</td></tr><tr><td>eval_precision_class_Business</td><td>▁█</td></tr><tr><td>eval_precision_class_Sci/Tech</td><td>█▁</td></tr><tr><td>eval_precision_class_Sports</td><td>▁█</td></tr><tr><td>eval_precision_class_World</td><td>▁█</td></tr><tr><td>eval_precision_macro</td><td>▁█</td></tr><tr><td>eval_precision_micro</td><td>▁█</td></tr><tr><td>eval_recall_class_Business</td><td>█▁</td></tr><tr><td>eval_recall_class_Sci/Tech</td><td>▁█</td></tr><tr><td>eval_recall_class_Sports</td><td>▁█</td></tr><tr><td>eval_recall_class_World</td><td>█▁</td></tr><tr><td>eval_recall_macro</td><td>▁█</td></tr><tr><td>eval_recall_micro</td><td>▁█</td></tr><tr><td>eval_runtime</td><td>█▁</td></tr><tr><td>eval_samples_per_second</td><td>▁█</td></tr><tr><td>eval_steps_per_second</td><td>▁█</td></tr><tr><td>grad_norm</td><td>▁▅█▃</td></tr><tr><td>learning_rate</td><td>▁█▇▆</td></tr><tr><td>loss</td><td>█▂▁▁</td></tr><tr><td>parameters/mean/base_model.model.classifier.modules_to_save.default.dense.bias</td><td>▁▃▃▃██</td></tr><tr><td>parameters/mean/base_model.model.classifier.modules_to_save.default.dense.weight</td><td>▁██▃▇▇</td></tr><tr><td>parameters/mean/base_model.model.classifier.modules_to_save.default.out_proj.bias</td><td>▁▂▂▃██</td></tr><tr><td>parameters/mean/base_model.model.classifier.modules_to_save.default.out_proj.weight</td><td>▁██▅▅▅</td></tr><tr><td>parameters/mean/base_model.model.roberta.encoder.layer.0.attention.self.query.lora_A.default.weight</td><td>▁▄▄▅██</td></tr><tr><td>parameters/mean/base_model.model.roberta.encoder.layer.0.attention.self.query.lora_B.default.weight</td><td>▇██▁▂▂</td></tr><tr><td>parameters/mean/base_model.model.roberta.encoder.layer.0.attention.self.value.lora_A.default.weight</td><td>▁▆▆███</td></tr><tr><td>parameters/mean/base_model.model.roberta.encoder.layer.0.attention.self.value.lora_B.default.weight</td><td>█▆▆▂▁▁</td></tr><tr><td>parameters/mean/base_model.model.roberta.encoder.layer.1.attention.self.query.lora_A.default.weight</td><td>█▄▄▁▂▂</td></tr><tr><td>parameters/mean/base_model.model.roberta.encoder.layer.1.attention.self.query.lora_B.default.weight</td><td>▁▅▅███</td></tr><tr><td>parameters/mean/base_model.model.roberta.encoder.layer.1.attention.self.value.lora_A.default.weight</td><td>▁▆▆███</td></tr><tr><td>parameters/mean/base_model.model.roberta.encoder.layer.1.attention.self.value.lora_B.default.weight</td><td>▁██▅▆▆</td></tr><tr><td>parameters/mean/base_model.model.roberta.encoder.layer.10.attention.self.query.lora_A.default.weight</td><td>█▂▂▁▁▁</td></tr><tr><td>parameters/mean/base_model.model.roberta.encoder.layer.10.attention.self.query.lora_B.default.weight</td><td>█▂▂▂▁▁</td></tr><tr><td>parameters/mean/base_model.model.roberta.encoder.layer.10.attention.self.value.lora_A.default.weight</td><td>▁█████</td></tr><tr><td>parameters/mean/base_model.model.roberta.encoder.layer.10.attention.self.value.lora_B.default.weight</td><td>█▂▂▂▁▁</td></tr><tr><td>parameters/mean/base_model.model.roberta.encoder.layer.11.attention.self.query.lora_A.default.weight</td><td>▁▇▇▇██</td></tr><tr><td>parameters/mean/base_model.model.roberta.encoder.layer.11.attention.self.query.lora_B.default.weight</td><td>▁█████</td></tr><tr><td>parameters/mean/base_model.model.roberta.encoder.layer.11.attention.self.value.lora_A.default.weight</td><td>▁█████</td></tr><tr><td>parameters/mean/base_model.model.roberta.encoder.layer.11.attention.self.value.lora_B.default.weight</td><td>█▁▁▂▁▁</td></tr><tr><td>parameters/mean/base_model.model.roberta.encoder.layer.2.attention.self.query.lora_A.default.weight</td><td>█▆▆▃▁▁</td></tr><tr><td>parameters/mean/base_model.model.roberta.encoder.layer.2.attention.self.query.lora_B.default.weight</td><td>▁▄▄▄██</td></tr><tr><td>parameters/mean/base_model.model.roberta.encoder.layer.2.attention.self.value.lora_A.default.weight</td><td>▁██▇▇▇</td></tr><tr><td>parameters/mean/base_model.model.roberta.encoder.layer.2.attention.self.value.lora_B.default.weight</td><td>▁▄▄▆██</td></tr><tr><td>parameters/mean/base_model.model.roberta.encoder.layer.3.attention.self.query.lora_A.default.weight</td><td>▁▃▃▅██</td></tr><tr><td>parameters/mean/base_model.model.roberta.encoder.layer.3.attention.self.query.lora_B.default.weight</td><td>▁▇▇▅██</td></tr><tr><td>parameters/mean/base_model.model.roberta.encoder.layer.3.attention.self.value.lora_A.default.weight</td><td>█▁▁▂▁▁</td></tr><tr><td>parameters/mean/base_model.model.roberta.encoder.layer.3.attention.self.value.lora_B.default.weight</td><td>▁██▅▄▄</td></tr><tr><td>parameters/mean/base_model.model.roberta.encoder.layer.4.attention.self.query.lora_A.default.weight</td><td>▁▅▅█▇▇</td></tr><tr><td>parameters/mean/base_model.model.roberta.encoder.layer.4.attention.self.query.lora_B.default.weight</td><td>▁▄▄███</td></tr><tr><td>parameters/mean/base_model.model.roberta.encoder.layer.4.attention.self.value.lora_A.default.weight</td><td>█▁▁▁▂▂</td></tr><tr><td>parameters/mean/base_model.model.roberta.encoder.layer.4.attention.self.value.lora_B.default.weight</td><td>█▁▁▃██</td></tr><tr><td>parameters/mean/base_model.model.roberta.encoder.layer.5.attention.self.query.lora_A.default.weight</td><td>█▁▁▁▅▅</td></tr><tr><td>parameters/mean/base_model.model.roberta.encoder.layer.5.attention.self.query.lora_B.default.weight</td><td>█▂▂▅▁▁</td></tr><tr><td>parameters/mean/base_model.model.roberta.encoder.layer.5.attention.self.value.lora_A.default.weight</td><td>▁▆▆█▆▆</td></tr><tr><td>parameters/mean/base_model.model.roberta.encoder.layer.5.attention.self.value.lora_B.default.weight</td><td>█▁▁▄▆▆</td></tr><tr><td>parameters/mean/base_model.model.roberta.encoder.layer.6.attention.self.query.lora_A.default.weight</td><td>█▃▃▂▁▁</td></tr><tr><td>parameters/mean/base_model.model.roberta.encoder.layer.6.attention.self.query.lora_B.default.weight</td><td>▁▄▄▅██</td></tr><tr><td>parameters/mean/base_model.model.roberta.encoder.layer.6.attention.self.value.lora_A.default.weight</td><td>▆▁▁▃██</td></tr><tr><td>parameters/mean/base_model.model.roberta.encoder.layer.6.attention.self.value.lora_B.default.weight</td><td>█▃▃▁▁▁</td></tr><tr><td>parameters/mean/base_model.model.roberta.encoder.layer.7.attention.self.query.lora_A.default.weight</td><td>█▇▇▃▁▁</td></tr><tr><td>parameters/mean/base_model.model.roberta.encoder.layer.7.attention.self.query.lora_B.default.weight</td><td>█▂▂▁▁▁</td></tr><tr><td>parameters/mean/base_model.model.roberta.encoder.layer.7.attention.self.value.lora_A.default.weight</td><td>▁█████</td></tr><tr><td>parameters/mean/base_model.model.roberta.encoder.layer.7.attention.self.value.lora_B.default.weight</td><td>▆██▁▃▃</td></tr><tr><td>parameters/mean/base_model.model.roberta.encoder.layer.8.attention.self.query.lora_A.default.weight</td><td>▁▄▄▆██</td></tr><tr><td>parameters/mean/base_model.model.roberta.encoder.layer.8.attention.self.query.lora_B.default.weight</td><td>▁▅▅▇██</td></tr><tr><td>parameters/mean/base_model.model.roberta.encoder.layer.8.attention.self.value.lora_A.default.weight</td><td>▁█████</td></tr><tr><td>parameters/mean/base_model.model.roberta.encoder.layer.8.attention.self.value.lora_B.default.weight</td><td>▁▇▇▇██</td></tr><tr><td>parameters/mean/base_model.model.roberta.encoder.layer.9.attention.self.query.lora_A.default.weight</td><td>█▃▃▂▁▁</td></tr><tr><td>parameters/mean/base_model.model.roberta.encoder.layer.9.attention.self.query.lora_B.default.weight</td><td>█▄▄▁▁▁</td></tr><tr><td>parameters/mean/base_model.model.roberta.encoder.layer.9.attention.self.value.lora_A.default.weight</td><td>▂▁▁▃██</td></tr><tr><td>parameters/mean/base_model.model.roberta.encoder.layer.9.attention.self.value.lora_B.default.weight</td><td>█▁▁▅▇▇</td></tr><tr><td>parameters/std/base_model.model.classifier.modules_to_save.default.dense.bias</td><td>▁▄▄▅██</td></tr><tr><td>parameters/std/base_model.model.classifier.modules_to_save.default.dense.weight</td><td>▁▆▆▇██</td></tr><tr><td>parameters/std/base_model.model.classifier.modules_to_save.default.out_proj.bias</td><td>▁▃▃▄██</td></tr><tr><td>parameters/std/base_model.model.classifier.modules_to_save.default.out_proj.weight</td><td>▁▆▆▇██</td></tr><tr><td>parameters/std/base_model.model.roberta.encoder.layer.0.attention.self.query.lora_A.default.weight</td><td>▁▃▃▅██</td></tr><tr><td>parameters/std/base_model.model.roberta.encoder.layer.0.attention.self.query.lora_B.default.weight</td><td>▁▄▄▆██</td></tr><tr><td>parameters/std/base_model.model.roberta.encoder.layer.0.attention.self.value.lora_A.default.weight</td><td>▁▅▅▇██</td></tr><tr><td>parameters/std/base_model.model.roberta.encoder.layer.0.attention.self.value.lora_B.default.weight</td><td>▁▆▆▇██</td></tr><tr><td>parameters/std/base_model.model.roberta.encoder.layer.1.attention.self.query.lora_A.default.weight</td><td>▁▃▃▅██</td></tr><tr><td>parameters/std/base_model.model.roberta.encoder.layer.1.attention.self.query.lora_B.default.weight</td><td>▁▄▄▆██</td></tr><tr><td>parameters/std/base_model.model.roberta.encoder.layer.1.attention.self.value.lora_A.default.weight</td><td>▁▇▇▇██</td></tr><tr><td>parameters/std/base_model.model.roberta.encoder.layer.1.attention.self.value.lora_B.default.weight</td><td>▁▆▆▇██</td></tr><tr><td>parameters/std/base_model.model.roberta.encoder.layer.10.attention.self.query.lora_A.default.weight</td><td>▁▅▅▆██</td></tr><tr><td>parameters/std/base_model.model.roberta.encoder.layer.10.attention.self.query.lora_B.default.weight</td><td>▁▆▆▇██</td></tr><tr><td>parameters/std/base_model.model.roberta.encoder.layer.10.attention.self.value.lora_A.default.weight</td><td>▁▇▇███</td></tr><tr><td>parameters/std/base_model.model.roberta.encoder.layer.10.attention.self.value.lora_B.default.weight</td><td>▁▇▇███</td></tr><tr><td>parameters/std/base_model.model.roberta.encoder.layer.11.attention.self.query.lora_A.default.weight</td><td>▁▇▇███</td></tr><tr><td>parameters/std/base_model.model.roberta.encoder.layer.11.attention.self.query.lora_B.default.weight</td><td>▁▇▇▇██</td></tr><tr><td>parameters/std/base_model.model.roberta.encoder.layer.11.attention.self.value.lora_A.default.weight</td><td>▁▇▇███</td></tr><tr><td>parameters/std/base_model.model.roberta.encoder.layer.11.attention.self.value.lora_B.default.weight</td><td>▁▇▇███</td></tr><tr><td>parameters/std/base_model.model.roberta.encoder.layer.2.attention.self.query.lora_A.default.weight</td><td>▁▂▂▆██</td></tr><tr><td>parameters/std/base_model.model.roberta.encoder.layer.2.attention.self.query.lora_B.default.weight</td><td>▁▄▄▆██</td></tr><tr><td>parameters/std/base_model.model.roberta.encoder.layer.2.attention.self.value.lora_A.default.weight</td><td>▁▅▅▆██</td></tr><tr><td>parameters/std/base_model.model.roberta.encoder.layer.2.attention.self.value.lora_B.default.weight</td><td>▁▆▆▇██</td></tr><tr><td>parameters/std/base_model.model.roberta.encoder.layer.3.attention.self.query.lora_A.default.weight</td><td>▁▂▂▅██</td></tr><tr><td>parameters/std/base_model.model.roberta.encoder.layer.3.attention.self.query.lora_B.default.weight</td><td>▁▄▄▆██</td></tr><tr><td>parameters/std/base_model.model.roberta.encoder.layer.3.attention.self.value.lora_A.default.weight</td><td>▁▇▇▇██</td></tr><tr><td>parameters/std/base_model.model.roberta.encoder.layer.3.attention.self.value.lora_B.default.weight</td><td>▁▆▆▇██</td></tr><tr><td>parameters/std/base_model.model.roberta.encoder.layer.4.attention.self.query.lora_A.default.weight</td><td>▁▃▃▆██</td></tr><tr><td>parameters/std/base_model.model.roberta.encoder.layer.4.attention.self.query.lora_B.default.weight</td><td>▁▅▅▇██</td></tr><tr><td>parameters/std/base_model.model.roberta.encoder.layer.4.attention.self.value.lora_A.default.weight</td><td>▁█████</td></tr><tr><td>parameters/std/base_model.model.roberta.encoder.layer.4.attention.self.value.lora_B.default.weight</td><td>▁▇▇███</td></tr><tr><td>parameters/std/base_model.model.roberta.encoder.layer.5.attention.self.query.lora_A.default.weight</td><td>▁▄▄▆██</td></tr><tr><td>parameters/std/base_model.model.roberta.encoder.layer.5.attention.self.query.lora_B.default.weight</td><td>▁▆▆▇██</td></tr><tr><td>parameters/std/base_model.model.roberta.encoder.layer.5.attention.self.value.lora_A.default.weight</td><td>▁███▇▇</td></tr><tr><td>parameters/std/base_model.model.roberta.encoder.layer.5.attention.self.value.lora_B.default.weight</td><td>▁▇▇███</td></tr><tr><td>parameters/std/base_model.model.roberta.encoder.layer.6.attention.self.query.lora_A.default.weight</td><td>▁▅▅▇██</td></tr><tr><td>parameters/std/base_model.model.roberta.encoder.layer.6.attention.self.query.lora_B.default.weight</td><td>▁▆▆▇██</td></tr><tr><td>parameters/std/base_model.model.roberta.encoder.layer.6.attention.self.value.lora_A.default.weight</td><td>▁██▇▆▆</td></tr><tr><td>parameters/std/base_model.model.roberta.encoder.layer.6.attention.self.value.lora_B.default.weight</td><td>▁▇▇███</td></tr><tr><td>parameters/std/base_model.model.roberta.encoder.layer.7.attention.self.query.lora_A.default.weight</td><td>▁▅▅▇██</td></tr><tr><td>parameters/std/base_model.model.roberta.encoder.layer.7.attention.self.query.lora_B.default.weight</td><td>▁▆▆▇██</td></tr><tr><td>parameters/std/base_model.model.roberta.encoder.layer.7.attention.self.value.lora_A.default.weight</td><td>▁▇▇███</td></tr><tr><td>parameters/std/base_model.model.roberta.encoder.layer.7.attention.self.value.lora_B.default.weight</td><td>▁▇▇███</td></tr><tr><td>parameters/std/base_model.model.roberta.encoder.layer.8.attention.self.query.lora_A.default.weight</td><td>▁▇▇███</td></tr><tr><td>parameters/std/base_model.model.roberta.encoder.layer.8.attention.self.query.lora_B.default.weight</td><td>▁▇▇███</td></tr><tr><td>parameters/std/base_model.model.roberta.encoder.layer.8.attention.self.value.lora_A.default.weight</td><td>▁█████</td></tr><tr><td>parameters/std/base_model.model.roberta.encoder.layer.8.attention.self.value.lora_B.default.weight</td><td>▁▇▇███</td></tr><tr><td>parameters/std/base_model.model.roberta.encoder.layer.9.attention.self.query.lora_A.default.weight</td><td>▁▄▄▅██</td></tr><tr><td>parameters/std/base_model.model.roberta.encoder.layer.9.attention.self.query.lora_B.default.weight</td><td>▁▆▆▇██</td></tr><tr><td>parameters/std/base_model.model.roberta.encoder.layer.9.attention.self.value.lora_A.default.weight</td><td>▁▇▇███</td></tr><tr><td>parameters/std/base_model.model.roberta.encoder.layer.9.attention.self.value.lora_B.default.weight</td><td>▁▇▇███</td></tr><tr><td>system/gpu_memory_allocated</td><td>▁▁█▁▁█</td></tr><tr><td>system/gpu_memory_cached</td><td>▁▁▁▁▁▁</td></tr><tr><td>train/accuracy</td><td>▁▆██</td></tr><tr><td>train/batch_size</td><td>▁▁▁▁▁▁</td></tr><tr><td>train/epoch</td><td>▁▃▄▄▆██</td></tr><tr><td>train/global_step</td><td>▁▁▁▃▃▃▃▄▄▄▄▄▄▄▄▆▆▆▆█████</td></tr><tr><td>train/grad_norm</td><td>▃▁▅█▃</td></tr><tr><td>train/gradient_norm</td><td>▁▁▁▁▁▁</td></tr><tr><td>train/learning_rate</td><td>▁▅▅█████▇▇▇</td></tr><tr><td>train/loss</td><td>███▇▂▂▁▁▁</td></tr><tr><td>train/parameters/mean/base_model.model.classifier.modules_to_save.default.dense.bias</td><td>▁▃▃▃██</td></tr><tr><td>train/parameters/mean/base_model.model.classifier.modules_to_save.default.dense.weight</td><td>▁██▃▇▇</td></tr><tr><td>train/parameters/mean/base_model.model.classifier.modules_to_save.default.out_proj.bias</td><td>▁▂▂▃██</td></tr><tr><td>train/parameters/mean/base_model.model.classifier.modules_to_save.default.out_proj.weight</td><td>▁██▅▅▅</td></tr><tr><td>train/parameters/mean/base_model.model.roberta.encoder.layer.0.attention.self.query.lora_A.default.weight</td><td>▁▄▄▅██</td></tr><tr><td>train/parameters/mean/base_model.model.roberta.encoder.layer.0.attention.self.query.lora_B.default.weight</td><td>▇██▁▂▂</td></tr><tr><td>train/parameters/mean/base_model.model.roberta.encoder.layer.0.attention.self.value.lora_A.default.weight</td><td>▁▆▆███</td></tr><tr><td>train/parameters/mean/base_model.model.roberta.encoder.layer.0.attention.self.value.lora_B.default.weight</td><td>█▆▆▂▁▁</td></tr><tr><td>train/parameters/mean/base_model.model.roberta.encoder.layer.1.attention.self.query.lora_A.default.weight</td><td>█▄▄▁▂▂</td></tr><tr><td>train/parameters/mean/base_model.model.roberta.encoder.layer.1.attention.self.query.lora_B.default.weight</td><td>▁▅▅███</td></tr><tr><td>train/parameters/mean/base_model.model.roberta.encoder.layer.1.attention.self.value.lora_A.default.weight</td><td>▁▆▆███</td></tr><tr><td>train/parameters/mean/base_model.model.roberta.encoder.layer.1.attention.self.value.lora_B.default.weight</td><td>▁██▅▆▆</td></tr><tr><td>train/parameters/mean/base_model.model.roberta.encoder.layer.10.attention.self.query.lora_A.default.weight</td><td>█▂▂▁▁▁</td></tr><tr><td>train/parameters/mean/base_model.model.roberta.encoder.layer.10.attention.self.query.lora_B.default.weight</td><td>█▂▂▂▁▁</td></tr><tr><td>train/parameters/mean/base_model.model.roberta.encoder.layer.10.attention.self.value.lora_A.default.weight</td><td>▁█████</td></tr><tr><td>train/parameters/mean/base_model.model.roberta.encoder.layer.10.attention.self.value.lora_B.default.weight</td><td>█▂▂▂▁▁</td></tr><tr><td>train/parameters/mean/base_model.model.roberta.encoder.layer.11.attention.self.query.lora_A.default.weight</td><td>▁▇▇▇██</td></tr><tr><td>train/parameters/mean/base_model.model.roberta.encoder.layer.11.attention.self.query.lora_B.default.weight</td><td>▁█████</td></tr><tr><td>train/parameters/mean/base_model.model.roberta.encoder.layer.11.attention.self.value.lora_A.default.weight</td><td>▁█████</td></tr><tr><td>train/parameters/mean/base_model.model.roberta.encoder.layer.11.attention.self.value.lora_B.default.weight</td><td>█▁▁▂▁▁</td></tr><tr><td>train/parameters/mean/base_model.model.roberta.encoder.layer.2.attention.self.query.lora_A.default.weight</td><td>█▆▆▃▁▁</td></tr><tr><td>train/parameters/mean/base_model.model.roberta.encoder.layer.2.attention.self.query.lora_B.default.weight</td><td>▁▄▄▄██</td></tr><tr><td>train/parameters/mean/base_model.model.roberta.encoder.layer.2.attention.self.value.lora_A.default.weight</td><td>▁██▇▇▇</td></tr><tr><td>train/parameters/mean/base_model.model.roberta.encoder.layer.2.attention.self.value.lora_B.default.weight</td><td>▁▄▄▆██</td></tr><tr><td>train/parameters/mean/base_model.model.roberta.encoder.layer.3.attention.self.query.lora_A.default.weight</td><td>▁▃▃▅██</td></tr><tr><td>train/parameters/mean/base_model.model.roberta.encoder.layer.3.attention.self.query.lora_B.default.weight</td><td>▁▇▇▅██</td></tr><tr><td>train/parameters/mean/base_model.model.roberta.encoder.layer.3.attention.self.value.lora_A.default.weight</td><td>█▁▁▂▁▁</td></tr><tr><td>train/parameters/mean/base_model.model.roberta.encoder.layer.3.attention.self.value.lora_B.default.weight</td><td>▁██▅▄▄</td></tr><tr><td>train/parameters/mean/base_model.model.roberta.encoder.layer.4.attention.self.query.lora_A.default.weight</td><td>▁▅▅█▇▇</td></tr><tr><td>train/parameters/mean/base_model.model.roberta.encoder.layer.4.attention.self.query.lora_B.default.weight</td><td>▁▄▄███</td></tr><tr><td>train/parameters/mean/base_model.model.roberta.encoder.layer.4.attention.self.value.lora_A.default.weight</td><td>█▁▁▁▂▂</td></tr><tr><td>train/parameters/mean/base_model.model.roberta.encoder.layer.4.attention.self.value.lora_B.default.weight</td><td>█▁▁▃██</td></tr><tr><td>train/parameters/mean/base_model.model.roberta.encoder.layer.5.attention.self.query.lora_A.default.weight</td><td>█▁▁▁▅▅</td></tr><tr><td>train/parameters/mean/base_model.model.roberta.encoder.layer.5.attention.self.query.lora_B.default.weight</td><td>█▂▂▅▁▁</td></tr><tr><td>train/parameters/mean/base_model.model.roberta.encoder.layer.5.attention.self.value.lora_A.default.weight</td><td>▁▆▆█▆▆</td></tr><tr><td>train/parameters/mean/base_model.model.roberta.encoder.layer.5.attention.self.value.lora_B.default.weight</td><td>█▁▁▄▆▆</td></tr><tr><td>train/parameters/mean/base_model.model.roberta.encoder.layer.6.attention.self.query.lora_A.default.weight</td><td>█▃▃▂▁▁</td></tr><tr><td>train/parameters/mean/base_model.model.roberta.encoder.layer.6.attention.self.query.lora_B.default.weight</td><td>▁▄▄▅██</td></tr><tr><td>train/parameters/mean/base_model.model.roberta.encoder.layer.6.attention.self.value.lora_A.default.weight</td><td>▆▁▁▃██</td></tr><tr><td>train/parameters/mean/base_model.model.roberta.encoder.layer.6.attention.self.value.lora_B.default.weight</td><td>█▃▃▁▁▁</td></tr><tr><td>train/parameters/mean/base_model.model.roberta.encoder.layer.7.attention.self.query.lora_A.default.weight</td><td>█▇▇▃▁▁</td></tr><tr><td>train/parameters/mean/base_model.model.roberta.encoder.layer.7.attention.self.query.lora_B.default.weight</td><td>█▂▂▁▁▁</td></tr><tr><td>train/parameters/mean/base_model.model.roberta.encoder.layer.7.attention.self.value.lora_A.default.weight</td><td>▁█████</td></tr><tr><td>train/parameters/mean/base_model.model.roberta.encoder.layer.7.attention.self.value.lora_B.default.weight</td><td>▆██▁▃▃</td></tr><tr><td>train/parameters/mean/base_model.model.roberta.encoder.layer.8.attention.self.query.lora_A.default.weight</td><td>▁▄▄▆██</td></tr><tr><td>train/parameters/mean/base_model.model.roberta.encoder.layer.8.attention.self.query.lora_B.default.weight</td><td>▁▅▅▇██</td></tr><tr><td>train/parameters/mean/base_model.model.roberta.encoder.layer.8.attention.self.value.lora_A.default.weight</td><td>▁█████</td></tr><tr><td>train/parameters/mean/base_model.model.roberta.encoder.layer.8.attention.self.value.lora_B.default.weight</td><td>▁▇▇▇██</td></tr><tr><td>train/parameters/mean/base_model.model.roberta.encoder.layer.9.attention.self.query.lora_A.default.weight</td><td>█▃▃▂▁▁</td></tr><tr><td>train/parameters/mean/base_model.model.roberta.encoder.layer.9.attention.self.query.lora_B.default.weight</td><td>█▄▄▁▁▁</td></tr><tr><td>train/parameters/mean/base_model.model.roberta.encoder.layer.9.attention.self.value.lora_A.default.weight</td><td>▂▁▁▃██</td></tr><tr><td>train/parameters/mean/base_model.model.roberta.encoder.layer.9.attention.self.value.lora_B.default.weight</td><td>█▁▁▅▇▇</td></tr><tr><td>train/parameters/std/base_model.model.classifier.modules_to_save.default.dense.bias</td><td>▁▄▄▅██</td></tr><tr><td>train/parameters/std/base_model.model.classifier.modules_to_save.default.dense.weight</td><td>▁▆▆▇██</td></tr><tr><td>train/parameters/std/base_model.model.classifier.modules_to_save.default.out_proj.bias</td><td>▁▃▃▄██</td></tr><tr><td>train/parameters/std/base_model.model.classifier.modules_to_save.default.out_proj.weight</td><td>▁▆▆▇██</td></tr><tr><td>train/parameters/std/base_model.model.roberta.encoder.layer.0.attention.self.query.lora_A.default.weight</td><td>▁▃▃▅██</td></tr><tr><td>train/parameters/std/base_model.model.roberta.encoder.layer.0.attention.self.query.lora_B.default.weight</td><td>▁▄▄▆██</td></tr><tr><td>train/parameters/std/base_model.model.roberta.encoder.layer.0.attention.self.value.lora_A.default.weight</td><td>▁▅▅▇██</td></tr><tr><td>train/parameters/std/base_model.model.roberta.encoder.layer.0.attention.self.value.lora_B.default.weight</td><td>▁▆▆▇██</td></tr><tr><td>train/parameters/std/base_model.model.roberta.encoder.layer.1.attention.self.query.lora_A.default.weight</td><td>▁▃▃▅██</td></tr><tr><td>train/parameters/std/base_model.model.roberta.encoder.layer.1.attention.self.query.lora_B.default.weight</td><td>▁▄▄▆██</td></tr><tr><td>train/parameters/std/base_model.model.roberta.encoder.layer.1.attention.self.value.lora_A.default.weight</td><td>▁▇▇▇██</td></tr><tr><td>train/parameters/std/base_model.model.roberta.encoder.layer.1.attention.self.value.lora_B.default.weight</td><td>▁▆▆▇██</td></tr><tr><td>train/parameters/std/base_model.model.roberta.encoder.layer.10.attention.self.query.lora_A.default.weight</td><td>▁▅▅▆██</td></tr><tr><td>train/parameters/std/base_model.model.roberta.encoder.layer.10.attention.self.query.lora_B.default.weight</td><td>▁▆▆▇██</td></tr><tr><td>train/parameters/std/base_model.model.roberta.encoder.layer.10.attention.self.value.lora_A.default.weight</td><td>▁▇▇███</td></tr><tr><td>train/parameters/std/base_model.model.roberta.encoder.layer.10.attention.self.value.lora_B.default.weight</td><td>▁▇▇███</td></tr><tr><td>train/parameters/std/base_model.model.roberta.encoder.layer.11.attention.self.query.lora_A.default.weight</td><td>▁▇▇███</td></tr><tr><td>train/parameters/std/base_model.model.roberta.encoder.layer.11.attention.self.query.lora_B.default.weight</td><td>▁▇▇▇██</td></tr><tr><td>train/parameters/std/base_model.model.roberta.encoder.layer.11.attention.self.value.lora_A.default.weight</td><td>▁▇▇███</td></tr><tr><td>train/parameters/std/base_model.model.roberta.encoder.layer.11.attention.self.value.lora_B.default.weight</td><td>▁▇▇███</td></tr><tr><td>train/parameters/std/base_model.model.roberta.encoder.layer.2.attention.self.query.lora_A.default.weight</td><td>▁▂▂▆██</td></tr><tr><td>train/parameters/std/base_model.model.roberta.encoder.layer.2.attention.self.query.lora_B.default.weight</td><td>▁▄▄▆██</td></tr><tr><td>train/parameters/std/base_model.model.roberta.encoder.layer.2.attention.self.value.lora_A.default.weight</td><td>▁▅▅▆██</td></tr><tr><td>train/parameters/std/base_model.model.roberta.encoder.layer.2.attention.self.value.lora_B.default.weight</td><td>▁▆▆▇██</td></tr><tr><td>train/parameters/std/base_model.model.roberta.encoder.layer.3.attention.self.query.lora_A.default.weight</td><td>▁▂▂▅██</td></tr><tr><td>train/parameters/std/base_model.model.roberta.encoder.layer.3.attention.self.query.lora_B.default.weight</td><td>▁▄▄▆██</td></tr><tr><td>train/parameters/std/base_model.model.roberta.encoder.layer.3.attention.self.value.lora_A.default.weight</td><td>▁▇▇▇██</td></tr><tr><td>train/parameters/std/base_model.model.roberta.encoder.layer.3.attention.self.value.lora_B.default.weight</td><td>▁▆▆▇██</td></tr><tr><td>train/parameters/std/base_model.model.roberta.encoder.layer.4.attention.self.query.lora_A.default.weight</td><td>▁▃▃▆██</td></tr><tr><td>train/parameters/std/base_model.model.roberta.encoder.layer.4.attention.self.query.lora_B.default.weight</td><td>▁▅▅▇██</td></tr><tr><td>train/parameters/std/base_model.model.roberta.encoder.layer.4.attention.self.value.lora_A.default.weight</td><td>▁█████</td></tr><tr><td>train/parameters/std/base_model.model.roberta.encoder.layer.4.attention.self.value.lora_B.default.weight</td><td>▁▇▇███</td></tr><tr><td>train/parameters/std/base_model.model.roberta.encoder.layer.5.attention.self.query.lora_A.default.weight</td><td>▁▄▄▆██</td></tr><tr><td>train/parameters/std/base_model.model.roberta.encoder.layer.5.attention.self.query.lora_B.default.weight</td><td>▁▆▆▇██</td></tr><tr><td>train/parameters/std/base_model.model.roberta.encoder.layer.5.attention.self.value.lora_A.default.weight</td><td>▁███▇▇</td></tr><tr><td>train/parameters/std/base_model.model.roberta.encoder.layer.5.attention.self.value.lora_B.default.weight</td><td>▁▇▇███</td></tr><tr><td>train/parameters/std/base_model.model.roberta.encoder.layer.6.attention.self.query.lora_A.default.weight</td><td>▁▅▅▇██</td></tr><tr><td>train/parameters/std/base_model.model.roberta.encoder.layer.6.attention.self.query.lora_B.default.weight</td><td>▁▆▆▇██</td></tr><tr><td>train/parameters/std/base_model.model.roberta.encoder.layer.6.attention.self.value.lora_A.default.weight</td><td>▁██▇▆▆</td></tr><tr><td>train/parameters/std/base_model.model.roberta.encoder.layer.6.attention.self.value.lora_B.default.weight</td><td>▁▇▇███</td></tr><tr><td>train/parameters/std/base_model.model.roberta.encoder.layer.7.attention.self.query.lora_A.default.weight</td><td>▁▅▅▇██</td></tr><tr><td>train/parameters/std/base_model.model.roberta.encoder.layer.7.attention.self.query.lora_B.default.weight</td><td>▁▆▆▇██</td></tr><tr><td>train/parameters/std/base_model.model.roberta.encoder.layer.7.attention.self.value.lora_A.default.weight</td><td>▁▇▇███</td></tr><tr><td>train/parameters/std/base_model.model.roberta.encoder.layer.7.attention.self.value.lora_B.default.weight</td><td>▁▇▇███</td></tr><tr><td>train/parameters/std/base_model.model.roberta.encoder.layer.8.attention.self.query.lora_A.default.weight</td><td>▁▇▇███</td></tr><tr><td>train/parameters/std/base_model.model.roberta.encoder.layer.8.attention.self.query.lora_B.default.weight</td><td>▁▇▇███</td></tr><tr><td>train/parameters/std/base_model.model.roberta.encoder.layer.8.attention.self.value.lora_A.default.weight</td><td>▁█████</td></tr><tr><td>train/parameters/std/base_model.model.roberta.encoder.layer.8.attention.self.value.lora_B.default.weight</td><td>▁▇▇███</td></tr><tr><td>train/parameters/std/base_model.model.roberta.encoder.layer.9.attention.self.query.lora_A.default.weight</td><td>▁▄▄▅██</td></tr><tr><td>train/parameters/std/base_model.model.roberta.encoder.layer.9.attention.self.query.lora_B.default.weight</td><td>▁▆▆▇██</td></tr><tr><td>train/parameters/std/base_model.model.roberta.encoder.layer.9.attention.self.value.lora_A.default.weight</td><td>▁▇▇███</td></tr><tr><td>train/parameters/std/base_model.model.roberta.encoder.layer.9.attention.self.value.lora_B.default.weight</td><td>▁▇▇███</td></tr><tr><td>train/step</td><td>▁▃▃▅▅▅▆▆██</td></tr><tr><td>train/system/gpu_memory_allocated</td><td>▁▁█▁▁█</td></tr><tr><td>train/system/gpu_memory_cached</td><td>▁▁▁▁▁▁</td></tr><tr><td>train/train/batch_size</td><td>▁▁▁▁▁▁</td></tr><tr><td>train/train/gradient_norm</td><td>▁▁▁▁▁▁</td></tr></table><br/></div><div class=\"wandb-col\"><h3>Run summary:</h3><br/><table class=\"wandb\"><tr><td>eval/accuracy</td><td>0.86875</td></tr><tr><td>eval/f1_class_Business</td><td>0.8505</td></tr><tr><td>eval/f1_class_Sci/Tech</td><td>0.85195</td></tr><tr><td>eval/f1_class_Sports</td><td>0.93082</td></tr><tr><td>eval/f1_class_World</td><td>0.84058</td></tr><tr><td>eval/f1_macro</td><td>0.86846</td></tr><tr><td>eval/f1_micro</td><td>0.86875</td></tr><tr><td>eval/loss</td><td>0.41224</td></tr><tr><td>eval/precision_class_Business</td><td>0.86486</td></tr><tr><td>eval/precision_class_Sci/Tech</td><td>0.81592</td></tr><tr><td>eval/precision_class_Sports</td><td>0.925</td></tr><tr><td>eval/precision_class_World</td><td>0.8855</td></tr><tr><td>eval/precision_macro</td><td>0.87282</td></tr><tr><td>eval/precision_micro</td><td>0.86875</td></tr><tr><td>eval/recall_class_Business</td><td>0.8366</td></tr><tr><td>eval/recall_class_Sci/Tech</td><td>0.8913</td></tr><tr><td>eval/recall_class_Sports</td><td>0.93671</td></tr><tr><td>eval/recall_class_World</td><td>0.8</td></tr><tr><td>eval/recall_macro</td><td>0.86615</td></tr><tr><td>eval/recall_micro</td><td>0.86875</td></tr><tr><td>eval/runtime</td><td>5.9322</td></tr><tr><td>eval/samples_per_second</td><td>107.885</td></tr><tr><td>eval/steps_per_second</td><td>1.686</td></tr><tr><td>eval_accuracy</td><td>0.86875</td></tr><tr><td>eval_f1_class_Business</td><td>0.8505</td></tr><tr><td>eval_f1_class_Sci/Tech</td><td>0.85195</td></tr><tr><td>eval_f1_class_Sports</td><td>0.93082</td></tr><tr><td>eval_f1_class_World</td><td>0.84058</td></tr><tr><td>eval_f1_macro</td><td>0.86846</td></tr><tr><td>eval_f1_micro</td><td>0.86875</td></tr><tr><td>eval_loss</td><td>0.41224</td></tr><tr><td>eval_precision_class_Business</td><td>0.86486</td></tr><tr><td>eval_precision_class_Sci/Tech</td><td>0.81592</td></tr><tr><td>eval_precision_class_Sports</td><td>0.925</td></tr><tr><td>eval_precision_class_World</td><td>0.8855</td></tr><tr><td>eval_precision_macro</td><td>0.87282</td></tr><tr><td>eval_precision_micro</td><td>0.86875</td></tr><tr><td>eval_recall_class_Business</td><td>0.8366</td></tr><tr><td>eval_recall_class_Sci/Tech</td><td>0.8913</td></tr><tr><td>eval_recall_class_Sports</td><td>0.93671</td></tr><tr><td>eval_recall_class_World</td><td>0.8</td></tr><tr><td>eval_recall_macro</td><td>0.86615</td></tr><tr><td>eval_recall_micro</td><td>0.86875</td></tr><tr><td>eval_runtime</td><td>5.9322</td></tr><tr><td>eval_samples_per_second</td><td>107.885</td></tr><tr><td>eval_steps_per_second</td><td>1.686</td></tr><tr><td>grad_norm</td><td>1.97335</td></tr><tr><td>learning_rate</td><td>9e-05</td></tr><tr><td>loss</td><td>0.3953</td></tr><tr><td>parameters/mean/base_model.model.classifier.modules_to_save.default.dense.bias</td><td>6e-05</td></tr><tr><td>parameters/mean/base_model.model.classifier.modules_to_save.default.dense.weight</td><td>0.0</td></tr><tr><td>parameters/mean/base_model.model.classifier.modules_to_save.default.out_proj.bias</td><td>-1e-05</td></tr><tr><td>parameters/mean/base_model.model.classifier.modules_to_save.default.out_proj.weight</td><td>-0.00088</td></tr><tr><td>parameters/mean/base_model.model.roberta.encoder.layer.0.attention.self.query.lora_A.default.weight</td><td>-8e-05</td></tr><tr><td>parameters/mean/base_model.model.roberta.encoder.layer.0.attention.self.query.lora_B.default.weight</td><td>-4e-05</td></tr><tr><td>parameters/mean/base_model.model.roberta.encoder.layer.0.attention.self.value.lora_A.default.weight</td><td>4e-05</td></tr><tr><td>parameters/mean/base_model.model.roberta.encoder.layer.0.attention.self.value.lora_B.default.weight</td><td>-7e-05</td></tr><tr><td>parameters/mean/base_model.model.roberta.encoder.layer.1.attention.self.query.lora_A.default.weight</td><td>0.00019</td></tr><tr><td>parameters/mean/base_model.model.roberta.encoder.layer.1.attention.self.query.lora_B.default.weight</td><td>2e-05</td></tr><tr><td>parameters/mean/base_model.model.roberta.encoder.layer.1.attention.self.value.lora_A.default.weight</td><td>0.00054</td></tr><tr><td>parameters/mean/base_model.model.roberta.encoder.layer.1.attention.self.value.lora_B.default.weight</td><td>1e-05</td></tr><tr><td>parameters/mean/base_model.model.roberta.encoder.layer.10.attention.self.query.lora_A.default.weight</td><td>-0.00051</td></tr><tr><td>parameters/mean/base_model.model.roberta.encoder.layer.10.attention.self.query.lora_B.default.weight</td><td>-6e-05</td></tr><tr><td>parameters/mean/base_model.model.roberta.encoder.layer.10.attention.self.value.lora_A.default.weight</td><td>0.00035</td></tr><tr><td>parameters/mean/base_model.model.roberta.encoder.layer.10.attention.self.value.lora_B.default.weight</td><td>-0.00022</td></tr><tr><td>parameters/mean/base_model.model.roberta.encoder.layer.11.attention.self.query.lora_A.default.weight</td><td>-0.00061</td></tr><tr><td>parameters/mean/base_model.model.roberta.encoder.layer.11.attention.self.query.lora_B.default.weight</td><td>0.00014</td></tr><tr><td>parameters/mean/base_model.model.roberta.encoder.layer.11.attention.self.value.lora_A.default.weight</td><td>5e-05</td></tr><tr><td>parameters/mean/base_model.model.roberta.encoder.layer.11.attention.self.value.lora_B.default.weight</td><td>-6e-05</td></tr><tr><td>parameters/mean/base_model.model.roberta.encoder.layer.2.attention.self.query.lora_A.default.weight</td><td>-0.00123</td></tr><tr><td>parameters/mean/base_model.model.roberta.encoder.layer.2.attention.self.query.lora_B.default.weight</td><td>0.0001</td></tr><tr><td>parameters/mean/base_model.model.roberta.encoder.layer.2.attention.self.value.lora_A.default.weight</td><td>0.00088</td></tr><tr><td>parameters/mean/base_model.model.roberta.encoder.layer.2.attention.self.value.lora_B.default.weight</td><td>8e-05</td></tr><tr><td>parameters/mean/base_model.model.roberta.encoder.layer.3.attention.self.query.lora_A.default.weight</td><td>0.00031</td></tr><tr><td>parameters/mean/base_model.model.roberta.encoder.layer.3.attention.self.query.lora_B.default.weight</td><td>2e-05</td></tr><tr><td>parameters/mean/base_model.model.roberta.encoder.layer.3.attention.self.value.lora_A.default.weight</td><td>-0.00082</td></tr><tr><td>parameters/mean/base_model.model.roberta.encoder.layer.3.attention.self.value.lora_B.default.weight</td><td>3e-05</td></tr><tr><td>parameters/mean/base_model.model.roberta.encoder.layer.4.attention.self.query.lora_A.default.weight</td><td>0.00023</td></tr><tr><td>parameters/mean/base_model.model.roberta.encoder.layer.4.attention.self.query.lora_B.default.weight</td><td>7e-05</td></tr><tr><td>parameters/mean/base_model.model.roberta.encoder.layer.4.attention.self.value.lora_A.default.weight</td><td>-0.00067</td></tr><tr><td>parameters/mean/base_model.model.roberta.encoder.layer.4.attention.self.value.lora_B.default.weight</td><td>-5e-05</td></tr><tr><td>parameters/mean/base_model.model.roberta.encoder.layer.5.attention.self.query.lora_A.default.weight</td><td>0.00032</td></tr><tr><td>parameters/mean/base_model.model.roberta.encoder.layer.5.attention.self.query.lora_B.default.weight</td><td>-3e-05</td></tr><tr><td>parameters/mean/base_model.model.roberta.encoder.layer.5.attention.self.value.lora_A.default.weight</td><td>0.00023</td></tr><tr><td>parameters/mean/base_model.model.roberta.encoder.layer.5.attention.self.value.lora_B.default.weight</td><td>-0.0</td></tr><tr><td>parameters/mean/base_model.model.roberta.encoder.layer.6.attention.self.query.lora_A.default.weight</td><td>-5e-05</td></tr><tr><td>parameters/mean/base_model.model.roberta.encoder.layer.6.attention.self.query.lora_B.default.weight</td><td>0.0001</td></tr><tr><td>parameters/mean/base_model.model.roberta.encoder.layer.6.attention.self.value.lora_A.default.weight</td><td>-9e-05</td></tr><tr><td>parameters/mean/base_model.model.roberta.encoder.layer.6.attention.self.value.lora_B.default.weight</td><td>-1e-05</td></tr><tr><td>parameters/mean/base_model.model.roberta.encoder.layer.7.attention.self.query.lora_A.default.weight</td><td>-0.00028</td></tr><tr><td>parameters/mean/base_model.model.roberta.encoder.layer.7.attention.self.query.lora_B.default.weight</td><td>-0.0</td></tr><tr><td>parameters/mean/base_model.model.roberta.encoder.layer.7.attention.self.value.lora_A.default.weight</td><td>0.00056</td></tr><tr><td>parameters/mean/base_model.model.roberta.encoder.layer.7.attention.self.value.lora_B.default.weight</td><td>0.0</td></tr><tr><td>parameters/mean/base_model.model.roberta.encoder.layer.8.attention.self.query.lora_A.default.weight</td><td>-0.00015</td></tr><tr><td>parameters/mean/base_model.model.roberta.encoder.layer.8.attention.self.query.lora_B.default.weight</td><td>1e-05</td></tr><tr><td>parameters/mean/base_model.model.roberta.encoder.layer.8.attention.self.value.lora_A.default.weight</td><td>0.00034</td></tr><tr><td>parameters/mean/base_model.model.roberta.encoder.layer.8.attention.self.value.lora_B.default.weight</td><td>0.00011</td></tr><tr><td>parameters/mean/base_model.model.roberta.encoder.layer.9.attention.self.query.lora_A.default.weight</td><td>-0.00059</td></tr><tr><td>parameters/mean/base_model.model.roberta.encoder.layer.9.attention.self.query.lora_B.default.weight</td><td>-0.00018</td></tr><tr><td>parameters/mean/base_model.model.roberta.encoder.layer.9.attention.self.value.lora_A.default.weight</td><td>0.00036</td></tr><tr><td>parameters/mean/base_model.model.roberta.encoder.layer.9.attention.self.value.lora_B.default.weight</td><td>-1e-05</td></tr><tr><td>parameters/std/base_model.model.classifier.modules_to_save.default.dense.bias</td><td>0.0006</td></tr><tr><td>parameters/std/base_model.model.classifier.modules_to_save.default.dense.weight</td><td>0.02029</td></tr><tr><td>parameters/std/base_model.model.classifier.modules_to_save.default.out_proj.bias</td><td>0.00069</td></tr><tr><td>parameters/std/base_model.model.classifier.modules_to_save.default.out_proj.weight</td><td>0.02107</td></tr><tr><td>parameters/std/base_model.model.roberta.encoder.layer.0.attention.self.query.lora_A.default.weight</td><td>0.0223</td></tr><tr><td>parameters/std/base_model.model.roberta.encoder.layer.0.attention.self.query.lora_B.default.weight</td><td>0.00334</td></tr><tr><td>parameters/std/base_model.model.roberta.encoder.layer.0.attention.self.value.lora_A.default.weight</td><td>0.02225</td></tr><tr><td>parameters/std/base_model.model.roberta.encoder.layer.0.attention.self.value.lora_B.default.weight</td><td>0.00401</td></tr><tr><td>parameters/std/base_model.model.roberta.encoder.layer.1.attention.self.query.lora_A.default.weight</td><td>0.02212</td></tr><tr><td>parameters/std/base_model.model.roberta.encoder.layer.1.attention.self.query.lora_B.default.weight</td><td>0.00369</td></tr><tr><td>parameters/std/base_model.model.roberta.encoder.layer.1.attention.self.value.lora_A.default.weight</td><td>0.0217</td></tr><tr><td>parameters/std/base_model.model.roberta.encoder.layer.1.attention.self.value.lora_B.default.weight</td><td>0.00323</td></tr><tr><td>parameters/std/base_model.model.roberta.encoder.layer.10.attention.self.query.lora_A.default.weight</td><td>0.02242</td></tr><tr><td>parameters/std/base_model.model.roberta.encoder.layer.10.attention.self.query.lora_B.default.weight</td><td>0.00505</td></tr><tr><td>parameters/std/base_model.model.roberta.encoder.layer.10.attention.self.value.lora_A.default.weight</td><td>0.02183</td></tr><tr><td>parameters/std/base_model.model.roberta.encoder.layer.10.attention.self.value.lora_B.default.weight</td><td>0.00459</td></tr><tr><td>parameters/std/base_model.model.roberta.encoder.layer.11.attention.self.query.lora_A.default.weight</td><td>0.02194</td></tr><tr><td>parameters/std/base_model.model.roberta.encoder.layer.11.attention.self.query.lora_B.default.weight</td><td>0.00442</td></tr><tr><td>parameters/std/base_model.model.roberta.encoder.layer.11.attention.self.value.lora_A.default.weight</td><td>0.02173</td></tr><tr><td>parameters/std/base_model.model.roberta.encoder.layer.11.attention.self.value.lora_B.default.weight</td><td>0.0044</td></tr><tr><td>parameters/std/base_model.model.roberta.encoder.layer.2.attention.self.query.lora_A.default.weight</td><td>0.0225</td></tr><tr><td>parameters/std/base_model.model.roberta.encoder.layer.2.attention.self.query.lora_B.default.weight</td><td>0.00355</td></tr><tr><td>parameters/std/base_model.model.roberta.encoder.layer.2.attention.self.value.lora_A.default.weight</td><td>0.02081</td></tr><tr><td>parameters/std/base_model.model.roberta.encoder.layer.2.attention.self.value.lora_B.default.weight</td><td>0.00233</td></tr><tr><td>parameters/std/base_model.model.roberta.encoder.layer.3.attention.self.query.lora_A.default.weight</td><td>0.0211</td></tr><tr><td>parameters/std/base_model.model.roberta.encoder.layer.3.attention.self.query.lora_B.default.weight</td><td>0.00265</td></tr><tr><td>parameters/std/base_model.model.roberta.encoder.layer.3.attention.self.value.lora_A.default.weight</td><td>0.02125</td></tr><tr><td>parameters/std/base_model.model.roberta.encoder.layer.3.attention.self.value.lora_B.default.weight</td><td>0.00247</td></tr><tr><td>parameters/std/base_model.model.roberta.encoder.layer.4.attention.self.query.lora_A.default.weight</td><td>0.02117</td></tr><tr><td>parameters/std/base_model.model.roberta.encoder.layer.4.attention.self.query.lora_B.default.weight</td><td>0.00297</td></tr><tr><td>parameters/std/base_model.model.roberta.encoder.layer.4.attention.self.value.lora_A.default.weight</td><td>0.02147</td></tr><tr><td>parameters/std/base_model.model.roberta.encoder.layer.4.attention.self.value.lora_B.default.weight</td><td>0.00363</td></tr><tr><td>parameters/std/base_model.model.roberta.encoder.layer.5.attention.self.query.lora_A.default.weight</td><td>0.02199</td></tr><tr><td>parameters/std/base_model.model.roberta.encoder.layer.5.attention.self.query.lora_B.default.weight</td><td>0.00385</td></tr><tr><td>parameters/std/base_model.model.roberta.encoder.layer.5.attention.self.value.lora_A.default.weight</td><td>0.02157</td></tr><tr><td>parameters/std/base_model.model.roberta.encoder.layer.5.attention.self.value.lora_B.default.weight</td><td>0.00426</td></tr><tr><td>parameters/std/base_model.model.roberta.encoder.layer.6.attention.self.query.lora_A.default.weight</td><td>0.02462</td></tr><tr><td>parameters/std/base_model.model.roberta.encoder.layer.6.attention.self.query.lora_B.default.weight</td><td>0.00544</td></tr><tr><td>parameters/std/base_model.model.roberta.encoder.layer.6.attention.self.value.lora_A.default.weight</td><td>0.02162</td></tr><tr><td>parameters/std/base_model.model.roberta.encoder.layer.6.attention.self.value.lora_B.default.weight</td><td>0.00455</td></tr><tr><td>parameters/std/base_model.model.roberta.encoder.layer.7.attention.self.query.lora_A.default.weight</td><td>0.02192</td></tr><tr><td>parameters/std/base_model.model.roberta.encoder.layer.7.attention.self.query.lora_B.default.weight</td><td>0.00462</td></tr><tr><td>parameters/std/base_model.model.roberta.encoder.layer.7.attention.self.value.lora_A.default.weight</td><td>0.02221</td></tr><tr><td>parameters/std/base_model.model.roberta.encoder.layer.7.attention.self.value.lora_B.default.weight</td><td>0.00479</td></tr><tr><td>parameters/std/base_model.model.roberta.encoder.layer.8.attention.self.query.lora_A.default.weight</td><td>0.02184</td></tr><tr><td>parameters/std/base_model.model.roberta.encoder.layer.8.attention.self.query.lora_B.default.weight</td><td>0.00501</td></tr><tr><td>parameters/std/base_model.model.roberta.encoder.layer.8.attention.self.value.lora_A.default.weight</td><td>0.02188</td></tr><tr><td>parameters/std/base_model.model.roberta.encoder.layer.8.attention.self.value.lora_B.default.weight</td><td>0.00469</td></tr><tr><td>parameters/std/base_model.model.roberta.encoder.layer.9.attention.self.query.lora_A.default.weight</td><td>0.02236</td></tr><tr><td>parameters/std/base_model.model.roberta.encoder.layer.9.attention.self.query.lora_B.default.weight</td><td>0.00505</td></tr><tr><td>parameters/std/base_model.model.roberta.encoder.layer.9.attention.self.value.lora_A.default.weight</td><td>0.0221</td></tr><tr><td>parameters/std/base_model.model.roberta.encoder.layer.9.attention.self.value.lora_B.default.weight</td><td>0.00486</td></tr><tr><td>system/gpu_memory_allocated</td><td>503.14307</td></tr><tr><td>system/gpu_memory_cached</td><td>7166.0</td></tr><tr><td>train/accuracy</td><td>0.875</td></tr><tr><td>train/batch_size</td><td>32</td></tr><tr><td>train/epoch</td><td>0.42872</td></tr><tr><td>train/global_step</td><td>400</td></tr><tr><td>train/grad_norm</td><td>1.97335</td></tr><tr><td>train/gradient_norm</td><td>0.0</td></tr><tr><td>train/learning_rate</td><td>9e-05</td></tr><tr><td>train/loss</td><td>0.3953</td></tr><tr><td>train/parameters/mean/base_model.model.classifier.modules_to_save.default.dense.bias</td><td>6e-05</td></tr><tr><td>train/parameters/mean/base_model.model.classifier.modules_to_save.default.dense.weight</td><td>0.0</td></tr><tr><td>train/parameters/mean/base_model.model.classifier.modules_to_save.default.out_proj.bias</td><td>-1e-05</td></tr><tr><td>train/parameters/mean/base_model.model.classifier.modules_to_save.default.out_proj.weight</td><td>-0.00088</td></tr><tr><td>train/parameters/mean/base_model.model.roberta.encoder.layer.0.attention.self.query.lora_A.default.weight</td><td>-8e-05</td></tr><tr><td>train/parameters/mean/base_model.model.roberta.encoder.layer.0.attention.self.query.lora_B.default.weight</td><td>-4e-05</td></tr><tr><td>train/parameters/mean/base_model.model.roberta.encoder.layer.0.attention.self.value.lora_A.default.weight</td><td>4e-05</td></tr><tr><td>train/parameters/mean/base_model.model.roberta.encoder.layer.0.attention.self.value.lora_B.default.weight</td><td>-7e-05</td></tr><tr><td>train/parameters/mean/base_model.model.roberta.encoder.layer.1.attention.self.query.lora_A.default.weight</td><td>0.00019</td></tr><tr><td>train/parameters/mean/base_model.model.roberta.encoder.layer.1.attention.self.query.lora_B.default.weight</td><td>2e-05</td></tr><tr><td>train/parameters/mean/base_model.model.roberta.encoder.layer.1.attention.self.value.lora_A.default.weight</td><td>0.00054</td></tr><tr><td>train/parameters/mean/base_model.model.roberta.encoder.layer.1.attention.self.value.lora_B.default.weight</td><td>1e-05</td></tr><tr><td>train/parameters/mean/base_model.model.roberta.encoder.layer.10.attention.self.query.lora_A.default.weight</td><td>-0.00051</td></tr><tr><td>train/parameters/mean/base_model.model.roberta.encoder.layer.10.attention.self.query.lora_B.default.weight</td><td>-6e-05</td></tr><tr><td>train/parameters/mean/base_model.model.roberta.encoder.layer.10.attention.self.value.lora_A.default.weight</td><td>0.00035</td></tr><tr><td>train/parameters/mean/base_model.model.roberta.encoder.layer.10.attention.self.value.lora_B.default.weight</td><td>-0.00022</td></tr><tr><td>train/parameters/mean/base_model.model.roberta.encoder.layer.11.attention.self.query.lora_A.default.weight</td><td>-0.00061</td></tr><tr><td>train/parameters/mean/base_model.model.roberta.encoder.layer.11.attention.self.query.lora_B.default.weight</td><td>0.00014</td></tr><tr><td>train/parameters/mean/base_model.model.roberta.encoder.layer.11.attention.self.value.lora_A.default.weight</td><td>5e-05</td></tr><tr><td>train/parameters/mean/base_model.model.roberta.encoder.layer.11.attention.self.value.lora_B.default.weight</td><td>-6e-05</td></tr><tr><td>train/parameters/mean/base_model.model.roberta.encoder.layer.2.attention.self.query.lora_A.default.weight</td><td>-0.00123</td></tr><tr><td>train/parameters/mean/base_model.model.roberta.encoder.layer.2.attention.self.query.lora_B.default.weight</td><td>0.0001</td></tr><tr><td>train/parameters/mean/base_model.model.roberta.encoder.layer.2.attention.self.value.lora_A.default.weight</td><td>0.00088</td></tr><tr><td>train/parameters/mean/base_model.model.roberta.encoder.layer.2.attention.self.value.lora_B.default.weight</td><td>8e-05</td></tr><tr><td>train/parameters/mean/base_model.model.roberta.encoder.layer.3.attention.self.query.lora_A.default.weight</td><td>0.00031</td></tr><tr><td>train/parameters/mean/base_model.model.roberta.encoder.layer.3.attention.self.query.lora_B.default.weight</td><td>2e-05</td></tr><tr><td>train/parameters/mean/base_model.model.roberta.encoder.layer.3.attention.self.value.lora_A.default.weight</td><td>-0.00082</td></tr><tr><td>train/parameters/mean/base_model.model.roberta.encoder.layer.3.attention.self.value.lora_B.default.weight</td><td>3e-05</td></tr><tr><td>train/parameters/mean/base_model.model.roberta.encoder.layer.4.attention.self.query.lora_A.default.weight</td><td>0.00023</td></tr><tr><td>train/parameters/mean/base_model.model.roberta.encoder.layer.4.attention.self.query.lora_B.default.weight</td><td>7e-05</td></tr><tr><td>train/parameters/mean/base_model.model.roberta.encoder.layer.4.attention.self.value.lora_A.default.weight</td><td>-0.00067</td></tr><tr><td>train/parameters/mean/base_model.model.roberta.encoder.layer.4.attention.self.value.lora_B.default.weight</td><td>-5e-05</td></tr><tr><td>train/parameters/mean/base_model.model.roberta.encoder.layer.5.attention.self.query.lora_A.default.weight</td><td>0.00032</td></tr><tr><td>train/parameters/mean/base_model.model.roberta.encoder.layer.5.attention.self.query.lora_B.default.weight</td><td>-3e-05</td></tr><tr><td>train/parameters/mean/base_model.model.roberta.encoder.layer.5.attention.self.value.lora_A.default.weight</td><td>0.00023</td></tr><tr><td>train/parameters/mean/base_model.model.roberta.encoder.layer.5.attention.self.value.lora_B.default.weight</td><td>-0.0</td></tr><tr><td>train/parameters/mean/base_model.model.roberta.encoder.layer.6.attention.self.query.lora_A.default.weight</td><td>-5e-05</td></tr><tr><td>train/parameters/mean/base_model.model.roberta.encoder.layer.6.attention.self.query.lora_B.default.weight</td><td>0.0001</td></tr><tr><td>train/parameters/mean/base_model.model.roberta.encoder.layer.6.attention.self.value.lora_A.default.weight</td><td>-9e-05</td></tr><tr><td>train/parameters/mean/base_model.model.roberta.encoder.layer.6.attention.self.value.lora_B.default.weight</td><td>-1e-05</td></tr><tr><td>train/parameters/mean/base_model.model.roberta.encoder.layer.7.attention.self.query.lora_A.default.weight</td><td>-0.00028</td></tr><tr><td>train/parameters/mean/base_model.model.roberta.encoder.layer.7.attention.self.query.lora_B.default.weight</td><td>-0.0</td></tr><tr><td>train/parameters/mean/base_model.model.roberta.encoder.layer.7.attention.self.value.lora_A.default.weight</td><td>0.00056</td></tr><tr><td>train/parameters/mean/base_model.model.roberta.encoder.layer.7.attention.self.value.lora_B.default.weight</td><td>0.0</td></tr><tr><td>train/parameters/mean/base_model.model.roberta.encoder.layer.8.attention.self.query.lora_A.default.weight</td><td>-0.00015</td></tr><tr><td>train/parameters/mean/base_model.model.roberta.encoder.layer.8.attention.self.query.lora_B.default.weight</td><td>1e-05</td></tr><tr><td>train/parameters/mean/base_model.model.roberta.encoder.layer.8.attention.self.value.lora_A.default.weight</td><td>0.00034</td></tr><tr><td>train/parameters/mean/base_model.model.roberta.encoder.layer.8.attention.self.value.lora_B.default.weight</td><td>0.00011</td></tr><tr><td>train/parameters/mean/base_model.model.roberta.encoder.layer.9.attention.self.query.lora_A.default.weight</td><td>-0.00059</td></tr><tr><td>train/parameters/mean/base_model.model.roberta.encoder.layer.9.attention.self.query.lora_B.default.weight</td><td>-0.00018</td></tr><tr><td>train/parameters/mean/base_model.model.roberta.encoder.layer.9.attention.self.value.lora_A.default.weight</td><td>0.00036</td></tr><tr><td>train/parameters/mean/base_model.model.roberta.encoder.layer.9.attention.self.value.lora_B.default.weight</td><td>-1e-05</td></tr><tr><td>train/parameters/std/base_model.model.classifier.modules_to_save.default.dense.bias</td><td>0.0006</td></tr><tr><td>train/parameters/std/base_model.model.classifier.modules_to_save.default.dense.weight</td><td>0.02029</td></tr><tr><td>train/parameters/std/base_model.model.classifier.modules_to_save.default.out_proj.bias</td><td>0.00069</td></tr><tr><td>train/parameters/std/base_model.model.classifier.modules_to_save.default.out_proj.weight</td><td>0.02107</td></tr><tr><td>train/parameters/std/base_model.model.roberta.encoder.layer.0.attention.self.query.lora_A.default.weight</td><td>0.0223</td></tr><tr><td>train/parameters/std/base_model.model.roberta.encoder.layer.0.attention.self.query.lora_B.default.weight</td><td>0.00334</td></tr><tr><td>train/parameters/std/base_model.model.roberta.encoder.layer.0.attention.self.value.lora_A.default.weight</td><td>0.02225</td></tr><tr><td>train/parameters/std/base_model.model.roberta.encoder.layer.0.attention.self.value.lora_B.default.weight</td><td>0.00401</td></tr><tr><td>train/parameters/std/base_model.model.roberta.encoder.layer.1.attention.self.query.lora_A.default.weight</td><td>0.02212</td></tr><tr><td>train/parameters/std/base_model.model.roberta.encoder.layer.1.attention.self.query.lora_B.default.weight</td><td>0.00369</td></tr><tr><td>train/parameters/std/base_model.model.roberta.encoder.layer.1.attention.self.value.lora_A.default.weight</td><td>0.0217</td></tr><tr><td>train/parameters/std/base_model.model.roberta.encoder.layer.1.attention.self.value.lora_B.default.weight</td><td>0.00323</td></tr><tr><td>train/parameters/std/base_model.model.roberta.encoder.layer.10.attention.self.query.lora_A.default.weight</td><td>0.02242</td></tr><tr><td>train/parameters/std/base_model.model.roberta.encoder.layer.10.attention.self.query.lora_B.default.weight</td><td>0.00505</td></tr><tr><td>train/parameters/std/base_model.model.roberta.encoder.layer.10.attention.self.value.lora_A.default.weight</td><td>0.02183</td></tr><tr><td>train/parameters/std/base_model.model.roberta.encoder.layer.10.attention.self.value.lora_B.default.weight</td><td>0.00459</td></tr><tr><td>train/parameters/std/base_model.model.roberta.encoder.layer.11.attention.self.query.lora_A.default.weight</td><td>0.02194</td></tr><tr><td>train/parameters/std/base_model.model.roberta.encoder.layer.11.attention.self.query.lora_B.default.weight</td><td>0.00442</td></tr><tr><td>train/parameters/std/base_model.model.roberta.encoder.layer.11.attention.self.value.lora_A.default.weight</td><td>0.02173</td></tr><tr><td>train/parameters/std/base_model.model.roberta.encoder.layer.11.attention.self.value.lora_B.default.weight</td><td>0.0044</td></tr><tr><td>train/parameters/std/base_model.model.roberta.encoder.layer.2.attention.self.query.lora_A.default.weight</td><td>0.0225</td></tr><tr><td>train/parameters/std/base_model.model.roberta.encoder.layer.2.attention.self.query.lora_B.default.weight</td><td>0.00355</td></tr><tr><td>train/parameters/std/base_model.model.roberta.encoder.layer.2.attention.self.value.lora_A.default.weight</td><td>0.02081</td></tr><tr><td>train/parameters/std/base_model.model.roberta.encoder.layer.2.attention.self.value.lora_B.default.weight</td><td>0.00233</td></tr><tr><td>train/parameters/std/base_model.model.roberta.encoder.layer.3.attention.self.query.lora_A.default.weight</td><td>0.0211</td></tr><tr><td>train/parameters/std/base_model.model.roberta.encoder.layer.3.attention.self.query.lora_B.default.weight</td><td>0.00265</td></tr><tr><td>train/parameters/std/base_model.model.roberta.encoder.layer.3.attention.self.value.lora_A.default.weight</td><td>0.02125</td></tr><tr><td>train/parameters/std/base_model.model.roberta.encoder.layer.3.attention.self.value.lora_B.default.weight</td><td>0.00247</td></tr><tr><td>train/parameters/std/base_model.model.roberta.encoder.layer.4.attention.self.query.lora_A.default.weight</td><td>0.02117</td></tr><tr><td>train/parameters/std/base_model.model.roberta.encoder.layer.4.attention.self.query.lora_B.default.weight</td><td>0.00297</td></tr><tr><td>train/parameters/std/base_model.model.roberta.encoder.layer.4.attention.self.value.lora_A.default.weight</td><td>0.02147</td></tr><tr><td>train/parameters/std/base_model.model.roberta.encoder.layer.4.attention.self.value.lora_B.default.weight</td><td>0.00363</td></tr><tr><td>train/parameters/std/base_model.model.roberta.encoder.layer.5.attention.self.query.lora_A.default.weight</td><td>0.02199</td></tr><tr><td>train/parameters/std/base_model.model.roberta.encoder.layer.5.attention.self.query.lora_B.default.weight</td><td>0.00385</td></tr><tr><td>train/parameters/std/base_model.model.roberta.encoder.layer.5.attention.self.value.lora_A.default.weight</td><td>0.02157</td></tr><tr><td>train/parameters/std/base_model.model.roberta.encoder.layer.5.attention.self.value.lora_B.default.weight</td><td>0.00426</td></tr><tr><td>train/parameters/std/base_model.model.roberta.encoder.layer.6.attention.self.query.lora_A.default.weight</td><td>0.02462</td></tr><tr><td>train/parameters/std/base_model.model.roberta.encoder.layer.6.attention.self.query.lora_B.default.weight</td><td>0.00544</td></tr><tr><td>train/parameters/std/base_model.model.roberta.encoder.layer.6.attention.self.value.lora_A.default.weight</td><td>0.02162</td></tr><tr><td>train/parameters/std/base_model.model.roberta.encoder.layer.6.attention.self.value.lora_B.default.weight</td><td>0.00455</td></tr><tr><td>train/parameters/std/base_model.model.roberta.encoder.layer.7.attention.self.query.lora_A.default.weight</td><td>0.02192</td></tr><tr><td>train/parameters/std/base_model.model.roberta.encoder.layer.7.attention.self.query.lora_B.default.weight</td><td>0.00462</td></tr><tr><td>train/parameters/std/base_model.model.roberta.encoder.layer.7.attention.self.value.lora_A.default.weight</td><td>0.02221</td></tr><tr><td>train/parameters/std/base_model.model.roberta.encoder.layer.7.attention.self.value.lora_B.default.weight</td><td>0.00479</td></tr><tr><td>train/parameters/std/base_model.model.roberta.encoder.layer.8.attention.self.query.lora_A.default.weight</td><td>0.02184</td></tr><tr><td>train/parameters/std/base_model.model.roberta.encoder.layer.8.attention.self.query.lora_B.default.weight</td><td>0.00501</td></tr><tr><td>train/parameters/std/base_model.model.roberta.encoder.layer.8.attention.self.value.lora_A.default.weight</td><td>0.02188</td></tr><tr><td>train/parameters/std/base_model.model.roberta.encoder.layer.8.attention.self.value.lora_B.default.weight</td><td>0.00469</td></tr><tr><td>train/parameters/std/base_model.model.roberta.encoder.layer.9.attention.self.query.lora_A.default.weight</td><td>0.02236</td></tr><tr><td>train/parameters/std/base_model.model.roberta.encoder.layer.9.attention.self.query.lora_B.default.weight</td><td>0.00505</td></tr><tr><td>train/parameters/std/base_model.model.roberta.encoder.layer.9.attention.self.value.lora_A.default.weight</td><td>0.0221</td></tr><tr><td>train/parameters/std/base_model.model.roberta.encoder.layer.9.attention.self.value.lora_B.default.weight</td><td>0.00486</td></tr><tr><td>train/step</td><td>400</td></tr><tr><td>train/system/gpu_memory_allocated</td><td>503.14307</td></tr><tr><td>train/system/gpu_memory_cached</td><td>7166.0</td></tr><tr><td>train/train/batch_size</td><td>32</td></tr><tr><td>train/train/gradient_norm</td><td>0.0</td></tr></table><br/></div></div>"
      ],
      "text/plain": [
       "<IPython.core.display.HTML object>"
      ]
     },
     "metadata": {},
     "output_type": "display_data"
    },
    {
     "data": {
      "text/html": [
       " View run <strong style=\"color:#cdcd00\">roberta_lora_2ck7yudd</strong> at: <a href='https://wandb.ai/jl10897-new-york-university/ag_news_classification/runs/8dss67wl' target=\"_blank\">https://wandb.ai/jl10897-new-york-university/ag_news_classification/runs/8dss67wl</a><br/>Synced 6 W&B file(s), 12 media file(s), 0 artifact file(s) and 0 other file(s)"
      ],
      "text/plain": [
       "<IPython.core.display.HTML object>"
      ]
     },
     "metadata": {},
     "output_type": "display_data"
    },
    {
     "data": {
      "text/html": [
       "Find logs at: <code>./wandb/run-20250420_231945-8dss67wl/logs</code>"
      ],
      "text/plain": [
       "<IPython.core.display.HTML object>"
      ]
     },
     "metadata": {},
     "output_type": "display_data"
    },
    {
     "data": {
      "text/html": [
       "Successfully finished last run (ID:8dss67wl). Initializing new run:<br/>"
      ],
      "text/plain": [
       "<IPython.core.display.HTML object>"
      ]
     },
     "metadata": {},
     "output_type": "display_data"
    },
    {
     "data": {
      "application/vnd.jupyter.widget-view+json": {
       "model_id": "eb13503d92d14a8cb85bc23874cf8755",
       "version_major": 2,
       "version_minor": 0
      },
      "text/plain": [
       "VBox(children=(Label(value='Waiting for wandb.init()...\\r'), FloatProgress(value=0.011114514077134017, max=1.0…"
      ]
     },
     "metadata": {},
     "output_type": "display_data"
    },
    {
     "data": {
      "text/html": [
       "wandb version 0.19.9 is available!  To upgrade, please run:\n",
       " $ pip install wandb --upgrade"
      ],
      "text/plain": [
       "<IPython.core.display.HTML object>"
      ]
     },
     "metadata": {},
     "output_type": "display_data"
    },
    {
     "data": {
      "text/html": [
       "Tracking run with wandb version 0.16.0"
      ],
      "text/plain": [
       "<IPython.core.display.HTML object>"
      ]
     },
     "metadata": {},
     "output_type": "display_data"
    },
    {
     "data": {
      "text/html": [
       "Run data is saved locally in <code>/ssd_2T/viewsetting/results/wandb/run-20250421_003921-7ifrtya6</code>"
      ],
      "text/plain": [
       "<IPython.core.display.HTML object>"
      ]
     },
     "metadata": {},
     "output_type": "display_data"
    },
    {
     "data": {
      "text/html": [
       "Syncing run <strong><a href='https://wandb.ai/jl10897-new-york-university/ag_news_classification/runs/7ifrtya6' target=\"_blank\">roberta_lora_pt1mgcuf</a></strong> to <a href='https://wandb.ai/jl10897-new-york-university/ag_news_classification' target=\"_blank\">Weights & Biases</a> (<a href='https://wandb.me/run' target=\"_blank\">docs</a>)<br/>"
      ],
      "text/plain": [
       "<IPython.core.display.HTML object>"
      ]
     },
     "metadata": {},
     "output_type": "display_data"
    },
    {
     "data": {
      "text/html": [
       " View project at <a href='https://wandb.ai/jl10897-new-york-university/ag_news_classification' target=\"_blank\">https://wandb.ai/jl10897-new-york-university/ag_news_classification</a>"
      ],
      "text/plain": [
       "<IPython.core.display.HTML object>"
      ]
     },
     "metadata": {},
     "output_type": "display_data"
    },
    {
     "data": {
      "text/html": [
       " View run at <a href='https://wandb.ai/jl10897-new-york-university/ag_news_classification/runs/7ifrtya6' target=\"_blank\">https://wandb.ai/jl10897-new-york-university/ag_news_classification/runs/7ifrtya6</a>"
      ],
      "text/plain": [
       "<IPython.core.display.HTML object>"
      ]
     },
     "metadata": {},
     "output_type": "display_data"
    },
    {
     "name": "stderr",
     "output_type": "stream",
     "text": [
      "/cache_intel/anaconda/miniconda3/lib/python3.9/site-packages/torch/nn/parallel/data_parallel.py:37: UserWarning: \n",
      "    There is an imbalance between your GPUs. You may want to exclude GPU 2 which\n",
      "    has less than 75% of the memory or cores of GPU 0. You can do so by setting\n",
      "    the device_ids argument to DataParallel, or by setting the CUDA_VISIBLE_DEVICES\n",
      "    environment variable.\n",
      "  warnings.warn(\n",
      "/cache_intel/anaconda/miniconda3/lib/python3.9/site-packages/torch/nn/parallel/_functions.py:70: UserWarning: Was asked to gather along dimension 0, but all input tensors were scalars; will instead unsqueeze and return a vector.\n",
      "  warnings.warn(\n"
     ]
    },
    {
     "data": {
      "text/html": [
       "\n",
       "    <div>\n",
       "      \n",
       "      <progress value='1866' max='1866' style='width:300px; height:20px; vertical-align: middle;'></progress>\n",
       "      [1866/1866 1:15:54, Epoch 2/2]\n",
       "    </div>\n",
       "    <table border=\"1\" class=\"dataframe\">\n",
       "  <thead>\n",
       " <tr style=\"text-align: left;\">\n",
       "      <th>Step</th>\n",
       "      <th>Training Loss</th>\n",
       "      <th>Validation Loss</th>\n",
       "      <th>Accuracy</th>\n",
       "      <th>Precision Macro</th>\n",
       "      <th>Precision Micro</th>\n",
       "      <th>Recall Macro</th>\n",
       "      <th>Recall Micro</th>\n",
       "      <th>F1 Macro</th>\n",
       "      <th>F1 Micro</th>\n",
       "      <th>Precision Class World</th>\n",
       "      <th>Recall Class World</th>\n",
       "      <th>F1 Class World</th>\n",
       "      <th>Precision Class Sports</th>\n",
       "      <th>Recall Class Sports</th>\n",
       "      <th>F1 Class Sports</th>\n",
       "      <th>Precision Class Business</th>\n",
       "      <th>Recall Class Business</th>\n",
       "      <th>F1 Class Business</th>\n",
       "      <th>Precision Class Sci/tech</th>\n",
       "      <th>Recall Class Sci/tech</th>\n",
       "      <th>F1 Class Sci/tech</th>\n",
       "      <th>Norm</th>\n",
       "      <th>Size</th>\n",
       "      <th>Memory Allocated</th>\n",
       "      <th>Memory Cached</th>\n",
       "      <th>Model.model.roberta.encoder.layer.0.attention.self.query.lora A.default.weight</th>\n",
       "      <th>Model.model.roberta.encoder.layer.0.attention.self.query.lora B.default.weight</th>\n",
       "      <th>Model.model.roberta.encoder.layer.0.attention.self.value.lora A.default.weight</th>\n",
       "      <th>Model.model.roberta.encoder.layer.0.attention.self.value.lora B.default.weight</th>\n",
       "      <th>Model.model.roberta.encoder.layer.1.attention.self.query.lora A.default.weight</th>\n",
       "      <th>Model.model.roberta.encoder.layer.1.attention.self.query.lora B.default.weight</th>\n",
       "      <th>Model.model.roberta.encoder.layer.1.attention.self.value.lora A.default.weight</th>\n",
       "      <th>Model.model.roberta.encoder.layer.1.attention.self.value.lora B.default.weight</th>\n",
       "      <th>Model.model.roberta.encoder.layer.2.attention.self.query.lora A.default.weight</th>\n",
       "      <th>Model.model.roberta.encoder.layer.2.attention.self.query.lora B.default.weight</th>\n",
       "      <th>Model.model.roberta.encoder.layer.2.attention.self.value.lora A.default.weight</th>\n",
       "      <th>Model.model.roberta.encoder.layer.2.attention.self.value.lora B.default.weight</th>\n",
       "      <th>Model.model.roberta.encoder.layer.3.attention.self.query.lora A.default.weight</th>\n",
       "      <th>Model.model.roberta.encoder.layer.3.attention.self.query.lora B.default.weight</th>\n",
       "      <th>Model.model.roberta.encoder.layer.3.attention.self.value.lora A.default.weight</th>\n",
       "      <th>Model.model.roberta.encoder.layer.3.attention.self.value.lora B.default.weight</th>\n",
       "      <th>Model.model.roberta.encoder.layer.4.attention.self.query.lora A.default.weight</th>\n",
       "      <th>Model.model.roberta.encoder.layer.4.attention.self.query.lora B.default.weight</th>\n",
       "      <th>Model.model.roberta.encoder.layer.4.attention.self.value.lora A.default.weight</th>\n",
       "      <th>Model.model.roberta.encoder.layer.4.attention.self.value.lora B.default.weight</th>\n",
       "      <th>Model.model.roberta.encoder.layer.5.attention.self.query.lora A.default.weight</th>\n",
       "      <th>Model.model.roberta.encoder.layer.5.attention.self.query.lora B.default.weight</th>\n",
       "      <th>Model.model.roberta.encoder.layer.5.attention.self.value.lora A.default.weight</th>\n",
       "      <th>Model.model.roberta.encoder.layer.5.attention.self.value.lora B.default.weight</th>\n",
       "      <th>Model.model.roberta.encoder.layer.6.attention.self.query.lora A.default.weight</th>\n",
       "      <th>Model.model.roberta.encoder.layer.6.attention.self.query.lora B.default.weight</th>\n",
       "      <th>Model.model.roberta.encoder.layer.6.attention.self.value.lora A.default.weight</th>\n",
       "      <th>Model.model.roberta.encoder.layer.6.attention.self.value.lora B.default.weight</th>\n",
       "      <th>Model.model.roberta.encoder.layer.7.attention.self.query.lora A.default.weight</th>\n",
       "      <th>Model.model.roberta.encoder.layer.7.attention.self.query.lora B.default.weight</th>\n",
       "      <th>Model.model.roberta.encoder.layer.7.attention.self.value.lora A.default.weight</th>\n",
       "      <th>Model.model.roberta.encoder.layer.7.attention.self.value.lora B.default.weight</th>\n",
       "      <th>Model.model.roberta.encoder.layer.8.attention.self.query.lora A.default.weight</th>\n",
       "      <th>Model.model.roberta.encoder.layer.8.attention.self.query.lora B.default.weight</th>\n",
       "      <th>Model.model.roberta.encoder.layer.8.attention.self.value.lora A.default.weight</th>\n",
       "      <th>Model.model.roberta.encoder.layer.8.attention.self.value.lora B.default.weight</th>\n",
       "      <th>Model.model.roberta.encoder.layer.9.attention.self.query.lora A.default.weight</th>\n",
       "      <th>Model.model.roberta.encoder.layer.9.attention.self.query.lora B.default.weight</th>\n",
       "      <th>Model.model.roberta.encoder.layer.9.attention.self.value.lora A.default.weight</th>\n",
       "      <th>Model.model.roberta.encoder.layer.9.attention.self.value.lora B.default.weight</th>\n",
       "      <th>Model.model.roberta.encoder.layer.10.attention.self.query.lora A.default.weight</th>\n",
       "      <th>Model.model.roberta.encoder.layer.10.attention.self.query.lora B.default.weight</th>\n",
       "      <th>Model.model.roberta.encoder.layer.10.attention.self.value.lora A.default.weight</th>\n",
       "      <th>Model.model.roberta.encoder.layer.10.attention.self.value.lora B.default.weight</th>\n",
       "      <th>Model.model.roberta.encoder.layer.11.attention.self.query.lora A.default.weight</th>\n",
       "      <th>Model.model.roberta.encoder.layer.11.attention.self.query.lora B.default.weight</th>\n",
       "      <th>Model.model.roberta.encoder.layer.11.attention.self.value.lora A.default.weight</th>\n",
       "      <th>Model.model.roberta.encoder.layer.11.attention.self.value.lora B.default.weight</th>\n",
       "      <th>Model.model.classifier.modules To Save.default.dense.weight</th>\n",
       "      <th>Model.model.classifier.modules To Save.default.dense.bias</th>\n",
       "      <th>Model.model.classifier.modules To Save.default.out Proj.weight</th>\n",
       "      <th>Model.model.classifier.modules To Save.default.out Proj.bias</th>\n",
       "    </tr>\n",
       "  </thead>\n",
       "  <tbody>\n",
       "    <tr>\n",
       "      <td>200</td>\n",
       "      <td>0.376600</td>\n",
       "      <td>0.400551</td>\n",
       "      <td>0.865625</td>\n",
       "      <td>0.866022</td>\n",
       "      <td>0.865625</td>\n",
       "      <td>0.865991</td>\n",
       "      <td>0.865625</td>\n",
       "      <td>0.865253</td>\n",
       "      <td>0.865625</td>\n",
       "      <td>0.874074</td>\n",
       "      <td>0.813793</td>\n",
       "      <td>0.842857</td>\n",
       "      <td>0.914634</td>\n",
       "      <td>0.949367</td>\n",
       "      <td>0.931677</td>\n",
       "      <td>0.806061</td>\n",
       "      <td>0.869281</td>\n",
       "      <td>0.836478</td>\n",
       "      <td>0.869318</td>\n",
       "      <td>0.831522</td>\n",
       "      <td>0.850000</td>\n",
       "      <td>0.000000</td>\n",
       "      <td>32</td>\n",
       "      <td>509.058594</td>\n",
       "      <td>7180.000000</td>\n",
       "      <td>0.022759</td>\n",
       "      <td>0.003786</td>\n",
       "      <td>0.022423</td>\n",
       "      <td>0.004190</td>\n",
       "      <td>0.022531</td>\n",
       "      <td>0.004126</td>\n",
       "      <td>0.021982</td>\n",
       "      <td>0.003447</td>\n",
       "      <td>0.022723</td>\n",
       "      <td>0.003792</td>\n",
       "      <td>0.020947</td>\n",
       "      <td>0.002617</td>\n",
       "      <td>0.021200</td>\n",
       "      <td>0.002930</td>\n",
       "      <td>0.021318</td>\n",
       "      <td>0.002649</td>\n",
       "      <td>0.021352</td>\n",
       "      <td>0.003503</td>\n",
       "      <td>0.021495</td>\n",
       "      <td>0.003727</td>\n",
       "      <td>0.022184</td>\n",
       "      <td>0.004106</td>\n",
       "      <td>0.021630</td>\n",
       "      <td>0.004381</td>\n",
       "      <td>0.025257</td>\n",
       "      <td>0.005807</td>\n",
       "      <td>0.021708</td>\n",
       "      <td>0.004687</td>\n",
       "      <td>0.022085</td>\n",
       "      <td>0.004866</td>\n",
       "      <td>0.022372</td>\n",
       "      <td>0.004944</td>\n",
       "      <td>0.021889</td>\n",
       "      <td>0.005192</td>\n",
       "      <td>0.021938</td>\n",
       "      <td>0.004798</td>\n",
       "      <td>0.022689</td>\n",
       "      <td>0.005318</td>\n",
       "      <td>0.022232</td>\n",
       "      <td>0.004999</td>\n",
       "      <td>0.022864</td>\n",
       "      <td>0.005352</td>\n",
       "      <td>0.021942</td>\n",
       "      <td>0.004734</td>\n",
       "      <td>0.022139</td>\n",
       "      <td>0.004722</td>\n",
       "      <td>0.021899</td>\n",
       "      <td>0.004646</td>\n",
       "      <td>0.020327</td>\n",
       "      <td>0.000737</td>\n",
       "      <td>0.021308</td>\n",
       "      <td>0.000763</td>\n",
       "    </tr>\n",
       "    <tr>\n",
       "      <td>400</td>\n",
       "      <td>0.351000</td>\n",
       "      <td>0.387417</td>\n",
       "      <td>0.878125</td>\n",
       "      <td>0.880441</td>\n",
       "      <td>0.878125</td>\n",
       "      <td>0.875772</td>\n",
       "      <td>0.878125</td>\n",
       "      <td>0.877421</td>\n",
       "      <td>0.878125</td>\n",
       "      <td>0.886364</td>\n",
       "      <td>0.806897</td>\n",
       "      <td>0.844765</td>\n",
       "      <td>0.930818</td>\n",
       "      <td>0.936709</td>\n",
       "      <td>0.933754</td>\n",
       "      <td>0.862745</td>\n",
       "      <td>0.862745</td>\n",
       "      <td>0.862745</td>\n",
       "      <td>0.841837</td>\n",
       "      <td>0.896739</td>\n",
       "      <td>0.868421</td>\n",
       "      <td>0.000000</td>\n",
       "      <td>32</td>\n",
       "      <td>509.072266</td>\n",
       "      <td>7180.000000</td>\n",
       "      <td>0.024060</td>\n",
       "      <td>0.004979</td>\n",
       "      <td>0.022885</td>\n",
       "      <td>0.004656</td>\n",
       "      <td>0.023371</td>\n",
       "      <td>0.005038</td>\n",
       "      <td>0.022119</td>\n",
       "      <td>0.003734</td>\n",
       "      <td>0.023852</td>\n",
       "      <td>0.004742</td>\n",
       "      <td>0.021151</td>\n",
       "      <td>0.003122</td>\n",
       "      <td>0.021919</td>\n",
       "      <td>0.004053</td>\n",
       "      <td>0.021508</td>\n",
       "      <td>0.003121</td>\n",
       "      <td>0.021794</td>\n",
       "      <td>0.004463</td>\n",
       "      <td>0.021691</td>\n",
       "      <td>0.004063</td>\n",
       "      <td>0.022874</td>\n",
       "      <td>0.004889</td>\n",
       "      <td>0.021727</td>\n",
       "      <td>0.004599</td>\n",
       "      <td>0.026179</td>\n",
       "      <td>0.006304</td>\n",
       "      <td>0.021720</td>\n",
       "      <td>0.004868</td>\n",
       "      <td>0.022544</td>\n",
       "      <td>0.005519</td>\n",
       "      <td>0.022324</td>\n",
       "      <td>0.005070</td>\n",
       "      <td>0.022304</td>\n",
       "      <td>0.005667</td>\n",
       "      <td>0.021856</td>\n",
       "      <td>0.004922</td>\n",
       "      <td>0.023640</td>\n",
       "      <td>0.006152</td>\n",
       "      <td>0.022289</td>\n",
       "      <td>0.005214</td>\n",
       "      <td>0.024172</td>\n",
       "      <td>0.006177</td>\n",
       "      <td>0.021896</td>\n",
       "      <td>0.004924</td>\n",
       "      <td>0.022438</td>\n",
       "      <td>0.005304</td>\n",
       "      <td>0.021947</td>\n",
       "      <td>0.004852</td>\n",
       "      <td>0.020405</td>\n",
       "      <td>0.000934</td>\n",
       "      <td>0.021633</td>\n",
       "      <td>0.000963</td>\n",
       "    </tr>\n",
       "    <tr>\n",
       "      <td>600</td>\n",
       "      <td>0.367200</td>\n",
       "      <td>0.365845</td>\n",
       "      <td>0.871875</td>\n",
       "      <td>0.873355</td>\n",
       "      <td>0.871875</td>\n",
       "      <td>0.870742</td>\n",
       "      <td>0.871875</td>\n",
       "      <td>0.871637</td>\n",
       "      <td>0.871875</td>\n",
       "      <td>0.888060</td>\n",
       "      <td>0.820690</td>\n",
       "      <td>0.853047</td>\n",
       "      <td>0.925466</td>\n",
       "      <td>0.943038</td>\n",
       "      <td>0.934169</td>\n",
       "      <td>0.833333</td>\n",
       "      <td>0.849673</td>\n",
       "      <td>0.841424</td>\n",
       "      <td>0.846561</td>\n",
       "      <td>0.869565</td>\n",
       "      <td>0.857909</td>\n",
       "      <td>0.000000</td>\n",
       "      <td>32</td>\n",
       "      <td>509.072266</td>\n",
       "      <td>7180.000000</td>\n",
       "      <td>0.024945</td>\n",
       "      <td>0.005692</td>\n",
       "      <td>0.023102</td>\n",
       "      <td>0.004925</td>\n",
       "      <td>0.023901</td>\n",
       "      <td>0.005417</td>\n",
       "      <td>0.022195</td>\n",
       "      <td>0.003949</td>\n",
       "      <td>0.024593</td>\n",
       "      <td>0.005285</td>\n",
       "      <td>0.021400</td>\n",
       "      <td>0.003521</td>\n",
       "      <td>0.022270</td>\n",
       "      <td>0.004589</td>\n",
       "      <td>0.021677</td>\n",
       "      <td>0.003372</td>\n",
       "      <td>0.022132</td>\n",
       "      <td>0.005113</td>\n",
       "      <td>0.021814</td>\n",
       "      <td>0.004217</td>\n",
       "      <td>0.023180</td>\n",
       "      <td>0.005264</td>\n",
       "      <td>0.021799</td>\n",
       "      <td>0.004727</td>\n",
       "      <td>0.026523</td>\n",
       "      <td>0.006540</td>\n",
       "      <td>0.021837</td>\n",
       "      <td>0.005009</td>\n",
       "      <td>0.022832</td>\n",
       "      <td>0.005864</td>\n",
       "      <td>0.022489</td>\n",
       "      <td>0.005271</td>\n",
       "      <td>0.022733</td>\n",
       "      <td>0.006188</td>\n",
       "      <td>0.021885</td>\n",
       "      <td>0.005027</td>\n",
       "      <td>0.024115</td>\n",
       "      <td>0.006558</td>\n",
       "      <td>0.022382</td>\n",
       "      <td>0.005376</td>\n",
       "      <td>0.025124</td>\n",
       "      <td>0.006715</td>\n",
       "      <td>0.022006</td>\n",
       "      <td>0.005111</td>\n",
       "      <td>0.023081</td>\n",
       "      <td>0.006127</td>\n",
       "      <td>0.022067</td>\n",
       "      <td>0.004983</td>\n",
       "      <td>0.020447</td>\n",
       "      <td>0.001145</td>\n",
       "      <td>0.021700</td>\n",
       "      <td>0.001223</td>\n",
       "    </tr>\n",
       "    <tr>\n",
       "      <td>800</td>\n",
       "      <td>0.351000</td>\n",
       "      <td>0.363798</td>\n",
       "      <td>0.881250</td>\n",
       "      <td>0.885109</td>\n",
       "      <td>0.881250</td>\n",
       "      <td>0.878787</td>\n",
       "      <td>0.881250</td>\n",
       "      <td>0.880826</td>\n",
       "      <td>0.881250</td>\n",
       "      <td>0.907692</td>\n",
       "      <td>0.813793</td>\n",
       "      <td>0.858182</td>\n",
       "      <td>0.947368</td>\n",
       "      <td>0.911392</td>\n",
       "      <td>0.929032</td>\n",
       "      <td>0.833333</td>\n",
       "      <td>0.882353</td>\n",
       "      <td>0.857143</td>\n",
       "      <td>0.852041</td>\n",
       "      <td>0.907609</td>\n",
       "      <td>0.878947</td>\n",
       "      <td>0.000000</td>\n",
       "      <td>32</td>\n",
       "      <td>509.072266</td>\n",
       "      <td>7180.000000</td>\n",
       "      <td>0.025641</td>\n",
       "      <td>0.006207</td>\n",
       "      <td>0.023501</td>\n",
       "      <td>0.005229</td>\n",
       "      <td>0.024301</td>\n",
       "      <td>0.005725</td>\n",
       "      <td>0.022608</td>\n",
       "      <td>0.004218</td>\n",
       "      <td>0.024780</td>\n",
       "      <td>0.005602</td>\n",
       "      <td>0.021590</td>\n",
       "      <td>0.003744</td>\n",
       "      <td>0.022629</td>\n",
       "      <td>0.005022</td>\n",
       "      <td>0.021837</td>\n",
       "      <td>0.003597</td>\n",
       "      <td>0.022436</td>\n",
       "      <td>0.005594</td>\n",
       "      <td>0.021918</td>\n",
       "      <td>0.004341</td>\n",
       "      <td>0.023536</td>\n",
       "      <td>0.005640</td>\n",
       "      <td>0.021924</td>\n",
       "      <td>0.004843</td>\n",
       "      <td>0.026955</td>\n",
       "      <td>0.006783</td>\n",
       "      <td>0.022003</td>\n",
       "      <td>0.005185</td>\n",
       "      <td>0.023138</td>\n",
       "      <td>0.006198</td>\n",
       "      <td>0.022407</td>\n",
       "      <td>0.005293</td>\n",
       "      <td>0.023099</td>\n",
       "      <td>0.006513</td>\n",
       "      <td>0.021907</td>\n",
       "      <td>0.005125</td>\n",
       "      <td>0.024568</td>\n",
       "      <td>0.006946</td>\n",
       "      <td>0.022445</td>\n",
       "      <td>0.005495</td>\n",
       "      <td>0.027803</td>\n",
       "      <td>0.007689</td>\n",
       "      <td>0.022109</td>\n",
       "      <td>0.005238</td>\n",
       "      <td>0.023878</td>\n",
       "      <td>0.006779</td>\n",
       "      <td>0.022207</td>\n",
       "      <td>0.005177</td>\n",
       "      <td>0.020488</td>\n",
       "      <td>0.001283</td>\n",
       "      <td>0.021810</td>\n",
       "      <td>0.001302</td>\n",
       "    </tr>\n",
       "    <tr>\n",
       "      <td>1000</td>\n",
       "      <td>0.348900</td>\n",
       "      <td>0.349325</td>\n",
       "      <td>0.878125</td>\n",
       "      <td>0.878248</td>\n",
       "      <td>0.878125</td>\n",
       "      <td>0.877092</td>\n",
       "      <td>0.878125</td>\n",
       "      <td>0.877550</td>\n",
       "      <td>0.878125</td>\n",
       "      <td>0.863309</td>\n",
       "      <td>0.827586</td>\n",
       "      <td>0.845070</td>\n",
       "      <td>0.937107</td>\n",
       "      <td>0.943038</td>\n",
       "      <td>0.940063</td>\n",
       "      <td>0.851613</td>\n",
       "      <td>0.862745</td>\n",
       "      <td>0.857143</td>\n",
       "      <td>0.860963</td>\n",
       "      <td>0.875000</td>\n",
       "      <td>0.867925</td>\n",
       "      <td>0.000000</td>\n",
       "      <td>32</td>\n",
       "      <td>509.072266</td>\n",
       "      <td>7180.000000</td>\n",
       "      <td>0.026065</td>\n",
       "      <td>0.006546</td>\n",
       "      <td>0.023528</td>\n",
       "      <td>0.005311</td>\n",
       "      <td>0.024582</td>\n",
       "      <td>0.005922</td>\n",
       "      <td>0.022643</td>\n",
       "      <td>0.004309</td>\n",
       "      <td>0.025055</td>\n",
       "      <td>0.005894</td>\n",
       "      <td>0.021727</td>\n",
       "      <td>0.003918</td>\n",
       "      <td>0.022709</td>\n",
       "      <td>0.005179</td>\n",
       "      <td>0.021961</td>\n",
       "      <td>0.003742</td>\n",
       "      <td>0.022612</td>\n",
       "      <td>0.005915</td>\n",
       "      <td>0.021977</td>\n",
       "      <td>0.004395</td>\n",
       "      <td>0.023612</td>\n",
       "      <td>0.005769</td>\n",
       "      <td>0.021971</td>\n",
       "      <td>0.004898</td>\n",
       "      <td>0.027160</td>\n",
       "      <td>0.006896</td>\n",
       "      <td>0.022118</td>\n",
       "      <td>0.005273</td>\n",
       "      <td>0.023355</td>\n",
       "      <td>0.006426</td>\n",
       "      <td>0.022482</td>\n",
       "      <td>0.005352</td>\n",
       "      <td>0.023336</td>\n",
       "      <td>0.006712</td>\n",
       "      <td>0.021963</td>\n",
       "      <td>0.005224</td>\n",
       "      <td>0.024916</td>\n",
       "      <td>0.007213</td>\n",
       "      <td>0.022437</td>\n",
       "      <td>0.005554</td>\n",
       "      <td>0.028402</td>\n",
       "      <td>0.007958</td>\n",
       "      <td>0.022149</td>\n",
       "      <td>0.005309</td>\n",
       "      <td>0.024539</td>\n",
       "      <td>0.007263</td>\n",
       "      <td>0.022247</td>\n",
       "      <td>0.005201</td>\n",
       "      <td>0.020514</td>\n",
       "      <td>0.001279</td>\n",
       "      <td>0.021878</td>\n",
       "      <td>0.001180</td>\n",
       "    </tr>\n",
       "    <tr>\n",
       "      <td>1200</td>\n",
       "      <td>0.340500</td>\n",
       "      <td>0.337507</td>\n",
       "      <td>0.893750</td>\n",
       "      <td>0.897216</td>\n",
       "      <td>0.893750</td>\n",
       "      <td>0.891363</td>\n",
       "      <td>0.893750</td>\n",
       "      <td>0.893290</td>\n",
       "      <td>0.893750</td>\n",
       "      <td>0.922481</td>\n",
       "      <td>0.820690</td>\n",
       "      <td>0.868613</td>\n",
       "      <td>0.949367</td>\n",
       "      <td>0.949367</td>\n",
       "      <td>0.949367</td>\n",
       "      <td>0.859873</td>\n",
       "      <td>0.882353</td>\n",
       "      <td>0.870968</td>\n",
       "      <td>0.857143</td>\n",
       "      <td>0.913043</td>\n",
       "      <td>0.884211</td>\n",
       "      <td>0.000000</td>\n",
       "      <td>32</td>\n",
       "      <td>509.072266</td>\n",
       "      <td>7180.000000</td>\n",
       "      <td>0.026401</td>\n",
       "      <td>0.006797</td>\n",
       "      <td>0.023651</td>\n",
       "      <td>0.005409</td>\n",
       "      <td>0.024798</td>\n",
       "      <td>0.006090</td>\n",
       "      <td>0.022790</td>\n",
       "      <td>0.004421</td>\n",
       "      <td>0.025204</td>\n",
       "      <td>0.006008</td>\n",
       "      <td>0.021846</td>\n",
       "      <td>0.004047</td>\n",
       "      <td>0.022917</td>\n",
       "      <td>0.005418</td>\n",
       "      <td>0.022075</td>\n",
       "      <td>0.003858</td>\n",
       "      <td>0.022757</td>\n",
       "      <td>0.006147</td>\n",
       "      <td>0.022064</td>\n",
       "      <td>0.004488</td>\n",
       "      <td>0.023831</td>\n",
       "      <td>0.005968</td>\n",
       "      <td>0.022035</td>\n",
       "      <td>0.004987</td>\n",
       "      <td>0.027399</td>\n",
       "      <td>0.007026</td>\n",
       "      <td>0.022172</td>\n",
       "      <td>0.005304</td>\n",
       "      <td>0.023427</td>\n",
       "      <td>0.006547</td>\n",
       "      <td>0.022480</td>\n",
       "      <td>0.005372</td>\n",
       "      <td>0.023433</td>\n",
       "      <td>0.006790</td>\n",
       "      <td>0.021979</td>\n",
       "      <td>0.005259</td>\n",
       "      <td>0.025322</td>\n",
       "      <td>0.007436</td>\n",
       "      <td>0.022525</td>\n",
       "      <td>0.005619</td>\n",
       "      <td>0.029213</td>\n",
       "      <td>0.008190</td>\n",
       "      <td>0.022211</td>\n",
       "      <td>0.005377</td>\n",
       "      <td>0.024910</td>\n",
       "      <td>0.007503</td>\n",
       "      <td>0.022329</td>\n",
       "      <td>0.005305</td>\n",
       "      <td>0.020530</td>\n",
       "      <td>0.001336</td>\n",
       "      <td>0.021888</td>\n",
       "      <td>0.001270</td>\n",
       "    </tr>\n",
       "    <tr>\n",
       "      <td>1400</td>\n",
       "      <td>0.325600</td>\n",
       "      <td>0.337656</td>\n",
       "      <td>0.887500</td>\n",
       "      <td>0.891273</td>\n",
       "      <td>0.887500</td>\n",
       "      <td>0.885705</td>\n",
       "      <td>0.887500</td>\n",
       "      <td>0.887513</td>\n",
       "      <td>0.887500</td>\n",
       "      <td>0.922481</td>\n",
       "      <td>0.820690</td>\n",
       "      <td>0.868613</td>\n",
       "      <td>0.943038</td>\n",
       "      <td>0.943038</td>\n",
       "      <td>0.943038</td>\n",
       "      <td>0.849057</td>\n",
       "      <td>0.882353</td>\n",
       "      <td>0.865385</td>\n",
       "      <td>0.850515</td>\n",
       "      <td>0.896739</td>\n",
       "      <td>0.873016</td>\n",
       "      <td>0.000000</td>\n",
       "      <td>32</td>\n",
       "      <td>509.072266</td>\n",
       "      <td>7180.000000</td>\n",
       "      <td>0.026713</td>\n",
       "      <td>0.007028</td>\n",
       "      <td>0.023661</td>\n",
       "      <td>0.005432</td>\n",
       "      <td>0.024861</td>\n",
       "      <td>0.006175</td>\n",
       "      <td>0.022732</td>\n",
       "      <td>0.004427</td>\n",
       "      <td>0.025359</td>\n",
       "      <td>0.006166</td>\n",
       "      <td>0.021906</td>\n",
       "      <td>0.004124</td>\n",
       "      <td>0.022990</td>\n",
       "      <td>0.005526</td>\n",
       "      <td>0.022146</td>\n",
       "      <td>0.003901</td>\n",
       "      <td>0.022890</td>\n",
       "      <td>0.006303</td>\n",
       "      <td>0.022132</td>\n",
       "      <td>0.004569</td>\n",
       "      <td>0.024034</td>\n",
       "      <td>0.006121</td>\n",
       "      <td>0.022092</td>\n",
       "      <td>0.005047</td>\n",
       "      <td>0.027365</td>\n",
       "      <td>0.007045</td>\n",
       "      <td>0.022227</td>\n",
       "      <td>0.005362</td>\n",
       "      <td>0.023483</td>\n",
       "      <td>0.006640</td>\n",
       "      <td>0.022504</td>\n",
       "      <td>0.005415</td>\n",
       "      <td>0.023553</td>\n",
       "      <td>0.006895</td>\n",
       "      <td>0.022021</td>\n",
       "      <td>0.005297</td>\n",
       "      <td>0.025632</td>\n",
       "      <td>0.007610</td>\n",
       "      <td>0.022552</td>\n",
       "      <td>0.005645</td>\n",
       "      <td>0.029321</td>\n",
       "      <td>0.008271</td>\n",
       "      <td>0.022302</td>\n",
       "      <td>0.005435</td>\n",
       "      <td>0.025111</td>\n",
       "      <td>0.007631</td>\n",
       "      <td>0.022368</td>\n",
       "      <td>0.005358</td>\n",
       "      <td>0.020549</td>\n",
       "      <td>0.001349</td>\n",
       "      <td>0.022024</td>\n",
       "      <td>0.001259</td>\n",
       "    </tr>\n",
       "    <tr>\n",
       "      <td>1600</td>\n",
       "      <td>0.325800</td>\n",
       "      <td>0.336440</td>\n",
       "      <td>0.892188</td>\n",
       "      <td>0.895815</td>\n",
       "      <td>0.892188</td>\n",
       "      <td>0.890697</td>\n",
       "      <td>0.892188</td>\n",
       "      <td>0.892318</td>\n",
       "      <td>0.892188</td>\n",
       "      <td>0.923077</td>\n",
       "      <td>0.827586</td>\n",
       "      <td>0.872727</td>\n",
       "      <td>0.955128</td>\n",
       "      <td>0.943038</td>\n",
       "      <td>0.949045</td>\n",
       "      <td>0.845679</td>\n",
       "      <td>0.895425</td>\n",
       "      <td>0.869841</td>\n",
       "      <td>0.859375</td>\n",
       "      <td>0.896739</td>\n",
       "      <td>0.877660</td>\n",
       "      <td>0.000000</td>\n",
       "      <td>32</td>\n",
       "      <td>509.072266</td>\n",
       "      <td>7180.000000</td>\n",
       "      <td>0.026889</td>\n",
       "      <td>0.007151</td>\n",
       "      <td>0.023704</td>\n",
       "      <td>0.005456</td>\n",
       "      <td>0.024902</td>\n",
       "      <td>0.006224</td>\n",
       "      <td>0.022713</td>\n",
       "      <td>0.004424</td>\n",
       "      <td>0.025405</td>\n",
       "      <td>0.006198</td>\n",
       "      <td>0.021946</td>\n",
       "      <td>0.004164</td>\n",
       "      <td>0.022989</td>\n",
       "      <td>0.005535</td>\n",
       "      <td>0.022205</td>\n",
       "      <td>0.003943</td>\n",
       "      <td>0.022966</td>\n",
       "      <td>0.006411</td>\n",
       "      <td>0.022196</td>\n",
       "      <td>0.004634</td>\n",
       "      <td>0.024098</td>\n",
       "      <td>0.006173</td>\n",
       "      <td>0.022120</td>\n",
       "      <td>0.005069</td>\n",
       "      <td>0.027492</td>\n",
       "      <td>0.007080</td>\n",
       "      <td>0.022248</td>\n",
       "      <td>0.005384</td>\n",
       "      <td>0.023549</td>\n",
       "      <td>0.006707</td>\n",
       "      <td>0.022522</td>\n",
       "      <td>0.005424</td>\n",
       "      <td>0.023660</td>\n",
       "      <td>0.006984</td>\n",
       "      <td>0.022030</td>\n",
       "      <td>0.005312</td>\n",
       "      <td>0.025950</td>\n",
       "      <td>0.007715</td>\n",
       "      <td>0.022550</td>\n",
       "      <td>0.005648</td>\n",
       "      <td>0.029355</td>\n",
       "      <td>0.008321</td>\n",
       "      <td>0.022277</td>\n",
       "      <td>0.005431</td>\n",
       "      <td>0.025343</td>\n",
       "      <td>0.007735</td>\n",
       "      <td>0.022376</td>\n",
       "      <td>0.005356</td>\n",
       "      <td>0.020554</td>\n",
       "      <td>0.001388</td>\n",
       "      <td>0.022035</td>\n",
       "      <td>0.001345</td>\n",
       "    </tr>\n",
       "    <tr>\n",
       "      <td>1800</td>\n",
       "      <td>0.328700</td>\n",
       "      <td>0.332486</td>\n",
       "      <td>0.889062</td>\n",
       "      <td>0.891895</td>\n",
       "      <td>0.889062</td>\n",
       "      <td>0.887704</td>\n",
       "      <td>0.889062</td>\n",
       "      <td>0.889095</td>\n",
       "      <td>0.889062</td>\n",
       "      <td>0.909091</td>\n",
       "      <td>0.827586</td>\n",
       "      <td>0.866426</td>\n",
       "      <td>0.955128</td>\n",
       "      <td>0.943038</td>\n",
       "      <td>0.949045</td>\n",
       "      <td>0.844720</td>\n",
       "      <td>0.888889</td>\n",
       "      <td>0.866242</td>\n",
       "      <td>0.858639</td>\n",
       "      <td>0.891304</td>\n",
       "      <td>0.874667</td>\n",
       "      <td>0.000000</td>\n",
       "      <td>32</td>\n",
       "      <td>509.072266</td>\n",
       "      <td>7180.000000</td>\n",
       "      <td>0.027002</td>\n",
       "      <td>0.007218</td>\n",
       "      <td>0.023743</td>\n",
       "      <td>0.005473</td>\n",
       "      <td>0.024927</td>\n",
       "      <td>0.006243</td>\n",
       "      <td>0.022729</td>\n",
       "      <td>0.004426</td>\n",
       "      <td>0.025503</td>\n",
       "      <td>0.006240</td>\n",
       "      <td>0.021962</td>\n",
       "      <td>0.004170</td>\n",
       "      <td>0.023021</td>\n",
       "      <td>0.005570</td>\n",
       "      <td>0.022223</td>\n",
       "      <td>0.003947</td>\n",
       "      <td>0.022993</td>\n",
       "      <td>0.006454</td>\n",
       "      <td>0.022223</td>\n",
       "      <td>0.004663</td>\n",
       "      <td>0.024144</td>\n",
       "      <td>0.006201</td>\n",
       "      <td>0.022135</td>\n",
       "      <td>0.005079</td>\n",
       "      <td>0.027508</td>\n",
       "      <td>0.007093</td>\n",
       "      <td>0.022266</td>\n",
       "      <td>0.005399</td>\n",
       "      <td>0.023574</td>\n",
       "      <td>0.006729</td>\n",
       "      <td>0.022522</td>\n",
       "      <td>0.005425</td>\n",
       "      <td>0.023670</td>\n",
       "      <td>0.007004</td>\n",
       "      <td>0.022041</td>\n",
       "      <td>0.005322</td>\n",
       "      <td>0.026055</td>\n",
       "      <td>0.007755</td>\n",
       "      <td>0.022572</td>\n",
       "      <td>0.005660</td>\n",
       "      <td>0.029493</td>\n",
       "      <td>0.008360</td>\n",
       "      <td>0.022288</td>\n",
       "      <td>0.005433</td>\n",
       "      <td>0.025451</td>\n",
       "      <td>0.007784</td>\n",
       "      <td>0.022393</td>\n",
       "      <td>0.005368</td>\n",
       "      <td>0.020557</td>\n",
       "      <td>0.001391</td>\n",
       "      <td>0.022049</td>\n",
       "      <td>0.001342</td>\n",
       "    </tr>\n",
       "  </tbody>\n",
       "</table><p>"
      ],
      "text/plain": [
       "<IPython.core.display.HTML object>"
      ]
     },
     "metadata": {},
     "output_type": "display_data"
    },
    {
     "name": "stderr",
     "output_type": "stream",
     "text": [
      "/cache_intel/anaconda/miniconda3/lib/python3.9/site-packages/torch/nn/parallel/_functions.py:70: UserWarning: Was asked to gather along dimension 0, but all input tensors were scalars; will instead unsqueeze and return a vector.\n",
      "  warnings.warn(\n",
      "/cache_intel/anaconda/miniconda3/lib/python3.9/site-packages/torch/nn/parallel/data_parallel.py:37: UserWarning: \n",
      "    There is an imbalance between your GPUs. You may want to exclude GPU 2 which\n",
      "    has less than 75% of the memory or cores of GPU 0. You can do so by setting\n",
      "    the device_ids argument to DataParallel, or by setting the CUDA_VISIBLE_DEVICES\n",
      "    environment variable.\n",
      "  warnings.warn(\n",
      "/cache_intel/anaconda/miniconda3/lib/python3.9/site-packages/torch/nn/parallel/_functions.py:70: UserWarning: Was asked to gather along dimension 0, but all input tensors were scalars; will instead unsqueeze and return a vector.\n",
      "  warnings.warn(\n",
      "/cache_intel/anaconda/miniconda3/lib/python3.9/site-packages/torch/nn/parallel/data_parallel.py:37: UserWarning: \n",
      "    There is an imbalance between your GPUs. You may want to exclude GPU 2 which\n",
      "    has less than 75% of the memory or cores of GPU 0. You can do so by setting\n",
      "    the device_ids argument to DataParallel, or by setting the CUDA_VISIBLE_DEVICES\n",
      "    environment variable.\n",
      "  warnings.warn(\n",
      "/cache_intel/anaconda/miniconda3/lib/python3.9/site-packages/torch/nn/parallel/_functions.py:70: UserWarning: Was asked to gather along dimension 0, but all input tensors were scalars; will instead unsqueeze and return a vector.\n",
      "  warnings.warn(\n",
      "/cache_intel/anaconda/miniconda3/lib/python3.9/site-packages/torch/nn/parallel/data_parallel.py:37: UserWarning: \n",
      "    There is an imbalance between your GPUs. You may want to exclude GPU 2 which\n",
      "    has less than 75% of the memory or cores of GPU 0. You can do so by setting\n",
      "    the device_ids argument to DataParallel, or by setting the CUDA_VISIBLE_DEVICES\n",
      "    environment variable.\n",
      "  warnings.warn(\n",
      "/cache_intel/anaconda/miniconda3/lib/python3.9/site-packages/torch/nn/parallel/_functions.py:70: UserWarning: Was asked to gather along dimension 0, but all input tensors were scalars; will instead unsqueeze and return a vector.\n",
      "  warnings.warn(\n",
      "/cache_intel/anaconda/miniconda3/lib/python3.9/site-packages/torch/nn/parallel/data_parallel.py:37: UserWarning: \n",
      "    There is an imbalance between your GPUs. You may want to exclude GPU 2 which\n",
      "    has less than 75% of the memory or cores of GPU 0. You can do so by setting\n",
      "    the device_ids argument to DataParallel, or by setting the CUDA_VISIBLE_DEVICES\n",
      "    environment variable.\n",
      "  warnings.warn(\n",
      "/cache_intel/anaconda/miniconda3/lib/python3.9/site-packages/torch/nn/parallel/_functions.py:70: UserWarning: Was asked to gather along dimension 0, but all input tensors were scalars; will instead unsqueeze and return a vector.\n",
      "  warnings.warn(\n",
      "/cache_intel/anaconda/miniconda3/lib/python3.9/site-packages/torch/nn/parallel/data_parallel.py:37: UserWarning: \n",
      "    There is an imbalance between your GPUs. You may want to exclude GPU 2 which\n",
      "    has less than 75% of the memory or cores of GPU 0. You can do so by setting\n",
      "    the device_ids argument to DataParallel, or by setting the CUDA_VISIBLE_DEVICES\n",
      "    environment variable.\n",
      "  warnings.warn(\n",
      "/cache_intel/anaconda/miniconda3/lib/python3.9/site-packages/torch/nn/parallel/_functions.py:70: UserWarning: Was asked to gather along dimension 0, but all input tensors were scalars; will instead unsqueeze and return a vector.\n",
      "  warnings.warn(\n",
      "/cache_intel/anaconda/miniconda3/lib/python3.9/site-packages/torch/nn/parallel/data_parallel.py:37: UserWarning: \n",
      "    There is an imbalance between your GPUs. You may want to exclude GPU 2 which\n",
      "    has less than 75% of the memory or cores of GPU 0. You can do so by setting\n",
      "    the device_ids argument to DataParallel, or by setting the CUDA_VISIBLE_DEVICES\n",
      "    environment variable.\n",
      "  warnings.warn(\n",
      "/cache_intel/anaconda/miniconda3/lib/python3.9/site-packages/torch/nn/parallel/_functions.py:70: UserWarning: Was asked to gather along dimension 0, but all input tensors were scalars; will instead unsqueeze and return a vector.\n",
      "  warnings.warn(\n",
      "/cache_intel/anaconda/miniconda3/lib/python3.9/site-packages/torch/nn/parallel/data_parallel.py:37: UserWarning: \n",
      "    There is an imbalance between your GPUs. You may want to exclude GPU 2 which\n",
      "    has less than 75% of the memory or cores of GPU 0. You can do so by setting\n",
      "    the device_ids argument to DataParallel, or by setting the CUDA_VISIBLE_DEVICES\n",
      "    environment variable.\n",
      "  warnings.warn(\n",
      "/cache_intel/anaconda/miniconda3/lib/python3.9/site-packages/torch/nn/parallel/_functions.py:70: UserWarning: Was asked to gather along dimension 0, but all input tensors were scalars; will instead unsqueeze and return a vector.\n",
      "  warnings.warn(\n",
      "/cache_intel/anaconda/miniconda3/lib/python3.9/site-packages/torch/nn/parallel/data_parallel.py:37: UserWarning: \n",
      "    There is an imbalance between your GPUs. You may want to exclude GPU 2 which\n",
      "    has less than 75% of the memory or cores of GPU 0. You can do so by setting\n",
      "    the device_ids argument to DataParallel, or by setting the CUDA_VISIBLE_DEVICES\n",
      "    environment variable.\n",
      "  warnings.warn(\n",
      "/cache_intel/anaconda/miniconda3/lib/python3.9/site-packages/torch/nn/parallel/_functions.py:70: UserWarning: Was asked to gather along dimension 0, but all input tensors were scalars; will instead unsqueeze and return a vector.\n",
      "  warnings.warn(\n",
      "Could not locate the best model at results/checkpoint-1200/pytorch_model.bin, if you are running a distributed training on multiple nodes, you should activate `--save_on_each_node`.\n"
     ]
    }
   ],
   "source": [
    "peft_lora_finetuning_trainer = get_trainer(peft_model)\n",
    "\n",
    "result = peft_lora_finetuning_trainer.train()"
   ]
  },
  {
   "cell_type": "code",
   "execution_count": 22,
   "id": "bb49e2b3",
   "metadata": {},
   "outputs": [
    {
     "name": "stdout",
     "output_type": "stream",
     "text": [
      "Model saved to results/peft_model_shuffle\n"
     ]
    }
   ],
   "source": [
    "# Save Model\n",
    "peft_model_path = os.path.join(output_dir, \"peft_model_shuffle\")\n",
    "peft_model.save_pretrained(peft_model_path)\n",
    "# Save Tokenizer\n",
    "tokenizer.save_pretrained(peft_model_path)\n",
    "print(f\"Model saved to {peft_model_path}\")\n"
   ]
  },
  {
   "cell_type": "markdown",
   "id": "5183be7e-514f-4e64-a6f4-314a827e6be5",
   "metadata": {
    "id": "5183be7e-514f-4e64-a6f4-314a827e6be5"
   },
   "source": [
    "## Evaluate Finetuned Model\n"
   ]
  },
  {
   "cell_type": "markdown",
   "id": "68a3e276-bf8c-4403-8a48-5ef19f2beccf",
   "metadata": {
    "id": "68a3e276-bf8c-4403-8a48-5ef19f2beccf"
   },
   "source": [
    "### Run Inference on eval_dataset"
   ]
  },
  {
   "cell_type": "code",
   "execution_count": 23,
   "id": "ebbc20a2-a1c0-4cb7-b842-f52e4de61ed5",
   "metadata": {
    "id": "ebbc20a2-a1c0-4cb7-b842-f52e4de61ed5"
   },
   "outputs": [],
   "source": [
    "from torch.utils.data import DataLoader\n",
    "import evaluate\n",
    "from tqdm import tqdm\n",
    "\n",
    "def evaluate_model(inference_model, dataset, labelled=True, batch_size=32, data_collator=None):\n",
    "    \"\"\"\n",
    "    Evaluate a PEFT model on a dataset.\n",
    "\n",
    "    Args:\n",
    "        inference_model: The model to evaluate.\n",
    "        dataset: The dataset (Hugging Face Dataset) to run inference on.\n",
    "        labelled (bool): If True, the dataset includes labels and metrics will be computed.\n",
    "                         If False, only predictions will be returned.\n",
    "        batch_size (int): Batch size for inference.\n",
    "        data_collator: Function to collate batches. If None, the default collate_fn is used.\n",
    "\n",
    "    Returns:\n",
    "        If labelled is True, returns a tuple (metrics, predictions)\n",
    "        If labelled is False, returns the predictions.\n",
    "    \"\"\"\n",
    "    # Create the DataLoader\n",
    "    eval_dataloader = DataLoader(dataset, batch_size=batch_size, collate_fn=data_collator)\n",
    "    device = torch.device(\"cuda\" if torch.cuda.is_available() else \"cpu\")\n",
    "\n",
    "    inference_model.to(device)\n",
    "    inference_model.eval()\n",
    "\n",
    "    all_predictions = []\n",
    "    if labelled:\n",
    "        metric = evaluate.load('accuracy')\n",
    "\n",
    "    # Loop over the DataLoader\n",
    "    for batch in tqdm(eval_dataloader):\n",
    "        # Move each tensor in the batch to the device\n",
    "        batch = {k: v.to(device) for k, v in batch.items()}\n",
    "        with torch.no_grad():\n",
    "            outputs = inference_model(**batch)\n",
    "        predictions = outputs.logits.argmax(dim=-1)\n",
    "        all_predictions.append(predictions.cpu())\n",
    "\n",
    "        if labelled:\n",
    "            # Expecting that labels are provided under the \"labels\" key.\n",
    "            references = batch[\"labels\"]\n",
    "            metric.add_batch(\n",
    "                predictions=predictions.cpu().numpy(),\n",
    "                references=references.cpu().numpy()\n",
    "            )\n",
    "\n",
    "    # Concatenate predictions from all batches\n",
    "    all_predictions = torch.cat(all_predictions, dim=0)\n",
    "\n",
    "    if labelled:\n",
    "        eval_metric = metric.compute()\n",
    "        print(\"Evaluation Metric:\", eval_metric)\n",
    "        return eval_metric, all_predictions\n",
    "    else:\n",
    "        return all_predictions"
   ]
  },
  {
   "cell_type": "code",
   "execution_count": 24,
   "id": "809635a6-a2c7-4d09-8d60-ababd1815003",
   "metadata": {
    "id": "809635a6-a2c7-4d09-8d60-ababd1815003"
   },
   "outputs": [
    {
     "name": "stderr",
     "output_type": "stream",
     "text": [
      "100%|██████████| 20/20 [00:03<00:00,  5.01it/s]"
     ]
    },
    {
     "name": "stdout",
     "output_type": "stream",
     "text": [
      "Evaluation Metric: {'accuracy': 0.8890625}\n"
     ]
    },
    {
     "name": "stderr",
     "output_type": "stream",
     "text": [
      "\n"
     ]
    }
   ],
   "source": [
    "# Check evaluation accuracy\n",
    "_, _ = evaluate_model(peft_model, eval_dataset, True, 32, data_collator)"
   ]
  },
  {
   "cell_type": "markdown",
   "id": "75f39087-f2bb-49d3-9fe1-0d812fb30203",
   "metadata": {
    "id": "75f39087-f2bb-49d3-9fe1-0d812fb30203"
   },
   "source": [
    "### Run Inference on unlabelled dataset"
   ]
  },
  {
   "cell_type": "code",
   "execution_count": 26,
   "id": "2af62541-2c33-4f16-bb1c-cc969c715cd7",
   "metadata": {
    "id": "2af62541-2c33-4f16-bb1c-cc969c715cd7"
   },
   "outputs": [
    {
     "data": {
      "application/vnd.jupyter.widget-view+json": {
       "model_id": "f0b76c6b68894a06ac3b1bbf3f64e783",
       "version_major": 2,
       "version_minor": 0
      },
      "text/plain": [
       "Map:   0%|          | 0/8000 [00:00<?, ? examples/s]"
      ]
     },
     "metadata": {},
     "output_type": "display_data"
    },
    {
     "data": {
      "text/plain": [
       "Dataset({\n",
       "    features: ['text'],\n",
       "    num_rows: 8000\n",
       "})"
      ]
     },
     "execution_count": 26,
     "metadata": {},
     "output_type": "execute_result"
    }
   ],
   "source": [
    "#Load your unlabelled data\n",
    "unlabelled_dataset = pd.read_pickle(\"/home/viewsetting/ssd_2T/test_unlabelled.pkl\")\n",
    "test_dataset = unlabelled_dataset.map(preprocess_with_augmentation, batched=True, remove_columns=[\"text\"])\n",
    "unlabelled_dataset"
   ]
  },
  {
   "cell_type": "code",
   "execution_count": 27,
   "id": "e60991d3-38b1-4657-8854-408ce66f6b84",
   "metadata": {
    "id": "e60991d3-38b1-4657-8854-408ce66f6b84"
   },
   "outputs": [
    {
     "name": "stderr",
     "output_type": "stream",
     "text": [
      "100%|██████████| 250/250 [00:26<00:00,  9.50it/s]"
     ]
    },
    {
     "name": "stdout",
     "output_type": "stream",
     "text": [
      "Inference complete. Predictions saved to inference_output.csv\n"
     ]
    },
    {
     "name": "stderr",
     "output_type": "stream",
     "text": [
      "\n"
     ]
    }
   ],
   "source": [
    "# Run inference and save predictions\n",
    "preds = evaluate_model(peft_model, test_dataset, False, 32, data_collator)\n",
    "df_output = pd.DataFrame({\n",
    "    'ID': range(len(preds)),\n",
    "    'Label': preds.numpy()  # or preds.tolist()\n",
    "})\n",
    "df_output.to_csv(os.path.join(output_dir,\"inference_output_shuffle.csv\"), index=False)\n",
    "print(\"Inference complete. Predictions saved to inference_output.csv\")"
   ]
  }
 ],
 "metadata": {
  "accelerator": "GPU",
  "colab": {
   "gpuType": "T4",
   "provenance": []
  },
  "kernelspec": {
   "display_name": "base",
   "language": "python",
   "name": "python3"
  },
  "language_info": {
   "codemirror_mode": {
    "name": "ipython",
    "version": 3
   },
   "file_extension": ".py",
   "mimetype": "text/x-python",
   "name": "python",
   "nbconvert_exporter": "python",
   "pygments_lexer": "ipython3",
   "version": "3.9.12"
  }
 },
 "nbformat": 4,
 "nbformat_minor": 5
}
