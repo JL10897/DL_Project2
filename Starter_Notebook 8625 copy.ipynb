{
 "cells": [
  {
   "cell_type": "markdown",
   "id": "a02285e6",
   "metadata": {
    "id": "a02285e6"
   },
   "source": [
    "# Starter Notebook"
   ]
  },
  {
   "cell_type": "markdown",
   "id": "bdcc5329",
   "metadata": {
    "id": "bdcc5329"
   },
   "source": [
    "Install and import required libraries"
   ]
  },
  {
   "cell_type": "code",
   "execution_count": 1,
   "id": "348ceed6-b684-46c3-8a32-9bb640c9a9d7",
   "metadata": {
    "id": "348ceed6-b684-46c3-8a32-9bb640c9a9d7"
   },
   "outputs": [],
   "source": [
    "# !pip install transformers datasets evaluate accelerate peft trl bitsandbytes\n",
    "# !pip install nvidia-ml-py3"
   ]
  },
  {
   "cell_type": "code",
   "execution_count": 2,
   "id": "cca64f38-d8d2-4313-8295-fbbd43c2a263",
   "metadata": {
    "id": "cca64f38-d8d2-4313-8295-fbbd43c2a263"
   },
   "outputs": [
    {
     "name": "stderr",
     "output_type": "stream",
     "text": [
      "[nltk_data] Downloading package wordnet to\n",
      "[nltk_data]     /home/viewsetting/nltk_data...\n",
      "[nltk_data]   Package wordnet is already up-to-date!\n",
      "[nltk_data] Downloading package averaged_perceptron_tagger to\n",
      "[nltk_data]     /home/viewsetting/nltk_data...\n",
      "[nltk_data]   Package averaged_perceptron_tagger is already up-to-\n",
      "[nltk_data]       date!\n"
     ]
    },
    {
     "data": {
      "text/plain": [
       "True"
      ]
     },
     "execution_count": 2,
     "metadata": {},
     "output_type": "execute_result"
    }
   ],
   "source": [
    "import os\n",
    "import pandas as pd\n",
    "import torch\n",
    "import random\n",
    "import re\n",
    "import nltk\n",
    "import pickle\n",
    "import nlpaug.augmenter.word as naw\n",
    "import nlpaug.augmenter.char as nac\n",
    "\n",
    "from transformers import (\n",
    "    RobertaModel,\n",
    "    RobertaTokenizer, \n",
    "    TrainingArguments,\n",
    "    Trainer,\n",
    "    DataCollatorWithPadding,\n",
    "    RobertaForSequenceClassification,\n",
    "    EarlyStoppingCallback\n",
    ")\n",
    "from peft import LoraConfig, get_peft_model, PeftModel\n",
    "from datasets import load_dataset, Dataset, ClassLabel\n",
    "\n",
    "# Download required NLTK data\n",
    "nltk.download('wordnet')\n",
    "nltk.download('averaged_perceptron_tagger')"
   ]
  },
  {
   "cell_type": "code",
   "execution_count": 3,
   "id": "09eccaf2",
   "metadata": {},
   "outputs": [
    {
     "name": "stdout",
     "output_type": "stream",
     "text": [
      "使用设备: cuda:1\n"
     ]
    }
   ],
   "source": [
    "# 设置设备\n",
    "device = torch.device('cuda:1' if torch.cuda.is_available() else 'mps' if torch.backends.mps.is_available() else 'cpu')\n",
    "print(f\"使用设备: {device}\")"
   ]
  },
  {
   "cell_type": "code",
   "execution_count": 4,
   "id": "d0b527c6",
   "metadata": {},
   "outputs": [
    {
     "name": "stderr",
     "output_type": "stream",
     "text": [
      "Failed to detect the name of this notebook, you can set it manually with the WANDB_NOTEBOOK_NAME environment variable to enable code saving.\n",
      "\u001b[34m\u001b[1mwandb\u001b[0m: \u001b[33mWARNING\u001b[0m If you're specifying your api key in code, ensure this code is not shared publicly.\n",
      "\u001b[34m\u001b[1mwandb\u001b[0m: \u001b[33mWARNING\u001b[0m Consider setting the WANDB_API_KEY environment variable, or running `wandb login` from the command line.\n",
      "\u001b[34m\u001b[1mwandb\u001b[0m: Appending key for api.wandb.ai to your netrc file: /home/viewsetting/.netrc\n"
     ]
    },
    {
     "data": {
      "text/plain": [
       "True"
      ]
     },
     "execution_count": 4,
     "metadata": {},
     "output_type": "execute_result"
    }
   ],
   "source": [
    "import wandb\n",
    "wandb.login(key=\"2008ab8d896bfc68619ace7f820e0513468b9783\", relogin=True)\n"
   ]
  },
  {
   "cell_type": "code",
   "execution_count": 5,
   "id": "415c25a4",
   "metadata": {},
   "outputs": [
    {
     "name": "stdout",
     "output_type": "stream",
     "text": [
      "Current wandb entity: jl10897-new-york-university\n"
     ]
    }
   ],
   "source": [
    "# Get current wandb entity\n",
    "current_entity = wandb.api.default_entity\n",
    "print(f\"Current wandb entity: {current_entity}\")\n"
   ]
  },
  {
   "cell_type": "markdown",
   "id": "59d6e377",
   "metadata": {
    "id": "59d6e377"
   },
   "source": [
    "## Load Tokenizer and Preprocess Data"
   ]
  },
  {
   "cell_type": "code",
   "execution_count": 6,
   "id": "21f42747-f551-40a5-a95f-7affb1eba4a3",
   "metadata": {
    "id": "21f42747-f551-40a5-a95f-7affb1eba4a3"
   },
   "outputs": [],
   "source": [
    "# base_model = 'roberta-base'\n",
    "# # base_model = 'roberta-large'\n",
    "\n",
    "# dataset = load_dataset('ag_news', split='train')\n",
    "# tokenizer = RobertaTokenizer.from_pretrained(base_model)\n",
    "\n",
    "# def clean_text(text):\n",
    "#     text = re.sub(r\"<.*?>\", \"\", text)                 # 去除 HTML 标签\n",
    "#     text = re.sub(r\"http\\S+|www\\S+\", \"\", text)        # 移除 URL\n",
    "#     text = re.sub(r\"[^A-Za-z0-9.,!?;:'\\\"()\\[\\]\\s]\", \"\", text)  # 去除特殊字符\n",
    "#     text = re.sub(r\"\\s+\", \" \", text).strip()          # 去除多余空格\n",
    "#     return text.lower()                               # 可选：统一小写\n",
    "    \n",
    "# def preprocess(examples):\n",
    "#     cleaned_texts = [clean_text(t) for t in examples['text']]\n",
    "#     return tokenizer(cleaned_texts, truncation=True, padding=True, max_length=256)\n",
    "\n",
    "# tokenized_dataset = dataset.map(preprocess, batched=True,  remove_columns=[\"text\"])\n",
    "# tokenized_dataset = tokenized_dataset.rename_column(\"label\", \"labels\")"
   ]
  },
  {
   "cell_type": "code",
   "execution_count": 7,
   "id": "5cc88ef2",
   "metadata": {},
   "outputs": [
    {
     "name": "stderr",
     "output_type": "stream",
     "text": [
      "[nltk_data] Downloading package averaged_perceptron_tagger_eng to\n",
      "[nltk_data]     /home/viewsetting/nltk_data...\n",
      "[nltk_data]   Unzipping taggers/averaged_perceptron_tagger_eng.zip.\n"
     ]
    },
    {
     "data": {
      "text/plain": [
       "True"
      ]
     },
     "execution_count": 7,
     "metadata": {},
     "output_type": "execute_result"
    }
   ],
   "source": [
    "nltk.download('averaged_perceptron_tagger_eng', download_dir='/home/viewsetting/nltk_data')\n",
    "\n"
   ]
  },
  {
   "cell_type": "code",
   "execution_count": 8,
   "id": "7f7cf7e0",
   "metadata": {},
   "outputs": [],
   "source": [
    "nltk.data.path.append('/home/viewsetting/nltk_data')"
   ]
  },
  {
   "cell_type": "code",
   "execution_count": 9,
   "id": "4d90e80a",
   "metadata": {},
   "outputs": [
    {
     "name": "stderr",
     "output_type": "stream",
     "text": [
      "/cache_intel/anaconda/miniconda3/lib/python3.9/site-packages/transformers/tokenization_utils_base.py:1601: FutureWarning: `clean_up_tokenization_spaces` was not set. It will be set to `True` by default. This behavior will be depracted in transformers v4.45, and will be then set to `False` by default. For more details check this issue: https://github.com/huggingface/transformers/issues/31884\n",
      "  warnings.warn(\n",
      "Parameter 'function'=<function <lambda> at 0x7646e553b8b0> of the transform datasets.arrow_dataset.Dataset._map_single couldn't be hashed properly, a random hash was used instead. Make sure your transforms and parameters are serializable with pickle or dill for the dataset fingerprinting and caching to work. If you reuse this transform, the caching mechanism will consider it to be different from the previous calls and recompute everything. This warning is only showed once. Subsequent hashing failures won't be showed.\n"
     ]
    },
    {
     "data": {
      "application/vnd.jupyter.widget-view+json": {
       "model_id": "f37f93f14e9b470c8c5f7097ac5a79e9",
       "version_major": 2,
       "version_minor": 0
      },
      "text/plain": [
       "Map:   0%|          | 0/120000 [00:00<?, ? examples/s]"
      ]
     },
     "metadata": {},
     "output_type": "display_data"
    }
   ],
   "source": [
    "base_model = 'roberta-base'\n",
    "# base_model = 'roberta-large'\n",
    "\n",
    "dataset = load_dataset('ag_news', split='train')\n",
    "tokenizer = RobertaTokenizer.from_pretrained(base_model)\n",
    "\n",
    "# Initialize augmenters\n",
    "synonym_aug = naw.SynonymAug(aug_src='wordnet', aug_p=0.3)\n",
    "delete_aug = naw.RandomWordAug(action='delete', aug_p=0.1)\n",
    "swap_aug = naw.RandomWordAug(action='swap', aug_p=0.1)\n",
    "typo_aug = nac.RandomCharAug(action='swap', aug_char_p=0.05, aug_word_p=0.1)\n",
    "\n",
    "def clean_text(text):\n",
    "    text = re.sub(r\"<.*?>\", \"\", text)                 # 去除 HTML 标签\n",
    "    text = re.sub(r\"http\\S+|www\\S+\", \"\", text)        # 移除 URL\n",
    "    text = re.sub(r\"[^A-Za-z0-9.,!?;:'\\\"()\\[\\]\\s]\", \"\", text)  # 去除特殊字符\n",
    "    text = re.sub(r\"\\s+\", \" \", text).strip()          # 去除多余空格\n",
    "    return text.lower()                               # 统一小写\n",
    "\n",
    "def simple_paraphrase(text):\n",
    "    # Simple rule-based paraphrasing\n",
    "    replacements = {\n",
    "        'said': 'stated',\n",
    "        'big': 'large',\n",
    "        'small': 'tiny',\n",
    "        'good': 'excellent',\n",
    "        'bad': 'poor',\n",
    "        'buy': 'purchase',\n",
    "        'sell': 'trade',\n",
    "        'make': 'create',\n",
    "        'show': 'display',\n",
    "        'start': 'begin'\n",
    "    }\n",
    "    words = text.split()\n",
    "    for i, word in enumerate(words):\n",
    "        if word.lower() in replacements and random.random() < 0.3:\n",
    "            words[i] = replacements[word.lower()]\n",
    "    return ' '.join(words)\n",
    "\n",
    "def preprocess_with_augmentation(examples, augmentations=None):\n",
    "    if augmentations is None:\n",
    "        augmentations = {\n",
    "            'synonym': False,\n",
    "            'delete': False,\n",
    "            'swap': False,\n",
    "            'paraphrase': False,\n",
    "            'noise': False\n",
    "        }\n",
    "\n",
    "    # Clean texts first\n",
    "    cleaned_texts = [clean_text(t) for t in examples['text']]\n",
    "    augmented_texts = []\n",
    "\n",
    "    for text in cleaned_texts:\n",
    "        aug_text = text\n",
    "        if augmentations.get('synonym', False):\n",
    "            aug_text = synonym_aug.augment(aug_text)[0]\n",
    "        if augmentations.get('delete', False):\n",
    "            aug_text = delete_aug.augment(aug_text)[0]\n",
    "        if augmentations.get('swap', False):\n",
    "            aug_text = swap_aug.augment(aug_text)[0]\n",
    "        if augmentations.get('paraphrase', False):\n",
    "            aug_text = simple_paraphrase(aug_text)\n",
    "        if augmentations.get('noise', False):\n",
    "            aug_text = typo_aug.augment(aug_text)[0]\n",
    "        augmented_texts.append(aug_text)\n",
    "\n",
    "    # Tokenize with same parameters as original\n",
    "    return tokenizer(augmented_texts, truncation=True, padding=True, max_length=256)\n",
    "\n",
    "# Example augmentation configuration\n",
    "augmentation_config = {\n",
    "    'synonym': True,\n",
    "    'delete': True,\n",
    "    'swap': True,\n",
    "    'paraphrase': True,\n",
    "    'noise': True\n",
    "}\n",
    "\n",
    "tokenized_dataset = dataset.map(\n",
    "    lambda examples: preprocess_with_augmentation(examples, augmentation_config),\n",
    "    batched=True,\n",
    "    remove_columns=[\"text\"]\n",
    ")\n",
    "tokenized_dataset = tokenized_dataset.rename_column(\"label\", \"labels\")"
   ]
  },
  {
   "cell_type": "markdown",
   "id": "f5b4bd0d",
   "metadata": {},
   "source": []
  },
  {
   "cell_type": "code",
   "execution_count": 10,
   "id": "9e07f641-bec0-43a6-8c26-510d7642916a",
   "metadata": {
    "id": "9e07f641-bec0-43a6-8c26-510d7642916a"
   },
   "outputs": [
    {
     "name": "stdout",
     "output_type": "stream",
     "text": [
      "number of labels: 4\n",
      "the labels: ['World', 'Sports', 'Business', 'Sci/Tech']\n"
     ]
    }
   ],
   "source": [
    "# Extract the number of classess and their names\n",
    "num_labels = dataset.features['label'].num_classes\n",
    "class_names = dataset.features[\"label\"].names\n",
    "print(f\"number of labels: {num_labels}\")\n",
    "print(f\"the labels: {class_names}\")\n",
    "\n",
    "# Create an id2label mapping\n",
    "# We will need this for our classifier.\n",
    "id2label = {i: label for i, label in enumerate(class_names)}\n",
    "\n",
    "data_collator = DataCollatorWithPadding(tokenizer=tokenizer, return_tensors=\"pt\")\n"
   ]
  },
  {
   "cell_type": "markdown",
   "id": "c9e24afd",
   "metadata": {
    "id": "c9e24afd"
   },
   "source": [
    "## Load Pre-trained Model\n",
    "Set up config for pretrained model and download it from hugging face"
   ]
  },
  {
   "cell_type": "code",
   "execution_count": 11,
   "id": "262a8416-a59c-4ea1-95d9-0b1f81d6094c",
   "metadata": {
    "id": "262a8416-a59c-4ea1-95d9-0b1f81d6094c"
   },
   "outputs": [
    {
     "name": "stderr",
     "output_type": "stream",
     "text": [
      "Some weights of RobertaForSequenceClassification were not initialized from the model checkpoint at roberta-base and are newly initialized: ['classifier.dense.bias', 'classifier.dense.weight', 'classifier.out_proj.bias', 'classifier.out_proj.weight']\n",
      "You should probably TRAIN this model on a down-stream task to be able to use it for predictions and inference.\n"
     ]
    },
    {
     "data": {
      "text/plain": [
       "RobertaForSequenceClassification(\n",
       "  (roberta): RobertaModel(\n",
       "    (embeddings): RobertaEmbeddings(\n",
       "      (word_embeddings): Embedding(50265, 768, padding_idx=1)\n",
       "      (position_embeddings): Embedding(514, 768, padding_idx=1)\n",
       "      (token_type_embeddings): Embedding(1, 768)\n",
       "      (LayerNorm): LayerNorm((768,), eps=1e-05, elementwise_affine=True)\n",
       "      (dropout): Dropout(p=0.1, inplace=False)\n",
       "    )\n",
       "    (encoder): RobertaEncoder(\n",
       "      (layer): ModuleList(\n",
       "        (0-11): 12 x RobertaLayer(\n",
       "          (attention): RobertaAttention(\n",
       "            (self): RobertaSelfAttention(\n",
       "              (query): Linear(in_features=768, out_features=768, bias=True)\n",
       "              (key): Linear(in_features=768, out_features=768, bias=True)\n",
       "              (value): Linear(in_features=768, out_features=768, bias=True)\n",
       "              (dropout): Dropout(p=0.1, inplace=False)\n",
       "            )\n",
       "            (output): RobertaSelfOutput(\n",
       "              (dense): Linear(in_features=768, out_features=768, bias=True)\n",
       "              (LayerNorm): LayerNorm((768,), eps=1e-05, elementwise_affine=True)\n",
       "              (dropout): Dropout(p=0.1, inplace=False)\n",
       "            )\n",
       "          )\n",
       "          (intermediate): RobertaIntermediate(\n",
       "            (dense): Linear(in_features=768, out_features=3072, bias=True)\n",
       "            (intermediate_act_fn): GELUActivation()\n",
       "          )\n",
       "          (output): RobertaOutput(\n",
       "            (dense): Linear(in_features=3072, out_features=768, bias=True)\n",
       "            (LayerNorm): LayerNorm((768,), eps=1e-05, elementwise_affine=True)\n",
       "            (dropout): Dropout(p=0.1, inplace=False)\n",
       "          )\n",
       "        )\n",
       "      )\n",
       "    )\n",
       "  )\n",
       "  (classifier): RobertaClassificationHead(\n",
       "    (dense): Linear(in_features=768, out_features=768, bias=True)\n",
       "    (dropout): Dropout(p=0.1, inplace=False)\n",
       "    (out_proj): Linear(in_features=768, out_features=4, bias=True)\n",
       "  )\n",
       ")"
      ]
     },
     "execution_count": 11,
     "metadata": {},
     "output_type": "execute_result"
    }
   ],
   "source": [
    "model = RobertaForSequenceClassification.from_pretrained(\n",
    "    base_model,\n",
    "    id2label=id2label)\n",
    "model"
   ]
  },
  {
   "cell_type": "markdown",
   "id": "f265839d-a088-4693-8474-862641de11ed",
   "metadata": {
    "id": "f265839d-a088-4693-8474-862641de11ed"
   },
   "source": [
    "## Anything from here on can be modified"
   ]
  },
  {
   "cell_type": "code",
   "execution_count": 12,
   "id": "e7413430-be57-482b-856e-36bd4ba799df",
   "metadata": {
    "id": "e7413430-be57-482b-856e-36bd4ba799df"
   },
   "outputs": [],
   "source": [
    "# Split the original training set\n",
    "split_datasets = tokenized_dataset.train_test_split(test_size=640, seed=42)\n",
    "train_dataset = split_datasets['train']\n",
    "eval_dataset = split_datasets['test']"
   ]
  },
  {
   "cell_type": "markdown",
   "id": "652452e3",
   "metadata": {
    "id": "652452e3"
   },
   "source": [
    "## Setup LoRA Config\n",
    "Setup PEFT config and get peft model for finetuning"
   ]
  },
  {
   "cell_type": "code",
   "execution_count": 13,
   "id": "bd0ca0ea-86b8-47f7-8cbf-83da25685876",
   "metadata": {
    "id": "bd0ca0ea-86b8-47f7-8cbf-83da25685876"
   },
   "outputs": [],
   "source": [
    "# PEFT Config\n",
    "# peft_config = LoraConfig(\n",
    "#     r=2,\n",
    "#     lora_alpha=4,\n",
    "#     lora_dropout=0.05,\n",
    "#     bias = 'none',\n",
    "#     target_modules = ['query'],\n",
    "#     task_type=\"SEQ_CLS\",\n",
    "# )\n",
    "peft_config = LoraConfig(\n",
    "    r=4,\n",
    "    lora_alpha=16,\n",
    "    lora_dropout=0.05,\n",
    "    bias=\"none\",\n",
    "    target_modules=[\"query\", \"value\"],\n",
    "    task_type=\"SEQ_CLS\"\n",
    ")"
   ]
  },
  {
   "cell_type": "code",
   "execution_count": 14,
   "id": "e99c5cce",
   "metadata": {},
   "outputs": [],
   "source": [
    "# !module load gcc\n",
    "# !which gcc\n"
   ]
  },
  {
   "cell_type": "code",
   "execution_count": 15,
   "id": "b142c4e3",
   "metadata": {},
   "outputs": [],
   "source": [
    "# import os\n",
    "# os.environ[\"CC\"] = \"/share/apps/NYUAD5/gcc/9.2.0/bin/gcc\"\n"
   ]
  },
  {
   "cell_type": "code",
   "execution_count": 16,
   "id": "6ec2739d-76b6-4fde-91c2-0fc49e1884b0",
   "metadata": {
    "id": "6ec2739d-76b6-4fde-91c2-0fc49e1884b0"
   },
   "outputs": [
    {
     "data": {
      "text/plain": [
       "PeftModelForSequenceClassification(\n",
       "  (base_model): LoraModel(\n",
       "    (model): RobertaForSequenceClassification(\n",
       "      (roberta): RobertaModel(\n",
       "        (embeddings): RobertaEmbeddings(\n",
       "          (word_embeddings): Embedding(50265, 768, padding_idx=1)\n",
       "          (position_embeddings): Embedding(514, 768, padding_idx=1)\n",
       "          (token_type_embeddings): Embedding(1, 768)\n",
       "          (LayerNorm): LayerNorm((768,), eps=1e-05, elementwise_affine=True)\n",
       "          (dropout): Dropout(p=0.1, inplace=False)\n",
       "        )\n",
       "        (encoder): RobertaEncoder(\n",
       "          (layer): ModuleList(\n",
       "            (0-11): 12 x RobertaLayer(\n",
       "              (attention): RobertaAttention(\n",
       "                (self): RobertaSelfAttention(\n",
       "                  (query): lora.Linear(\n",
       "                    (base_layer): Linear(in_features=768, out_features=768, bias=True)\n",
       "                    (lora_dropout): ModuleDict(\n",
       "                      (default): Dropout(p=0.05, inplace=False)\n",
       "                    )\n",
       "                    (lora_A): ModuleDict(\n",
       "                      (default): Linear(in_features=768, out_features=4, bias=False)\n",
       "                    )\n",
       "                    (lora_B): ModuleDict(\n",
       "                      (default): Linear(in_features=4, out_features=768, bias=False)\n",
       "                    )\n",
       "                    (lora_embedding_A): ParameterDict()\n",
       "                    (lora_embedding_B): ParameterDict()\n",
       "                    (lora_magnitude_vector): ModuleDict()\n",
       "                  )\n",
       "                  (key): Linear(in_features=768, out_features=768, bias=True)\n",
       "                  (value): lora.Linear(\n",
       "                    (base_layer): Linear(in_features=768, out_features=768, bias=True)\n",
       "                    (lora_dropout): ModuleDict(\n",
       "                      (default): Dropout(p=0.05, inplace=False)\n",
       "                    )\n",
       "                    (lora_A): ModuleDict(\n",
       "                      (default): Linear(in_features=768, out_features=4, bias=False)\n",
       "                    )\n",
       "                    (lora_B): ModuleDict(\n",
       "                      (default): Linear(in_features=4, out_features=768, bias=False)\n",
       "                    )\n",
       "                    (lora_embedding_A): ParameterDict()\n",
       "                    (lora_embedding_B): ParameterDict()\n",
       "                    (lora_magnitude_vector): ModuleDict()\n",
       "                  )\n",
       "                  (dropout): Dropout(p=0.1, inplace=False)\n",
       "                )\n",
       "                (output): RobertaSelfOutput(\n",
       "                  (dense): Linear(in_features=768, out_features=768, bias=True)\n",
       "                  (LayerNorm): LayerNorm((768,), eps=1e-05, elementwise_affine=True)\n",
       "                  (dropout): Dropout(p=0.1, inplace=False)\n",
       "                )\n",
       "              )\n",
       "              (intermediate): RobertaIntermediate(\n",
       "                (dense): Linear(in_features=768, out_features=3072, bias=True)\n",
       "                (intermediate_act_fn): GELUActivation()\n",
       "              )\n",
       "              (output): RobertaOutput(\n",
       "                (dense): Linear(in_features=3072, out_features=768, bias=True)\n",
       "                (LayerNorm): LayerNorm((768,), eps=1e-05, elementwise_affine=True)\n",
       "                (dropout): Dropout(p=0.1, inplace=False)\n",
       "              )\n",
       "            )\n",
       "          )\n",
       "        )\n",
       "      )\n",
       "      (classifier): ModulesToSaveWrapper(\n",
       "        (original_module): RobertaClassificationHead(\n",
       "          (dense): Linear(in_features=768, out_features=768, bias=True)\n",
       "          (dropout): Dropout(p=0.1, inplace=False)\n",
       "          (out_proj): Linear(in_features=768, out_features=4, bias=True)\n",
       "        )\n",
       "        (modules_to_save): ModuleDict(\n",
       "          (default): RobertaClassificationHead(\n",
       "            (dense): Linear(in_features=768, out_features=768, bias=True)\n",
       "            (dropout): Dropout(p=0.1, inplace=False)\n",
       "            (out_proj): Linear(in_features=768, out_features=4, bias=True)\n",
       "          )\n",
       "        )\n",
       "      )\n",
       "    )\n",
       "  )\n",
       ")"
      ]
     },
     "execution_count": 16,
     "metadata": {},
     "output_type": "execute_result"
    }
   ],
   "source": [
    "peft_model = get_peft_model(model, peft_config)\n",
    "peft_model"
   ]
  },
  {
   "cell_type": "code",
   "execution_count": 17,
   "id": "a769f54e-05ad-4e3c-aae8-d00d1d9dfb2f",
   "metadata": {
    "id": "a769f54e-05ad-4e3c-aae8-d00d1d9dfb2f"
   },
   "outputs": [],
   "source": [
    "# print(\"Trainable parameters:\")\n",
    "# for name, param in peft_model.named_parameters():\n",
    "#     if param.requires_grad:\n",
    "#         print(name)"
   ]
  },
  {
   "cell_type": "code",
   "execution_count": 18,
   "id": "da45f85c-b016-4c49-8808-6eafa7cb5d1b",
   "metadata": {
    "id": "da45f85c-b016-4c49-8808-6eafa7cb5d1b"
   },
   "outputs": [
    {
     "name": "stdout",
     "output_type": "stream",
     "text": [
      "PEFT Model\n",
      "trainable params: 741,124 || all params: 125,389,832 || trainable%: 0.5911\n"
     ]
    }
   ],
   "source": [
    "print('PEFT Model')\n",
    "peft_model.print_trainable_parameters()"
   ]
  },
  {
   "cell_type": "markdown",
   "id": "12284b58",
   "metadata": {
    "id": "12284b58"
   },
   "source": [
    "## Training Setup"
   ]
  },
  {
   "cell_type": "code",
   "execution_count": 19,
   "id": "0ee64c43-fe38-479a-b3c5-7d939a3db4c1",
   "metadata": {
    "id": "0ee64c43-fe38-479a-b3c5-7d939a3db4c1"
   },
   "outputs": [],
   "source": [
    "# To track evaluation accuracy during training\n",
    "from sklearn.metrics import accuracy_score, precision_score, recall_score, f1_score\n",
    "\n",
    "def compute_metrics(pred):\n",
    "    labels = pred.label_ids\n",
    "    preds = pred.predictions.argmax(-1)\n",
    "    # Calculate accuracy\n",
    "    accuracy = accuracy_score(labels, preds)\n",
    "    return {\n",
    "        'accuracy': accuracy\n",
    "    }"
   ]
  },
  {
   "cell_type": "code",
   "execution_count": 23,
   "id": "768b4917-65de-4e55-ae7f-698e287535d4",
   "metadata": {
    "id": "768b4917-65de-4e55-ae7f-698e287535d4"
   },
   "outputs": [],
   "source": [
    "import wandb\n",
    "import seaborn as sns\n",
    "import matplotlib.pyplot as plt\n",
    "from typing import Dict\n",
    "from sklearn.metrics import (\n",
    "    accuracy_score, \n",
    "    precision_score, \n",
    "    recall_score, \n",
    "    f1_score, \n",
    "    confusion_matrix,\n",
    "    classification_report\n",
    ")\n",
    "\n",
    "def compute_metrics(pred):\n",
    "    \"\"\"\n",
    "    Compute and log comprehensive evaluation metrics\n",
    "    \"\"\"\n",
    "    labels = pred.label_ids\n",
    "    preds = pred.predictions.argmax(-1)\n",
    "    probs = torch.nn.functional.softmax(torch.tensor(pred.predictions), dim=-1)\n",
    "    \n",
    "    # Basic metrics\n",
    "    accuracy = accuracy_score(labels, preds)\n",
    "    precision_macro = precision_score(labels, preds, average='macro')\n",
    "    precision_micro = precision_score(labels, preds, average='micro')\n",
    "    precision_per_class = precision_score(labels, preds, average=None)\n",
    "    \n",
    "    recall_macro = recall_score(labels, preds, average='macro')\n",
    "    recall_micro = recall_score(labels, preds, average='micro')\n",
    "    recall_per_class = recall_score(labels, preds, average=None)\n",
    "    \n",
    "    f1_macro = f1_score(labels, preds, average='macro')\n",
    "    f1_micro = f1_score(labels, preds, average='micro')\n",
    "    f1_per_class = f1_score(labels, preds, average=None)\n",
    "    \n",
    "    # Per-class metrics\n",
    "    metrics_per_class = {}\n",
    "    for i, class_name in enumerate(id2label.values()):\n",
    "        metrics_per_class.update({\n",
    "            f'precision_class_{class_name}': precision_per_class[i],\n",
    "            f'recall_class_{class_name}': recall_per_class[i],\n",
    "            f'f1_class_{class_name}': f1_per_class[i]\n",
    "        })\n",
    "    \n",
    "    # Confusion matrix - only log to wandb\n",
    "    cm = confusion_matrix(labels, preds)\n",
    "    plt.figure(figsize=(10,8))\n",
    "    sns.heatmap(cm, annot=True, fmt='d', cmap='Blues',\n",
    "                xticklabels=list(id2label.values()),\n",
    "                yticklabels=list(id2label.values()))\n",
    "    plt.title('Confusion Matrix')\n",
    "    plt.ylabel('True Label')\n",
    "    plt.xlabel('Predicted Label')\n",
    "    \n",
    "    # Log confusion matrix to wandb\n",
    "    wandb.log({'eval/confusion_matrix': wandb.Image(plt)})\n",
    "    plt.close()\n",
    "    \n",
    "    # Confidence histograms - only log to wandb\n",
    "    for i in range(len(id2label)):\n",
    "        plt.figure(figsize=(8,6))\n",
    "        class_probs = probs[:, i].numpy()\n",
    "        plt.hist(class_probs, bins=50)\n",
    "        plt.title(f'Confidence Distribution - Class {id2label[i]}')\n",
    "        plt.xlabel('Confidence')\n",
    "        plt.ylabel('Count')\n",
    "        wandb.log({f'eval/confidence_dist_class_{id2label[i]}': wandb.Image(plt)})\n",
    "        plt.close()\n",
    "\n",
    "    # Log metrics to wandb\n",
    "    wandb.log({\n",
    "        'eval/accuracy': accuracy,\n",
    "        'eval/precision_macro': precision_macro,\n",
    "        'eval/precision_micro': precision_micro,\n",
    "        'eval/recall_macro': recall_macro,\n",
    "        'eval/recall_micro': recall_micro,\n",
    "        'eval/f1_macro': f1_macro,\n",
    "        'eval/f1_micro': f1_micro,\n",
    "    })\n",
    "    \n",
    "    # Return only JSON-serializable metrics\n",
    "    return {\n",
    "        'accuracy': accuracy,\n",
    "        'precision_macro': precision_macro,\n",
    "        'precision_micro': precision_micro,\n",
    "        'recall_macro': recall_macro,\n",
    "        'recall_micro': recall_micro,\n",
    "        'f1_macro': f1_macro,\n",
    "        'f1_micro': f1_micro,\n",
    "        **metrics_per_class\n",
    "    }\n",
    "\n",
    "class CustomTrainer(Trainer):\n",
    "    def __init__(self, *args, **kwargs):\n",
    "        super().__init__(*args, **kwargs)\n",
    "        self.gradient_norm = 0.0\n",
    "\n",
    "    def training_step(self, model, inputs):\n",
    "        \"\"\"Override training step to compute training metrics\"\"\"\n",
    "        loss = super().training_step(model, inputs)\n",
    "        \n",
    "        # Compute training accuracy\n",
    "        with torch.no_grad():\n",
    "            outputs = model(**inputs)\n",
    "            predictions = outputs.logits.argmax(-1)\n",
    "            accuracy = (predictions == inputs['labels']).float().mean()\n",
    "            \n",
    "            # Log training metrics\n",
    "            if self.state.global_step % self.args.logging_steps == 0:\n",
    "                wandb.log({\n",
    "                    'train/loss': loss.item(),\n",
    "                    'train/accuracy': accuracy.item(),\n",
    "                    'train/step': self.state.global_step\n",
    "                })\n",
    "        \n",
    "        # Compute gradient norm\n",
    "        if self.args.gradient_checkpointing:\n",
    "            self.gradient_norm = torch.norm(\n",
    "                torch.stack([\n",
    "                    torch.norm(p.grad.detach())\n",
    "                    for p in model.parameters()\n",
    "                    if p.grad is not None\n",
    "                ])\n",
    "            ).item()\n",
    "        \n",
    "        return loss\n",
    "\n",
    "    def log(self, logs: Dict[str, float]) -> None:\n",
    "        \"\"\"\n",
    "        Enhanced logging with additional training metrics\n",
    "        \"\"\"\n",
    "        if self.state.global_step % self.args.logging_steps == 0:\n",
    "            # Log learning rates\n",
    "            if hasattr(self.optimizer, \"param_groups\"):\n",
    "                current_lr = self.optimizer.param_groups[0]['lr']\n",
    "                wandb.log({\n",
    "                    'train/learning_rate': current_lr,\n",
    "                    'train/step': self.state.global_step\n",
    "                })\n",
    "            \n",
    "            # Log gradient norm\n",
    "            logs[\"train/gradient_norm\"] = self.gradient_norm\n",
    "            \n",
    "            # Log batch size\n",
    "            logs[\"train/batch_size\"] = self.args.per_device_train_batch_size\n",
    "            \n",
    "            # Log memory usage if using GPU\n",
    "            if torch.cuda.is_available():\n",
    "                logs[\"system/gpu_memory_allocated\"] = torch.cuda.memory_allocated() / 1024**2  # MB\n",
    "                logs[\"system/gpu_memory_cached\"] = torch.cuda.memory_reserved() / 1024**2  # MB\n",
    "            \n",
    "            # Log parameter statistics\n",
    "            for name, param in self.model.named_parameters():\n",
    "                if param.requires_grad:\n",
    "                    logs[f\"parameters/mean/{name}\"] = param.data.mean().item()\n",
    "                    logs[f\"parameters/std/{name}\"] = param.data.std().item()\n",
    "                    if param.grad is not None:\n",
    "                        logs[f\"gradients/mean/{name}\"] = param.grad.data.mean().item()\n",
    "                        logs[f\"gradients/std/{name}\"] = param.grad.data.std().item()\n",
    "            \n",
    "            # Log all metrics to wandb\n",
    "            wandb.log(logs)\n",
    "        \n",
    "        super().log(logs)\n",
    "\n",
    "# Setup Training args\n",
    "output_dir = \"results\"\n",
    "\n",
    "training_args = TrainingArguments(\n",
    "    output_dir=output_dir,\n",
    "    report_to='wandb',\n",
    "    eval_strategy='steps',\n",
    "    logging_steps=100,\n",
    "    eval_steps=200,\n",
    "    save_steps=400,\n",
    "    save_total_limit=2,\n",
    "\n",
    "    learning_rate=1e-4,  # LoRA\n",
    "    warmup_ratio=0.1,\n",
    "    num_train_epochs=2,\n",
    "    \n",
    "    per_device_train_batch_size=32,\n",
    "    per_device_eval_batch_size=16,\n",
    "\n",
    "    optim=\"adamw_torch\",  # BETTER THAN SGD\n",
    "    weight_decay=0.01,\n",
    "\n",
    "    gradient_checkpointing=False,\n",
    "    dataloader_num_workers=2,\n",
    "    load_best_model_at_end=True,\n",
    "    metric_for_best_model=\"accuracy\",\n",
    "    greater_is_better=True,\n",
    "    run_name=\"lora_finetuning_run_3\",\n",
    "    \n",
    "    logging_first_step=True, \n",
    "    logging_nan_inf_filter=False, \n",
    "    logging_strategy=\"steps\",  \n",
    "    label_names=[\"labels\"]\n",
    ")\n",
    "\n",
    "def get_trainer(model):\n",
    "    \"\"\"\n",
    "    Create a trainer instance with enhanced logging\n",
    "    \"\"\"\n",
    "    # Initialize wandb with detailed config\n",
    "    wandb.init(\n",
    "        project=\"ag_news_classification\",\n",
    "        name=f\"roberta_lora_{wandb.util.generate_id()}\",\n",
    "        config={\n",
    "            \"model_name\": base_model,\n",
    "            \"lora_config\": {\n",
    "                \"r\": peft_config.r,\n",
    "                \"alpha\": peft_config.lora_alpha,\n",
    "                \"dropout\": peft_config.lora_dropout,\n",
    "                \"target_modules\": peft_config.target_modules,\n",
    "            },\n",
    "            \"training_config\": {\n",
    "                \"learning_rate\": training_args.learning_rate,\n",
    "                \"batch_size\": training_args.per_device_train_batch_size,\n",
    "                \"epochs\": training_args.num_train_epochs,\n",
    "                \"warmup_ratio\": training_args.warmup_ratio,\n",
    "                \"weight_decay\": training_args.weight_decay,\n",
    "            },\n",
    "            \"augmentation_config\": augmentation_config,\n",
    "            \"dataset\": \"ag_news\",\n",
    "            \"train_size\": len(train_dataset),\n",
    "            \"eval_size\": len(eval_dataset),\n",
    "        }\n",
    "    )\n",
    "    \n",
    "    model.config.label2id = {label: i for i, label in enumerate(class_names)}\n",
    "    model.config.id2label = {i: label for i, label in enumerate(class_names)}\n",
    "    \n",
    "    return CustomTrainer(\n",
    "        model=model,\n",
    "        args=training_args,\n",
    "        compute_metrics=compute_metrics,\n",
    "        train_dataset=train_dataset,\n",
    "        eval_dataset=eval_dataset,\n",
    "        data_collator=data_collator,\n",
    "        callbacks=[EarlyStoppingCallback(early_stopping_patience=5)]\n",
    "    )"
   ]
  },
  {
   "cell_type": "markdown",
   "id": "9b848278",
   "metadata": {
    "id": "9b848278"
   },
   "source": [
    "### Start Training"
   ]
  },
  {
   "cell_type": "code",
   "execution_count": 24,
   "id": "41d9c7da",
   "metadata": {},
   "outputs": [],
   "source": [
    "!export CUDA_VISIBLE_DEVICES=3\n"
   ]
  },
  {
   "cell_type": "code",
   "execution_count": 25,
   "id": "98d9d57d-b57f-4acc-80fb-fc5443e75515",
   "metadata": {
    "id": "98d9d57d-b57f-4acc-80fb-fc5443e75515"
   },
   "outputs": [
    {
     "data": {
      "text/html": [
       "Finishing last run (ID:imeh96ze) before initializing another..."
      ],
      "text/plain": [
       "<IPython.core.display.HTML object>"
      ]
     },
     "metadata": {},
     "output_type": "display_data"
    },
    {
     "data": {
      "application/vnd.jupyter.widget-view+json": {
       "model_id": "5fec188e059b4460bbcdec0d9b0f2477",
       "version_major": 2,
       "version_minor": 0
      },
      "text/plain": [
       "VBox(children=(Label(value='0.269 MB of 0.269 MB uploaded\\r'), FloatProgress(value=1.0, max=1.0)))"
      ]
     },
     "metadata": {},
     "output_type": "display_data"
    },
    {
     "data": {
      "text/html": [
       "<style>\n",
       "    table.wandb td:nth-child(1) { padding: 0 10px; text-align: left ; width: auto;} td:nth-child(2) {text-align: left ; width: 100%}\n",
       "    .wandb-row { display: flex; flex-direction: row; flex-wrap: wrap; justify-content: flex-start; width: 100% }\n",
       "    .wandb-col { display: flex; flex-direction: column; flex-basis: 100%; flex: 1; padding: 10px; }\n",
       "    </style>\n",
       "<div class=\"wandb-row\"><div class=\"wandb-col\"><h3>Run history:</h3><br/><table class=\"wandb\"><tr><td>eval/accuracy</td><td>▁▁██</td></tr><tr><td>eval/f1_class_Business</td><td>▁█</td></tr><tr><td>eval/f1_class_Sci/Tech</td><td>▁█</td></tr><tr><td>eval/f1_class_Sports</td><td>▁█</td></tr><tr><td>eval/f1_class_World</td><td>▁█</td></tr><tr><td>eval/f1_macro</td><td>▁▁██</td></tr><tr><td>eval/f1_micro</td><td>▁▁██</td></tr><tr><td>eval/loss</td><td>█▁</td></tr><tr><td>eval/precision_class_Business</td><td>▁█</td></tr><tr><td>eval/precision_class_Sci/Tech</td><td>▁█</td></tr><tr><td>eval/precision_class_Sports</td><td>▁█</td></tr><tr><td>eval/precision_class_World</td><td>▁█</td></tr><tr><td>eval/precision_macro</td><td>▁▁██</td></tr><tr><td>eval/precision_micro</td><td>▁▁██</td></tr><tr><td>eval/recall_class_Business</td><td>▁█</td></tr><tr><td>eval/recall_class_Sci/Tech</td><td>▁█</td></tr><tr><td>eval/recall_class_Sports</td><td>▁█</td></tr><tr><td>eval/recall_class_World</td><td>█▁</td></tr><tr><td>eval/recall_macro</td><td>▁▁██</td></tr><tr><td>eval/recall_micro</td><td>▁▁██</td></tr><tr><td>eval/runtime</td><td>█▁</td></tr><tr><td>eval/samples_per_second</td><td>▁█</td></tr><tr><td>eval/steps_per_second</td><td>▁█</td></tr><tr><td>eval_accuracy</td><td>▁█</td></tr><tr><td>eval_f1_class_Business</td><td>▁█</td></tr><tr><td>eval_f1_class_Sci/Tech</td><td>▁█</td></tr><tr><td>eval_f1_class_Sports</td><td>▁█</td></tr><tr><td>eval_f1_class_World</td><td>▁█</td></tr><tr><td>eval_f1_macro</td><td>▁█</td></tr><tr><td>eval_f1_micro</td><td>▁█</td></tr><tr><td>eval_loss</td><td>█▁</td></tr><tr><td>eval_precision_class_Business</td><td>▁█</td></tr><tr><td>eval_precision_class_Sci/Tech</td><td>▁█</td></tr><tr><td>eval_precision_class_Sports</td><td>▁█</td></tr><tr><td>eval_precision_class_World</td><td>▁█</td></tr><tr><td>eval_precision_macro</td><td>▁█</td></tr><tr><td>eval_precision_micro</td><td>▁█</td></tr><tr><td>eval_recall_class_Business</td><td>▁█</td></tr><tr><td>eval_recall_class_Sci/Tech</td><td>▁█</td></tr><tr><td>eval_recall_class_Sports</td><td>▁█</td></tr><tr><td>eval_recall_class_World</td><td>█▁</td></tr><tr><td>eval_recall_macro</td><td>▁█</td></tr><tr><td>eval_recall_micro</td><td>▁█</td></tr><tr><td>eval_runtime</td><td>█▁</td></tr><tr><td>eval_samples_per_second</td><td>▁█</td></tr><tr><td>eval_steps_per_second</td><td>▁█</td></tr><tr><td>grad_norm</td><td>▁█▃▄</td></tr><tr><td>learning_rate</td><td>▁█▇▆</td></tr><tr><td>loss</td><td>█▂▁▁</td></tr><tr><td>parameters/mean/base_model.model.classifier.modules_to_save.default.dense.bias</td><td>█▅▅▁▁▁</td></tr><tr><td>parameters/mean/base_model.model.classifier.modules_to_save.default.dense.weight</td><td>█▄▄▁▁▁</td></tr><tr><td>parameters/mean/base_model.model.classifier.modules_to_save.default.out_proj.bias</td><td>█▁▁▁▃▃</td></tr><tr><td>parameters/mean/base_model.model.classifier.modules_to_save.default.out_proj.weight</td><td>▁▅▅▇██</td></tr><tr><td>parameters/mean/base_model.model.roberta.encoder.layer.0.attention.self.query.lora_A.default.weight</td><td>▁███▅▅</td></tr><tr><td>parameters/mean/base_model.model.roberta.encoder.layer.0.attention.self.query.lora_B.default.weight</td><td>▁▁▁▃██</td></tr><tr><td>parameters/mean/base_model.model.roberta.encoder.layer.0.attention.self.value.lora_A.default.weight</td><td>▅██▇▁▁</td></tr><tr><td>parameters/mean/base_model.model.roberta.encoder.layer.0.attention.self.value.lora_B.default.weight</td><td>▁▃▃███</td></tr><tr><td>parameters/mean/base_model.model.roberta.encoder.layer.1.attention.self.query.lora_A.default.weight</td><td>█▅▅▄▁▁</td></tr><tr><td>parameters/mean/base_model.model.roberta.encoder.layer.1.attention.self.query.lora_B.default.weight</td><td>▃▁▁▅██</td></tr><tr><td>parameters/mean/base_model.model.roberta.encoder.layer.1.attention.self.value.lora_A.default.weight</td><td>▁▇▇███</td></tr><tr><td>parameters/mean/base_model.model.roberta.encoder.layer.1.attention.self.value.lora_B.default.weight</td><td>▁▄▄▆██</td></tr><tr><td>parameters/mean/base_model.model.roberta.encoder.layer.10.attention.self.query.lora_A.default.weight</td><td>█▂▂▂▁▁</td></tr><tr><td>parameters/mean/base_model.model.roberta.encoder.layer.10.attention.self.query.lora_B.default.weight</td><td>█▃▃▁▄▄</td></tr><tr><td>parameters/mean/base_model.model.roberta.encoder.layer.10.attention.self.value.lora_A.default.weight</td><td>█▁▁▁▁▁</td></tr><tr><td>parameters/mean/base_model.model.roberta.encoder.layer.10.attention.self.value.lora_B.default.weight</td><td>▁██▇▆▆</td></tr><tr><td>parameters/mean/base_model.model.roberta.encoder.layer.11.attention.self.query.lora_A.default.weight</td><td>▁▃▃▄██</td></tr><tr><td>parameters/mean/base_model.model.roberta.encoder.layer.11.attention.self.query.lora_B.default.weight</td><td>▁▁▁▅██</td></tr><tr><td>parameters/mean/base_model.model.roberta.encoder.layer.11.attention.self.value.lora_A.default.weight</td><td>█▂▂▁▁▁</td></tr><tr><td>parameters/mean/base_model.model.roberta.encoder.layer.11.attention.self.value.lora_B.default.weight</td><td>▁▅▅▇██</td></tr><tr><td>parameters/mean/base_model.model.roberta.encoder.layer.2.attention.self.query.lora_A.default.weight</td><td>▁▄▄▇██</td></tr><tr><td>parameters/mean/base_model.model.roberta.encoder.layer.2.attention.self.query.lora_B.default.weight</td><td>█▇▇▂▁▁</td></tr><tr><td>parameters/mean/base_model.model.roberta.encoder.layer.2.attention.self.value.lora_A.default.weight</td><td>█▂▂▂▁▁</td></tr><tr><td>parameters/mean/base_model.model.roberta.encoder.layer.2.attention.self.value.lora_B.default.weight</td><td>█▅▅▃▁▁</td></tr><tr><td>parameters/mean/base_model.model.roberta.encoder.layer.3.attention.self.query.lora_A.default.weight</td><td>█▇▇▂▁▁</td></tr><tr><td>parameters/mean/base_model.model.roberta.encoder.layer.3.attention.self.query.lora_B.default.weight</td><td>▅▁▁█▆▆</td></tr><tr><td>parameters/mean/base_model.model.roberta.encoder.layer.3.attention.self.value.lora_A.default.weight</td><td>▁███▇▇</td></tr><tr><td>parameters/mean/base_model.model.roberta.encoder.layer.3.attention.self.value.lora_B.default.weight</td><td>█▄▄▂▁▁</td></tr><tr><td>parameters/mean/base_model.model.roberta.encoder.layer.4.attention.self.query.lora_A.default.weight</td><td>▁▄▄▇██</td></tr><tr><td>parameters/mean/base_model.model.roberta.encoder.layer.4.attention.self.query.lora_B.default.weight</td><td>█▆▆▆▁▁</td></tr><tr><td>parameters/mean/base_model.model.roberta.encoder.layer.4.attention.self.value.lora_A.default.weight</td><td>▁██▇▆▆</td></tr><tr><td>parameters/mean/base_model.model.roberta.encoder.layer.4.attention.self.value.lora_B.default.weight</td><td>█▇▇▂▁▁</td></tr><tr><td>parameters/mean/base_model.model.roberta.encoder.layer.5.attention.self.query.lora_A.default.weight</td><td>█▇▇▄▁▁</td></tr><tr><td>parameters/mean/base_model.model.roberta.encoder.layer.5.attention.self.query.lora_B.default.weight</td><td>█▅▅▄▁▁</td></tr><tr><td>parameters/mean/base_model.model.roberta.encoder.layer.5.attention.self.value.lora_A.default.weight</td><td>▁▇▇█▇▇</td></tr><tr><td>parameters/mean/base_model.model.roberta.encoder.layer.5.attention.self.value.lora_B.default.weight</td><td>▅██▁▆▆</td></tr><tr><td>parameters/mean/base_model.model.roberta.encoder.layer.6.attention.self.query.lora_A.default.weight</td><td>█▂▂▁▁▁</td></tr><tr><td>parameters/mean/base_model.model.roberta.encoder.layer.6.attention.self.query.lora_B.default.weight</td><td>▁▂▂▆██</td></tr><tr><td>parameters/mean/base_model.model.roberta.encoder.layer.6.attention.self.value.lora_A.default.weight</td><td>█▁▁▁▁▁</td></tr><tr><td>parameters/mean/base_model.model.roberta.encoder.layer.6.attention.self.value.lora_B.default.weight</td><td>█▂▂▁▁▁</td></tr><tr><td>parameters/mean/base_model.model.roberta.encoder.layer.7.attention.self.query.lora_A.default.weight</td><td>▁█████</td></tr><tr><td>parameters/mean/base_model.model.roberta.encoder.layer.7.attention.self.query.lora_B.default.weight</td><td>▁▆▆███</td></tr><tr><td>parameters/mean/base_model.model.roberta.encoder.layer.7.attention.self.value.lora_A.default.weight</td><td>▁▇▇▇██</td></tr><tr><td>parameters/mean/base_model.model.roberta.encoder.layer.7.attention.self.value.lora_B.default.weight</td><td>█▁▁▃▄▄</td></tr><tr><td>parameters/mean/base_model.model.roberta.encoder.layer.8.attention.self.query.lora_A.default.weight</td><td>█▂▂▁▁▁</td></tr><tr><td>parameters/mean/base_model.model.roberta.encoder.layer.8.attention.self.query.lora_B.default.weight</td><td>▁▅▅█▇▇</td></tr><tr><td>parameters/mean/base_model.model.roberta.encoder.layer.8.attention.self.value.lora_A.default.weight</td><td>▁█████</td></tr><tr><td>parameters/mean/base_model.model.roberta.encoder.layer.8.attention.self.value.lora_B.default.weight</td><td>▁▆▆▇██</td></tr><tr><td>parameters/mean/base_model.model.roberta.encoder.layer.9.attention.self.query.lora_A.default.weight</td><td>▁▆▆▇██</td></tr><tr><td>parameters/mean/base_model.model.roberta.encoder.layer.9.attention.self.query.lora_B.default.weight</td><td>▁▅▅███</td></tr><tr><td>parameters/mean/base_model.model.roberta.encoder.layer.9.attention.self.value.lora_A.default.weight</td><td>█▁▁▁▁▁</td></tr><tr><td>parameters/mean/base_model.model.roberta.encoder.layer.9.attention.self.value.lora_B.default.weight</td><td>▁▄▄▆██</td></tr><tr><td>parameters/std/base_model.model.classifier.modules_to_save.default.dense.bias</td><td>▁▃▃▆██</td></tr><tr><td>parameters/std/base_model.model.classifier.modules_to_save.default.dense.weight</td><td>▁▆▆▇██</td></tr><tr><td>parameters/std/base_model.model.classifier.modules_to_save.default.out_proj.bias</td><td>▁▂▂▅██</td></tr><tr><td>parameters/std/base_model.model.classifier.modules_to_save.default.out_proj.weight</td><td>▁▆▆▇██</td></tr><tr><td>parameters/std/base_model.model.roberta.encoder.layer.0.attention.self.query.lora_A.default.weight</td><td>▁▃▃▅██</td></tr><tr><td>parameters/std/base_model.model.roberta.encoder.layer.0.attention.self.query.lora_B.default.weight</td><td>▁▄▄▆██</td></tr><tr><td>parameters/std/base_model.model.roberta.encoder.layer.0.attention.self.value.lora_A.default.weight</td><td>▁▆▆▇██</td></tr><tr><td>parameters/std/base_model.model.roberta.encoder.layer.0.attention.self.value.lora_B.default.weight</td><td>▁▆▆▇██</td></tr><tr><td>parameters/std/base_model.model.roberta.encoder.layer.1.attention.self.query.lora_A.default.weight</td><td>▁▃▃▅██</td></tr><tr><td>parameters/std/base_model.model.roberta.encoder.layer.1.attention.self.query.lora_B.default.weight</td><td>▁▄▄▆██</td></tr><tr><td>parameters/std/base_model.model.roberta.encoder.layer.1.attention.self.value.lora_A.default.weight</td><td>▁▅▅▇██</td></tr><tr><td>parameters/std/base_model.model.roberta.encoder.layer.1.attention.self.value.lora_B.default.weight</td><td>▁▆▆▇██</td></tr><tr><td>parameters/std/base_model.model.roberta.encoder.layer.10.attention.self.query.lora_A.default.weight</td><td>▁▅▅▆██</td></tr><tr><td>parameters/std/base_model.model.roberta.encoder.layer.10.attention.self.query.lora_B.default.weight</td><td>▁▆▆▇██</td></tr><tr><td>parameters/std/base_model.model.roberta.encoder.layer.10.attention.self.value.lora_A.default.weight</td><td>▁▆▆███</td></tr><tr><td>parameters/std/base_model.model.roberta.encoder.layer.10.attention.self.value.lora_B.default.weight</td><td>▁▇▇███</td></tr><tr><td>parameters/std/base_model.model.roberta.encoder.layer.11.attention.self.query.lora_A.default.weight</td><td>▁▇▇▇██</td></tr><tr><td>parameters/std/base_model.model.roberta.encoder.layer.11.attention.self.query.lora_B.default.weight</td><td>▁▇▇███</td></tr><tr><td>parameters/std/base_model.model.roberta.encoder.layer.11.attention.self.value.lora_A.default.weight</td><td>▁▇▇███</td></tr><tr><td>parameters/std/base_model.model.roberta.encoder.layer.11.attention.self.value.lora_B.default.weight</td><td>▁▇▇███</td></tr><tr><td>parameters/std/base_model.model.roberta.encoder.layer.2.attention.self.query.lora_A.default.weight</td><td>▁▃▃▆██</td></tr><tr><td>parameters/std/base_model.model.roberta.encoder.layer.2.attention.self.query.lora_B.default.weight</td><td>▁▄▄▇██</td></tr><tr><td>parameters/std/base_model.model.roberta.encoder.layer.2.attention.self.value.lora_A.default.weight</td><td>▁▆▆▇██</td></tr><tr><td>parameters/std/base_model.model.roberta.encoder.layer.2.attention.self.value.lora_B.default.weight</td><td>▁▆▆▇██</td></tr><tr><td>parameters/std/base_model.model.roberta.encoder.layer.3.attention.self.query.lora_A.default.weight</td><td>▁▂▂▄██</td></tr><tr><td>parameters/std/base_model.model.roberta.encoder.layer.3.attention.self.query.lora_B.default.weight</td><td>▁▄▄▆██</td></tr><tr><td>parameters/std/base_model.model.roberta.encoder.layer.3.attention.self.value.lora_A.default.weight</td><td>▁▇▇███</td></tr><tr><td>parameters/std/base_model.model.roberta.encoder.layer.3.attention.self.value.lora_B.default.weight</td><td>▁▆▆███</td></tr><tr><td>parameters/std/base_model.model.roberta.encoder.layer.4.attention.self.query.lora_A.default.weight</td><td>▁▃▃▆██</td></tr><tr><td>parameters/std/base_model.model.roberta.encoder.layer.4.attention.self.query.lora_B.default.weight</td><td>▁▅▅▇██</td></tr><tr><td>parameters/std/base_model.model.roberta.encoder.layer.4.attention.self.value.lora_A.default.weight</td><td>▁█████</td></tr><tr><td>parameters/std/base_model.model.roberta.encoder.layer.4.attention.self.value.lora_B.default.weight</td><td>▁▇▇███</td></tr><tr><td>parameters/std/base_model.model.roberta.encoder.layer.5.attention.self.query.lora_A.default.weight</td><td>▁▄▄███</td></tr><tr><td>parameters/std/base_model.model.roberta.encoder.layer.5.attention.self.query.lora_B.default.weight</td><td>▁▅▅▇██</td></tr><tr><td>parameters/std/base_model.model.roberta.encoder.layer.5.attention.self.value.lora_A.default.weight</td><td>▁▇▇███</td></tr><tr><td>parameters/std/base_model.model.roberta.encoder.layer.5.attention.self.value.lora_B.default.weight</td><td>▁▇▇███</td></tr><tr><td>parameters/std/base_model.model.roberta.encoder.layer.6.attention.self.query.lora_A.default.weight</td><td>▁▄▄▇██</td></tr><tr><td>parameters/std/base_model.model.roberta.encoder.layer.6.attention.self.query.lora_B.default.weight</td><td>▁▆▆███</td></tr><tr><td>parameters/std/base_model.model.roberta.encoder.layer.6.attention.self.value.lora_A.default.weight</td><td>▁███▆▆</td></tr><tr><td>parameters/std/base_model.model.roberta.encoder.layer.6.attention.self.value.lora_B.default.weight</td><td>▁▇▇███</td></tr><tr><td>parameters/std/base_model.model.roberta.encoder.layer.7.attention.self.query.lora_A.default.weight</td><td>▁▆▆▇██</td></tr><tr><td>parameters/std/base_model.model.roberta.encoder.layer.7.attention.self.query.lora_B.default.weight</td><td>▁▆▆▇██</td></tr><tr><td>parameters/std/base_model.model.roberta.encoder.layer.7.attention.self.value.lora_A.default.weight</td><td>▁▇▇███</td></tr><tr><td>parameters/std/base_model.model.roberta.encoder.layer.7.attention.self.value.lora_B.default.weight</td><td>▁▇▇███</td></tr><tr><td>parameters/std/base_model.model.roberta.encoder.layer.8.attention.self.query.lora_A.default.weight</td><td>▁▆▆▇██</td></tr><tr><td>parameters/std/base_model.model.roberta.encoder.layer.8.attention.self.query.lora_B.default.weight</td><td>▁▆▆▇██</td></tr><tr><td>parameters/std/base_model.model.roberta.encoder.layer.8.attention.self.value.lora_A.default.weight</td><td>▁▇▇███</td></tr><tr><td>parameters/std/base_model.model.roberta.encoder.layer.8.attention.self.value.lora_B.default.weight</td><td>▁▇▇███</td></tr><tr><td>parameters/std/base_model.model.roberta.encoder.layer.9.attention.self.query.lora_A.default.weight</td><td>▁▃▃▆██</td></tr><tr><td>parameters/std/base_model.model.roberta.encoder.layer.9.attention.self.query.lora_B.default.weight</td><td>▁▅▅▇██</td></tr><tr><td>parameters/std/base_model.model.roberta.encoder.layer.9.attention.self.value.lora_A.default.weight</td><td>▁▆▆▇██</td></tr><tr><td>parameters/std/base_model.model.roberta.encoder.layer.9.attention.self.value.lora_B.default.weight</td><td>▁▇▇███</td></tr><tr><td>system/gpu_memory_allocated</td><td>▂▁▇▂▂█</td></tr><tr><td>system/gpu_memory_cached</td><td>▁▁▁▁▁▁</td></tr><tr><td>train/accuracy</td><td>▁▇██</td></tr><tr><td>train/batch_size</td><td>▁▁▁▁▁▁</td></tr><tr><td>train/epoch</td><td>▁▃▄▄▆██</td></tr><tr><td>train/global_step</td><td>▁▁▁▃▃▃▃▄▄▄▄▄▄▄▄▆▆▆▆█████</td></tr><tr><td>train/grad_norm</td><td>▃▁█▃▄</td></tr><tr><td>train/gradient_norm</td><td>▁▁▁▁▁▁</td></tr><tr><td>train/learning_rate</td><td>▁▅▅█████▇▇▇</td></tr><tr><td>train/loss</td><td>███▇▃▂▂▁▂</td></tr><tr><td>train/parameters/mean/base_model.model.classifier.modules_to_save.default.dense.bias</td><td>█▅▅▁▁▁</td></tr><tr><td>train/parameters/mean/base_model.model.classifier.modules_to_save.default.dense.weight</td><td>█▄▄▁▁▁</td></tr><tr><td>train/parameters/mean/base_model.model.classifier.modules_to_save.default.out_proj.bias</td><td>█▁▁▁▃▃</td></tr><tr><td>train/parameters/mean/base_model.model.classifier.modules_to_save.default.out_proj.weight</td><td>▁▅▅▇██</td></tr><tr><td>train/parameters/mean/base_model.model.roberta.encoder.layer.0.attention.self.query.lora_A.default.weight</td><td>▁███▅▅</td></tr><tr><td>train/parameters/mean/base_model.model.roberta.encoder.layer.0.attention.self.query.lora_B.default.weight</td><td>▁▁▁▃██</td></tr><tr><td>train/parameters/mean/base_model.model.roberta.encoder.layer.0.attention.self.value.lora_A.default.weight</td><td>▅██▇▁▁</td></tr><tr><td>train/parameters/mean/base_model.model.roberta.encoder.layer.0.attention.self.value.lora_B.default.weight</td><td>▁▃▃███</td></tr><tr><td>train/parameters/mean/base_model.model.roberta.encoder.layer.1.attention.self.query.lora_A.default.weight</td><td>█▅▅▄▁▁</td></tr><tr><td>train/parameters/mean/base_model.model.roberta.encoder.layer.1.attention.self.query.lora_B.default.weight</td><td>▃▁▁▅██</td></tr><tr><td>train/parameters/mean/base_model.model.roberta.encoder.layer.1.attention.self.value.lora_A.default.weight</td><td>▁▇▇███</td></tr><tr><td>train/parameters/mean/base_model.model.roberta.encoder.layer.1.attention.self.value.lora_B.default.weight</td><td>▁▄▄▆██</td></tr><tr><td>train/parameters/mean/base_model.model.roberta.encoder.layer.10.attention.self.query.lora_A.default.weight</td><td>█▂▂▂▁▁</td></tr><tr><td>train/parameters/mean/base_model.model.roberta.encoder.layer.10.attention.self.query.lora_B.default.weight</td><td>█▃▃▁▄▄</td></tr><tr><td>train/parameters/mean/base_model.model.roberta.encoder.layer.10.attention.self.value.lora_A.default.weight</td><td>█▁▁▁▁▁</td></tr><tr><td>train/parameters/mean/base_model.model.roberta.encoder.layer.10.attention.self.value.lora_B.default.weight</td><td>▁██▇▆▆</td></tr><tr><td>train/parameters/mean/base_model.model.roberta.encoder.layer.11.attention.self.query.lora_A.default.weight</td><td>▁▃▃▄██</td></tr><tr><td>train/parameters/mean/base_model.model.roberta.encoder.layer.11.attention.self.query.lora_B.default.weight</td><td>▁▁▁▅██</td></tr><tr><td>train/parameters/mean/base_model.model.roberta.encoder.layer.11.attention.self.value.lora_A.default.weight</td><td>█▂▂▁▁▁</td></tr><tr><td>train/parameters/mean/base_model.model.roberta.encoder.layer.11.attention.self.value.lora_B.default.weight</td><td>▁▅▅▇██</td></tr><tr><td>train/parameters/mean/base_model.model.roberta.encoder.layer.2.attention.self.query.lora_A.default.weight</td><td>▁▄▄▇██</td></tr><tr><td>train/parameters/mean/base_model.model.roberta.encoder.layer.2.attention.self.query.lora_B.default.weight</td><td>█▇▇▂▁▁</td></tr><tr><td>train/parameters/mean/base_model.model.roberta.encoder.layer.2.attention.self.value.lora_A.default.weight</td><td>█▂▂▂▁▁</td></tr><tr><td>train/parameters/mean/base_model.model.roberta.encoder.layer.2.attention.self.value.lora_B.default.weight</td><td>█▅▅▃▁▁</td></tr><tr><td>train/parameters/mean/base_model.model.roberta.encoder.layer.3.attention.self.query.lora_A.default.weight</td><td>█▇▇▂▁▁</td></tr><tr><td>train/parameters/mean/base_model.model.roberta.encoder.layer.3.attention.self.query.lora_B.default.weight</td><td>▅▁▁█▆▆</td></tr><tr><td>train/parameters/mean/base_model.model.roberta.encoder.layer.3.attention.self.value.lora_A.default.weight</td><td>▁███▇▇</td></tr><tr><td>train/parameters/mean/base_model.model.roberta.encoder.layer.3.attention.self.value.lora_B.default.weight</td><td>█▄▄▂▁▁</td></tr><tr><td>train/parameters/mean/base_model.model.roberta.encoder.layer.4.attention.self.query.lora_A.default.weight</td><td>▁▄▄▇██</td></tr><tr><td>train/parameters/mean/base_model.model.roberta.encoder.layer.4.attention.self.query.lora_B.default.weight</td><td>█▆▆▆▁▁</td></tr><tr><td>train/parameters/mean/base_model.model.roberta.encoder.layer.4.attention.self.value.lora_A.default.weight</td><td>▁██▇▆▆</td></tr><tr><td>train/parameters/mean/base_model.model.roberta.encoder.layer.4.attention.self.value.lora_B.default.weight</td><td>█▇▇▂▁▁</td></tr><tr><td>train/parameters/mean/base_model.model.roberta.encoder.layer.5.attention.self.query.lora_A.default.weight</td><td>█▇▇▄▁▁</td></tr><tr><td>train/parameters/mean/base_model.model.roberta.encoder.layer.5.attention.self.query.lora_B.default.weight</td><td>█▅▅▄▁▁</td></tr><tr><td>train/parameters/mean/base_model.model.roberta.encoder.layer.5.attention.self.value.lora_A.default.weight</td><td>▁▇▇█▇▇</td></tr><tr><td>train/parameters/mean/base_model.model.roberta.encoder.layer.5.attention.self.value.lora_B.default.weight</td><td>▅██▁▆▆</td></tr><tr><td>train/parameters/mean/base_model.model.roberta.encoder.layer.6.attention.self.query.lora_A.default.weight</td><td>█▂▂▁▁▁</td></tr><tr><td>train/parameters/mean/base_model.model.roberta.encoder.layer.6.attention.self.query.lora_B.default.weight</td><td>▁▂▂▆██</td></tr><tr><td>train/parameters/mean/base_model.model.roberta.encoder.layer.6.attention.self.value.lora_A.default.weight</td><td>█▁▁▁▁▁</td></tr><tr><td>train/parameters/mean/base_model.model.roberta.encoder.layer.6.attention.self.value.lora_B.default.weight</td><td>█▂▂▁▁▁</td></tr><tr><td>train/parameters/mean/base_model.model.roberta.encoder.layer.7.attention.self.query.lora_A.default.weight</td><td>▁█████</td></tr><tr><td>train/parameters/mean/base_model.model.roberta.encoder.layer.7.attention.self.query.lora_B.default.weight</td><td>▁▆▆███</td></tr><tr><td>train/parameters/mean/base_model.model.roberta.encoder.layer.7.attention.self.value.lora_A.default.weight</td><td>▁▇▇▇██</td></tr><tr><td>train/parameters/mean/base_model.model.roberta.encoder.layer.7.attention.self.value.lora_B.default.weight</td><td>█▁▁▃▄▄</td></tr><tr><td>train/parameters/mean/base_model.model.roberta.encoder.layer.8.attention.self.query.lora_A.default.weight</td><td>█▂▂▁▁▁</td></tr><tr><td>train/parameters/mean/base_model.model.roberta.encoder.layer.8.attention.self.query.lora_B.default.weight</td><td>▁▅▅█▇▇</td></tr><tr><td>train/parameters/mean/base_model.model.roberta.encoder.layer.8.attention.self.value.lora_A.default.weight</td><td>▁█████</td></tr><tr><td>train/parameters/mean/base_model.model.roberta.encoder.layer.8.attention.self.value.lora_B.default.weight</td><td>▁▆▆▇██</td></tr><tr><td>train/parameters/mean/base_model.model.roberta.encoder.layer.9.attention.self.query.lora_A.default.weight</td><td>▁▆▆▇██</td></tr><tr><td>train/parameters/mean/base_model.model.roberta.encoder.layer.9.attention.self.query.lora_B.default.weight</td><td>▁▅▅███</td></tr><tr><td>train/parameters/mean/base_model.model.roberta.encoder.layer.9.attention.self.value.lora_A.default.weight</td><td>█▁▁▁▁▁</td></tr><tr><td>train/parameters/mean/base_model.model.roberta.encoder.layer.9.attention.self.value.lora_B.default.weight</td><td>▁▄▄▆██</td></tr><tr><td>train/parameters/std/base_model.model.classifier.modules_to_save.default.dense.bias</td><td>▁▃▃▆██</td></tr><tr><td>train/parameters/std/base_model.model.classifier.modules_to_save.default.dense.weight</td><td>▁▆▆▇██</td></tr><tr><td>train/parameters/std/base_model.model.classifier.modules_to_save.default.out_proj.bias</td><td>▁▂▂▅██</td></tr><tr><td>train/parameters/std/base_model.model.classifier.modules_to_save.default.out_proj.weight</td><td>▁▆▆▇██</td></tr><tr><td>train/parameters/std/base_model.model.roberta.encoder.layer.0.attention.self.query.lora_A.default.weight</td><td>▁▃▃▅██</td></tr><tr><td>train/parameters/std/base_model.model.roberta.encoder.layer.0.attention.self.query.lora_B.default.weight</td><td>▁▄▄▆██</td></tr><tr><td>train/parameters/std/base_model.model.roberta.encoder.layer.0.attention.self.value.lora_A.default.weight</td><td>▁▆▆▇██</td></tr><tr><td>train/parameters/std/base_model.model.roberta.encoder.layer.0.attention.self.value.lora_B.default.weight</td><td>▁▆▆▇██</td></tr><tr><td>train/parameters/std/base_model.model.roberta.encoder.layer.1.attention.self.query.lora_A.default.weight</td><td>▁▃▃▅██</td></tr><tr><td>train/parameters/std/base_model.model.roberta.encoder.layer.1.attention.self.query.lora_B.default.weight</td><td>▁▄▄▆██</td></tr><tr><td>train/parameters/std/base_model.model.roberta.encoder.layer.1.attention.self.value.lora_A.default.weight</td><td>▁▅▅▇██</td></tr><tr><td>train/parameters/std/base_model.model.roberta.encoder.layer.1.attention.self.value.lora_B.default.weight</td><td>▁▆▆▇██</td></tr><tr><td>train/parameters/std/base_model.model.roberta.encoder.layer.10.attention.self.query.lora_A.default.weight</td><td>▁▅▅▆██</td></tr><tr><td>train/parameters/std/base_model.model.roberta.encoder.layer.10.attention.self.query.lora_B.default.weight</td><td>▁▆▆▇██</td></tr><tr><td>train/parameters/std/base_model.model.roberta.encoder.layer.10.attention.self.value.lora_A.default.weight</td><td>▁▆▆███</td></tr><tr><td>train/parameters/std/base_model.model.roberta.encoder.layer.10.attention.self.value.lora_B.default.weight</td><td>▁▇▇███</td></tr><tr><td>train/parameters/std/base_model.model.roberta.encoder.layer.11.attention.self.query.lora_A.default.weight</td><td>▁▇▇▇██</td></tr><tr><td>train/parameters/std/base_model.model.roberta.encoder.layer.11.attention.self.query.lora_B.default.weight</td><td>▁▇▇███</td></tr><tr><td>train/parameters/std/base_model.model.roberta.encoder.layer.11.attention.self.value.lora_A.default.weight</td><td>▁▇▇███</td></tr><tr><td>train/parameters/std/base_model.model.roberta.encoder.layer.11.attention.self.value.lora_B.default.weight</td><td>▁▇▇███</td></tr><tr><td>train/parameters/std/base_model.model.roberta.encoder.layer.2.attention.self.query.lora_A.default.weight</td><td>▁▃▃▆██</td></tr><tr><td>train/parameters/std/base_model.model.roberta.encoder.layer.2.attention.self.query.lora_B.default.weight</td><td>▁▄▄▇██</td></tr><tr><td>train/parameters/std/base_model.model.roberta.encoder.layer.2.attention.self.value.lora_A.default.weight</td><td>▁▆▆▇██</td></tr><tr><td>train/parameters/std/base_model.model.roberta.encoder.layer.2.attention.self.value.lora_B.default.weight</td><td>▁▆▆▇██</td></tr><tr><td>train/parameters/std/base_model.model.roberta.encoder.layer.3.attention.self.query.lora_A.default.weight</td><td>▁▂▂▄██</td></tr><tr><td>train/parameters/std/base_model.model.roberta.encoder.layer.3.attention.self.query.lora_B.default.weight</td><td>▁▄▄▆██</td></tr><tr><td>train/parameters/std/base_model.model.roberta.encoder.layer.3.attention.self.value.lora_A.default.weight</td><td>▁▇▇███</td></tr><tr><td>train/parameters/std/base_model.model.roberta.encoder.layer.3.attention.self.value.lora_B.default.weight</td><td>▁▆▆███</td></tr><tr><td>train/parameters/std/base_model.model.roberta.encoder.layer.4.attention.self.query.lora_A.default.weight</td><td>▁▃▃▆██</td></tr><tr><td>train/parameters/std/base_model.model.roberta.encoder.layer.4.attention.self.query.lora_B.default.weight</td><td>▁▅▅▇██</td></tr><tr><td>train/parameters/std/base_model.model.roberta.encoder.layer.4.attention.self.value.lora_A.default.weight</td><td>▁█████</td></tr><tr><td>train/parameters/std/base_model.model.roberta.encoder.layer.4.attention.self.value.lora_B.default.weight</td><td>▁▇▇███</td></tr><tr><td>train/parameters/std/base_model.model.roberta.encoder.layer.5.attention.self.query.lora_A.default.weight</td><td>▁▄▄███</td></tr><tr><td>train/parameters/std/base_model.model.roberta.encoder.layer.5.attention.self.query.lora_B.default.weight</td><td>▁▅▅▇██</td></tr><tr><td>train/parameters/std/base_model.model.roberta.encoder.layer.5.attention.self.value.lora_A.default.weight</td><td>▁▇▇███</td></tr><tr><td>train/parameters/std/base_model.model.roberta.encoder.layer.5.attention.self.value.lora_B.default.weight</td><td>▁▇▇███</td></tr><tr><td>train/parameters/std/base_model.model.roberta.encoder.layer.6.attention.self.query.lora_A.default.weight</td><td>▁▄▄▇██</td></tr><tr><td>train/parameters/std/base_model.model.roberta.encoder.layer.6.attention.self.query.lora_B.default.weight</td><td>▁▆▆███</td></tr><tr><td>train/parameters/std/base_model.model.roberta.encoder.layer.6.attention.self.value.lora_A.default.weight</td><td>▁███▆▆</td></tr><tr><td>train/parameters/std/base_model.model.roberta.encoder.layer.6.attention.self.value.lora_B.default.weight</td><td>▁▇▇███</td></tr><tr><td>train/parameters/std/base_model.model.roberta.encoder.layer.7.attention.self.query.lora_A.default.weight</td><td>▁▆▆▇██</td></tr><tr><td>train/parameters/std/base_model.model.roberta.encoder.layer.7.attention.self.query.lora_B.default.weight</td><td>▁▆▆▇██</td></tr><tr><td>train/parameters/std/base_model.model.roberta.encoder.layer.7.attention.self.value.lora_A.default.weight</td><td>▁▇▇███</td></tr><tr><td>train/parameters/std/base_model.model.roberta.encoder.layer.7.attention.self.value.lora_B.default.weight</td><td>▁▇▇███</td></tr><tr><td>train/parameters/std/base_model.model.roberta.encoder.layer.8.attention.self.query.lora_A.default.weight</td><td>▁▆▆▇██</td></tr><tr><td>train/parameters/std/base_model.model.roberta.encoder.layer.8.attention.self.query.lora_B.default.weight</td><td>▁▆▆▇██</td></tr><tr><td>train/parameters/std/base_model.model.roberta.encoder.layer.8.attention.self.value.lora_A.default.weight</td><td>▁▇▇███</td></tr><tr><td>train/parameters/std/base_model.model.roberta.encoder.layer.8.attention.self.value.lora_B.default.weight</td><td>▁▇▇███</td></tr><tr><td>train/parameters/std/base_model.model.roberta.encoder.layer.9.attention.self.query.lora_A.default.weight</td><td>▁▃▃▆██</td></tr><tr><td>train/parameters/std/base_model.model.roberta.encoder.layer.9.attention.self.query.lora_B.default.weight</td><td>▁▅▅▇██</td></tr><tr><td>train/parameters/std/base_model.model.roberta.encoder.layer.9.attention.self.value.lora_A.default.weight</td><td>▁▆▆▇██</td></tr><tr><td>train/parameters/std/base_model.model.roberta.encoder.layer.9.attention.self.value.lora_B.default.weight</td><td>▁▇▇███</td></tr><tr><td>train/step</td><td>▁▃▃▅▅▅▆▆██</td></tr><tr><td>train/system/gpu_memory_allocated</td><td>▂▁▇▂▂█</td></tr><tr><td>train/system/gpu_memory_cached</td><td>▁▁▁▁▁▁</td></tr><tr><td>train/train/batch_size</td><td>▁▁▁▁▁▁</td></tr><tr><td>train/train/gradient_norm</td><td>▁▁▁▁▁▁</td></tr></table><br/></div><div class=\"wandb-col\"><h3>Run summary:</h3><br/><table class=\"wandb\"><tr><td>eval/accuracy</td><td>0.86562</td></tr><tr><td>eval/f1_class_Business</td><td>0.83612</td></tr><tr><td>eval/f1_class_Sci/Tech</td><td>0.85417</td></tr><tr><td>eval/f1_class_Sports</td><td>0.93333</td></tr><tr><td>eval/f1_class_World</td><td>0.83688</td></tr><tr><td>eval/f1_macro</td><td>0.86512</td></tr><tr><td>eval/f1_micro</td><td>0.86562</td></tr><tr><td>eval/loss</td><td>0.40115</td></tr><tr><td>eval/precision_class_Business</td><td>0.85616</td></tr><tr><td>eval/precision_class_Sci/Tech</td><td>0.82</td></tr><tr><td>eval/precision_class_Sports</td><td>0.93631</td></tr><tr><td>eval/precision_class_World</td><td>0.86131</td></tr><tr><td>eval/precision_macro</td><td>0.86845</td></tr><tr><td>eval/precision_micro</td><td>0.86562</td></tr><tr><td>eval/recall_class_Business</td><td>0.81699</td></tr><tr><td>eval/recall_class_Sci/Tech</td><td>0.8913</td></tr><tr><td>eval/recall_class_Sports</td><td>0.93038</td></tr><tr><td>eval/recall_class_World</td><td>0.81379</td></tr><tr><td>eval/recall_macro</td><td>0.86312</td></tr><tr><td>eval/recall_micro</td><td>0.86562</td></tr><tr><td>eval/runtime</td><td>5.6296</td></tr><tr><td>eval/samples_per_second</td><td>113.685</td></tr><tr><td>eval/steps_per_second</td><td>1.776</td></tr><tr><td>eval_accuracy</td><td>0.86562</td></tr><tr><td>eval_f1_class_Business</td><td>0.83612</td></tr><tr><td>eval_f1_class_Sci/Tech</td><td>0.85417</td></tr><tr><td>eval_f1_class_Sports</td><td>0.93333</td></tr><tr><td>eval_f1_class_World</td><td>0.83688</td></tr><tr><td>eval_f1_macro</td><td>0.86512</td></tr><tr><td>eval_f1_micro</td><td>0.86562</td></tr><tr><td>eval_loss</td><td>0.40115</td></tr><tr><td>eval_precision_class_Business</td><td>0.85616</td></tr><tr><td>eval_precision_class_Sci/Tech</td><td>0.82</td></tr><tr><td>eval_precision_class_Sports</td><td>0.93631</td></tr><tr><td>eval_precision_class_World</td><td>0.86131</td></tr><tr><td>eval_precision_macro</td><td>0.86845</td></tr><tr><td>eval_precision_micro</td><td>0.86562</td></tr><tr><td>eval_recall_class_Business</td><td>0.81699</td></tr><tr><td>eval_recall_class_Sci/Tech</td><td>0.8913</td></tr><tr><td>eval_recall_class_Sports</td><td>0.93038</td></tr><tr><td>eval_recall_class_World</td><td>0.81379</td></tr><tr><td>eval_recall_macro</td><td>0.86312</td></tr><tr><td>eval_recall_micro</td><td>0.86562</td></tr><tr><td>eval_runtime</td><td>5.6296</td></tr><tr><td>eval_samples_per_second</td><td>113.685</td></tr><tr><td>eval_steps_per_second</td><td>1.776</td></tr><tr><td>grad_norm</td><td>2.06778</td></tr><tr><td>learning_rate</td><td>9e-05</td></tr><tr><td>loss</td><td>0.4013</td></tr><tr><td>parameters/mean/base_model.model.classifier.modules_to_save.default.dense.bias</td><td>2e-05</td></tr><tr><td>parameters/mean/base_model.model.classifier.modules_to_save.default.dense.weight</td><td>2e-05</td></tr><tr><td>parameters/mean/base_model.model.classifier.modules_to_save.default.out_proj.bias</td><td>5e-05</td></tr><tr><td>parameters/mean/base_model.model.classifier.modules_to_save.default.out_proj.weight</td><td>-2e-05</td></tr><tr><td>parameters/mean/base_model.model.roberta.encoder.layer.0.attention.self.query.lora_A.default.weight</td><td>6e-05</td></tr><tr><td>parameters/mean/base_model.model.roberta.encoder.layer.0.attention.self.query.lora_B.default.weight</td><td>5e-05</td></tr><tr><td>parameters/mean/base_model.model.roberta.encoder.layer.0.attention.self.value.lora_A.default.weight</td><td>-0.00037</td></tr><tr><td>parameters/mean/base_model.model.roberta.encoder.layer.0.attention.self.value.lora_B.default.weight</td><td>1e-05</td></tr><tr><td>parameters/mean/base_model.model.roberta.encoder.layer.1.attention.self.query.lora_A.default.weight</td><td>-0.00044</td></tr><tr><td>parameters/mean/base_model.model.roberta.encoder.layer.1.attention.self.query.lora_B.default.weight</td><td>4e-05</td></tr><tr><td>parameters/mean/base_model.model.roberta.encoder.layer.1.attention.self.value.lora_A.default.weight</td><td>0.00182</td></tr><tr><td>parameters/mean/base_model.model.roberta.encoder.layer.1.attention.self.value.lora_B.default.weight</td><td>0.00012</td></tr><tr><td>parameters/mean/base_model.model.roberta.encoder.layer.10.attention.self.query.lora_A.default.weight</td><td>-0.00129</td></tr><tr><td>parameters/mean/base_model.model.roberta.encoder.layer.10.attention.self.query.lora_B.default.weight</td><td>-7e-05</td></tr><tr><td>parameters/mean/base_model.model.roberta.encoder.layer.10.attention.self.value.lora_A.default.weight</td><td>-5e-05</td></tr><tr><td>parameters/mean/base_model.model.roberta.encoder.layer.10.attention.self.value.lora_B.default.weight</td><td>-1e-05</td></tr><tr><td>parameters/mean/base_model.model.roberta.encoder.layer.11.attention.self.query.lora_A.default.weight</td><td>-0.00023</td></tr><tr><td>parameters/mean/base_model.model.roberta.encoder.layer.11.attention.self.query.lora_B.default.weight</td><td>0.0</td></tr><tr><td>parameters/mean/base_model.model.roberta.encoder.layer.11.attention.self.value.lora_A.default.weight</td><td>-0.00062</td></tr><tr><td>parameters/mean/base_model.model.roberta.encoder.layer.11.attention.self.value.lora_B.default.weight</td><td>0.00014</td></tr><tr><td>parameters/mean/base_model.model.roberta.encoder.layer.2.attention.self.query.lora_A.default.weight</td><td>0.00141</td></tr><tr><td>parameters/mean/base_model.model.roberta.encoder.layer.2.attention.self.query.lora_B.default.weight</td><td>-0.00032</td></tr><tr><td>parameters/mean/base_model.model.roberta.encoder.layer.2.attention.self.value.lora_A.default.weight</td><td>-0.00066</td></tr><tr><td>parameters/mean/base_model.model.roberta.encoder.layer.2.attention.self.value.lora_B.default.weight</td><td>-0.00014</td></tr><tr><td>parameters/mean/base_model.model.roberta.encoder.layer.3.attention.self.query.lora_A.default.weight</td><td>0.00071</td></tr><tr><td>parameters/mean/base_model.model.roberta.encoder.layer.3.attention.self.query.lora_B.default.weight</td><td>0.0</td></tr><tr><td>parameters/mean/base_model.model.roberta.encoder.layer.3.attention.self.value.lora_A.default.weight</td><td>0.00077</td></tr><tr><td>parameters/mean/base_model.model.roberta.encoder.layer.3.attention.self.value.lora_B.default.weight</td><td>-9e-05</td></tr><tr><td>parameters/mean/base_model.model.roberta.encoder.layer.4.attention.self.query.lora_A.default.weight</td><td>0.00035</td></tr><tr><td>parameters/mean/base_model.model.roberta.encoder.layer.4.attention.self.query.lora_B.default.weight</td><td>-4e-05</td></tr><tr><td>parameters/mean/base_model.model.roberta.encoder.layer.4.attention.self.value.lora_A.default.weight</td><td>0.00063</td></tr><tr><td>parameters/mean/base_model.model.roberta.encoder.layer.4.attention.self.value.lora_B.default.weight</td><td>-0.0</td></tr><tr><td>parameters/mean/base_model.model.roberta.encoder.layer.5.attention.self.query.lora_A.default.weight</td><td>0.00023</td></tr><tr><td>parameters/mean/base_model.model.roberta.encoder.layer.5.attention.self.query.lora_B.default.weight</td><td>-4e-05</td></tr><tr><td>parameters/mean/base_model.model.roberta.encoder.layer.5.attention.self.value.lora_A.default.weight</td><td>0.00046</td></tr><tr><td>parameters/mean/base_model.model.roberta.encoder.layer.5.attention.self.value.lora_B.default.weight</td><td>0.00011</td></tr><tr><td>parameters/mean/base_model.model.roberta.encoder.layer.6.attention.self.query.lora_A.default.weight</td><td>-0.0</td></tr><tr><td>parameters/mean/base_model.model.roberta.encoder.layer.6.attention.self.query.lora_B.default.weight</td><td>1e-05</td></tr><tr><td>parameters/mean/base_model.model.roberta.encoder.layer.6.attention.self.value.lora_A.default.weight</td><td>-0.00045</td></tr><tr><td>parameters/mean/base_model.model.roberta.encoder.layer.6.attention.self.value.lora_B.default.weight</td><td>-0.00011</td></tr><tr><td>parameters/mean/base_model.model.roberta.encoder.layer.7.attention.self.query.lora_A.default.weight</td><td>0.00078</td></tr><tr><td>parameters/mean/base_model.model.roberta.encoder.layer.7.attention.self.query.lora_B.default.weight</td><td>4e-05</td></tr><tr><td>parameters/mean/base_model.model.roberta.encoder.layer.7.attention.self.value.lora_A.default.weight</td><td>-0.00031</td></tr><tr><td>parameters/mean/base_model.model.roberta.encoder.layer.7.attention.self.value.lora_B.default.weight</td><td>-3e-05</td></tr><tr><td>parameters/mean/base_model.model.roberta.encoder.layer.8.attention.self.query.lora_A.default.weight</td><td>-0.00053</td></tr><tr><td>parameters/mean/base_model.model.roberta.encoder.layer.8.attention.self.query.lora_B.default.weight</td><td>0.00017</td></tr><tr><td>parameters/mean/base_model.model.roberta.encoder.layer.8.attention.self.value.lora_A.default.weight</td><td>0.00078</td></tr><tr><td>parameters/mean/base_model.model.roberta.encoder.layer.8.attention.self.value.lora_B.default.weight</td><td>0.0002</td></tr><tr><td>parameters/mean/base_model.model.roberta.encoder.layer.9.attention.self.query.lora_A.default.weight</td><td>0.00129</td></tr><tr><td>parameters/mean/base_model.model.roberta.encoder.layer.9.attention.self.query.lora_B.default.weight</td><td>0.00016</td></tr><tr><td>parameters/mean/base_model.model.roberta.encoder.layer.9.attention.self.value.lora_A.default.weight</td><td>-0.001</td></tr><tr><td>parameters/mean/base_model.model.roberta.encoder.layer.9.attention.self.value.lora_B.default.weight</td><td>0.00017</td></tr><tr><td>parameters/std/base_model.model.classifier.modules_to_save.default.dense.bias</td><td>0.00048</td></tr><tr><td>parameters/std/base_model.model.classifier.modules_to_save.default.dense.weight</td><td>0.02028</td></tr><tr><td>parameters/std/base_model.model.classifier.modules_to_save.default.out_proj.bias</td><td>0.00048</td></tr><tr><td>parameters/std/base_model.model.classifier.modules_to_save.default.out_proj.weight</td><td>0.02114</td></tr><tr><td>parameters/std/base_model.model.roberta.encoder.layer.0.attention.self.query.lora_A.default.weight</td><td>0.02223</td></tr><tr><td>parameters/std/base_model.model.roberta.encoder.layer.0.attention.self.query.lora_B.default.weight</td><td>0.00325</td></tr><tr><td>parameters/std/base_model.model.roberta.encoder.layer.0.attention.self.value.lora_A.default.weight</td><td>0.02263</td></tr><tr><td>parameters/std/base_model.model.roberta.encoder.layer.0.attention.self.value.lora_B.default.weight</td><td>0.00375</td></tr><tr><td>parameters/std/base_model.model.roberta.encoder.layer.1.attention.self.query.lora_A.default.weight</td><td>0.02231</td></tr><tr><td>parameters/std/base_model.model.roberta.encoder.layer.1.attention.self.query.lora_B.default.weight</td><td>0.00382</td></tr><tr><td>parameters/std/base_model.model.roberta.encoder.layer.1.attention.self.value.lora_A.default.weight</td><td>0.02215</td></tr><tr><td>parameters/std/base_model.model.roberta.encoder.layer.1.attention.self.value.lora_B.default.weight</td><td>0.00334</td></tr><tr><td>parameters/std/base_model.model.roberta.encoder.layer.10.attention.self.query.lora_A.default.weight</td><td>0.0221</td></tr><tr><td>parameters/std/base_model.model.roberta.encoder.layer.10.attention.self.query.lora_B.default.weight</td><td>0.00462</td></tr><tr><td>parameters/std/base_model.model.roberta.encoder.layer.10.attention.self.value.lora_A.default.weight</td><td>0.02209</td></tr><tr><td>parameters/std/base_model.model.roberta.encoder.layer.10.attention.self.value.lora_B.default.weight</td><td>0.00496</td></tr><tr><td>parameters/std/base_model.model.roberta.encoder.layer.11.attention.self.query.lora_A.default.weight</td><td>0.02224</td></tr><tr><td>parameters/std/base_model.model.roberta.encoder.layer.11.attention.self.query.lora_B.default.weight</td><td>0.00496</td></tr><tr><td>parameters/std/base_model.model.roberta.encoder.layer.11.attention.self.value.lora_A.default.weight</td><td>0.0221</td></tr><tr><td>parameters/std/base_model.model.roberta.encoder.layer.11.attention.self.value.lora_B.default.weight</td><td>0.00488</td></tr><tr><td>parameters/std/base_model.model.roberta.encoder.layer.2.attention.self.query.lora_A.default.weight</td><td>0.02277</td></tr><tr><td>parameters/std/base_model.model.roberta.encoder.layer.2.attention.self.query.lora_B.default.weight</td><td>0.00381</td></tr><tr><td>parameters/std/base_model.model.roberta.encoder.layer.2.attention.self.value.lora_A.default.weight</td><td>0.02134</td></tr><tr><td>parameters/std/base_model.model.roberta.encoder.layer.2.attention.self.value.lora_B.default.weight</td><td>0.00278</td></tr><tr><td>parameters/std/base_model.model.roberta.encoder.layer.3.attention.self.query.lora_A.default.weight</td><td>0.02148</td></tr><tr><td>parameters/std/base_model.model.roberta.encoder.layer.3.attention.self.query.lora_B.default.weight</td><td>0.00301</td></tr><tr><td>parameters/std/base_model.model.roberta.encoder.layer.3.attention.self.value.lora_A.default.weight</td><td>0.02152</td></tr><tr><td>parameters/std/base_model.model.roberta.encoder.layer.3.attention.self.value.lora_B.default.weight</td><td>0.00279</td></tr><tr><td>parameters/std/base_model.model.roberta.encoder.layer.4.attention.self.query.lora_A.default.weight</td><td>0.02138</td></tr><tr><td>parameters/std/base_model.model.roberta.encoder.layer.4.attention.self.query.lora_B.default.weight</td><td>0.00334</td></tr><tr><td>parameters/std/base_model.model.roberta.encoder.layer.4.attention.self.value.lora_A.default.weight</td><td>0.02123</td></tr><tr><td>parameters/std/base_model.model.roberta.encoder.layer.4.attention.self.value.lora_B.default.weight</td><td>0.00317</td></tr><tr><td>parameters/std/base_model.model.roberta.encoder.layer.5.attention.self.query.lora_A.default.weight</td><td>0.02198</td></tr><tr><td>parameters/std/base_model.model.roberta.encoder.layer.5.attention.self.query.lora_B.default.weight</td><td>0.00407</td></tr><tr><td>parameters/std/base_model.model.roberta.encoder.layer.5.attention.self.value.lora_A.default.weight</td><td>0.02191</td></tr><tr><td>parameters/std/base_model.model.roberta.encoder.layer.5.attention.self.value.lora_B.default.weight</td><td>0.00401</td></tr><tr><td>parameters/std/base_model.model.roberta.encoder.layer.6.attention.self.query.lora_A.default.weight</td><td>0.02474</td></tr><tr><td>parameters/std/base_model.model.roberta.encoder.layer.6.attention.self.query.lora_B.default.weight</td><td>0.00555</td></tr><tr><td>parameters/std/base_model.model.roberta.encoder.layer.6.attention.self.value.lora_A.default.weight</td><td>0.0213</td></tr><tr><td>parameters/std/base_model.model.roberta.encoder.layer.6.attention.self.value.lora_B.default.weight</td><td>0.00438</td></tr><tr><td>parameters/std/base_model.model.roberta.encoder.layer.7.attention.self.query.lora_A.default.weight</td><td>0.02202</td></tr><tr><td>parameters/std/base_model.model.roberta.encoder.layer.7.attention.self.query.lora_B.default.weight</td><td>0.00463</td></tr><tr><td>parameters/std/base_model.model.roberta.encoder.layer.7.attention.self.value.lora_A.default.weight</td><td>0.02212</td></tr><tr><td>parameters/std/base_model.model.roberta.encoder.layer.7.attention.self.value.lora_B.default.weight</td><td>0.00464</td></tr><tr><td>parameters/std/base_model.model.roberta.encoder.layer.8.attention.self.query.lora_A.default.weight</td><td>0.02189</td></tr><tr><td>parameters/std/base_model.model.roberta.encoder.layer.8.attention.self.query.lora_B.default.weight</td><td>0.0052</td></tr><tr><td>parameters/std/base_model.model.roberta.encoder.layer.8.attention.self.value.lora_A.default.weight</td><td>0.02177</td></tr><tr><td>parameters/std/base_model.model.roberta.encoder.layer.8.attention.self.value.lora_B.default.weight</td><td>0.00444</td></tr><tr><td>parameters/std/base_model.model.roberta.encoder.layer.9.attention.self.query.lora_A.default.weight</td><td>0.02224</td></tr><tr><td>parameters/std/base_model.model.roberta.encoder.layer.9.attention.self.query.lora_B.default.weight</td><td>0.0047</td></tr><tr><td>parameters/std/base_model.model.roberta.encoder.layer.9.attention.self.value.lora_A.default.weight</td><td>0.02192</td></tr><tr><td>parameters/std/base_model.model.roberta.encoder.layer.9.attention.self.value.lora_B.default.weight</td><td>0.00483</td></tr><tr><td>system/gpu_memory_allocated</td><td>503.14404</td></tr><tr><td>system/gpu_memory_cached</td><td>7166.0</td></tr><tr><td>train/accuracy</td><td>0.90625</td></tr><tr><td>train/batch_size</td><td>32</td></tr><tr><td>train/epoch</td><td>0.42872</td></tr><tr><td>train/global_step</td><td>400</td></tr><tr><td>train/grad_norm</td><td>2.06778</td></tr><tr><td>train/gradient_norm</td><td>0.0</td></tr><tr><td>train/learning_rate</td><td>9e-05</td></tr><tr><td>train/loss</td><td>0.4013</td></tr><tr><td>train/parameters/mean/base_model.model.classifier.modules_to_save.default.dense.bias</td><td>2e-05</td></tr><tr><td>train/parameters/mean/base_model.model.classifier.modules_to_save.default.dense.weight</td><td>2e-05</td></tr><tr><td>train/parameters/mean/base_model.model.classifier.modules_to_save.default.out_proj.bias</td><td>5e-05</td></tr><tr><td>train/parameters/mean/base_model.model.classifier.modules_to_save.default.out_proj.weight</td><td>-2e-05</td></tr><tr><td>train/parameters/mean/base_model.model.roberta.encoder.layer.0.attention.self.query.lora_A.default.weight</td><td>6e-05</td></tr><tr><td>train/parameters/mean/base_model.model.roberta.encoder.layer.0.attention.self.query.lora_B.default.weight</td><td>5e-05</td></tr><tr><td>train/parameters/mean/base_model.model.roberta.encoder.layer.0.attention.self.value.lora_A.default.weight</td><td>-0.00037</td></tr><tr><td>train/parameters/mean/base_model.model.roberta.encoder.layer.0.attention.self.value.lora_B.default.weight</td><td>1e-05</td></tr><tr><td>train/parameters/mean/base_model.model.roberta.encoder.layer.1.attention.self.query.lora_A.default.weight</td><td>-0.00044</td></tr><tr><td>train/parameters/mean/base_model.model.roberta.encoder.layer.1.attention.self.query.lora_B.default.weight</td><td>4e-05</td></tr><tr><td>train/parameters/mean/base_model.model.roberta.encoder.layer.1.attention.self.value.lora_A.default.weight</td><td>0.00182</td></tr><tr><td>train/parameters/mean/base_model.model.roberta.encoder.layer.1.attention.self.value.lora_B.default.weight</td><td>0.00012</td></tr><tr><td>train/parameters/mean/base_model.model.roberta.encoder.layer.10.attention.self.query.lora_A.default.weight</td><td>-0.00129</td></tr><tr><td>train/parameters/mean/base_model.model.roberta.encoder.layer.10.attention.self.query.lora_B.default.weight</td><td>-7e-05</td></tr><tr><td>train/parameters/mean/base_model.model.roberta.encoder.layer.10.attention.self.value.lora_A.default.weight</td><td>-5e-05</td></tr><tr><td>train/parameters/mean/base_model.model.roberta.encoder.layer.10.attention.self.value.lora_B.default.weight</td><td>-1e-05</td></tr><tr><td>train/parameters/mean/base_model.model.roberta.encoder.layer.11.attention.self.query.lora_A.default.weight</td><td>-0.00023</td></tr><tr><td>train/parameters/mean/base_model.model.roberta.encoder.layer.11.attention.self.query.lora_B.default.weight</td><td>0.0</td></tr><tr><td>train/parameters/mean/base_model.model.roberta.encoder.layer.11.attention.self.value.lora_A.default.weight</td><td>-0.00062</td></tr><tr><td>train/parameters/mean/base_model.model.roberta.encoder.layer.11.attention.self.value.lora_B.default.weight</td><td>0.00014</td></tr><tr><td>train/parameters/mean/base_model.model.roberta.encoder.layer.2.attention.self.query.lora_A.default.weight</td><td>0.00141</td></tr><tr><td>train/parameters/mean/base_model.model.roberta.encoder.layer.2.attention.self.query.lora_B.default.weight</td><td>-0.00032</td></tr><tr><td>train/parameters/mean/base_model.model.roberta.encoder.layer.2.attention.self.value.lora_A.default.weight</td><td>-0.00066</td></tr><tr><td>train/parameters/mean/base_model.model.roberta.encoder.layer.2.attention.self.value.lora_B.default.weight</td><td>-0.00014</td></tr><tr><td>train/parameters/mean/base_model.model.roberta.encoder.layer.3.attention.self.query.lora_A.default.weight</td><td>0.00071</td></tr><tr><td>train/parameters/mean/base_model.model.roberta.encoder.layer.3.attention.self.query.lora_B.default.weight</td><td>0.0</td></tr><tr><td>train/parameters/mean/base_model.model.roberta.encoder.layer.3.attention.self.value.lora_A.default.weight</td><td>0.00077</td></tr><tr><td>train/parameters/mean/base_model.model.roberta.encoder.layer.3.attention.self.value.lora_B.default.weight</td><td>-9e-05</td></tr><tr><td>train/parameters/mean/base_model.model.roberta.encoder.layer.4.attention.self.query.lora_A.default.weight</td><td>0.00035</td></tr><tr><td>train/parameters/mean/base_model.model.roberta.encoder.layer.4.attention.self.query.lora_B.default.weight</td><td>-4e-05</td></tr><tr><td>train/parameters/mean/base_model.model.roberta.encoder.layer.4.attention.self.value.lora_A.default.weight</td><td>0.00063</td></tr><tr><td>train/parameters/mean/base_model.model.roberta.encoder.layer.4.attention.self.value.lora_B.default.weight</td><td>-0.0</td></tr><tr><td>train/parameters/mean/base_model.model.roberta.encoder.layer.5.attention.self.query.lora_A.default.weight</td><td>0.00023</td></tr><tr><td>train/parameters/mean/base_model.model.roberta.encoder.layer.5.attention.self.query.lora_B.default.weight</td><td>-4e-05</td></tr><tr><td>train/parameters/mean/base_model.model.roberta.encoder.layer.5.attention.self.value.lora_A.default.weight</td><td>0.00046</td></tr><tr><td>train/parameters/mean/base_model.model.roberta.encoder.layer.5.attention.self.value.lora_B.default.weight</td><td>0.00011</td></tr><tr><td>train/parameters/mean/base_model.model.roberta.encoder.layer.6.attention.self.query.lora_A.default.weight</td><td>-0.0</td></tr><tr><td>train/parameters/mean/base_model.model.roberta.encoder.layer.6.attention.self.query.lora_B.default.weight</td><td>1e-05</td></tr><tr><td>train/parameters/mean/base_model.model.roberta.encoder.layer.6.attention.self.value.lora_A.default.weight</td><td>-0.00045</td></tr><tr><td>train/parameters/mean/base_model.model.roberta.encoder.layer.6.attention.self.value.lora_B.default.weight</td><td>-0.00011</td></tr><tr><td>train/parameters/mean/base_model.model.roberta.encoder.layer.7.attention.self.query.lora_A.default.weight</td><td>0.00078</td></tr><tr><td>train/parameters/mean/base_model.model.roberta.encoder.layer.7.attention.self.query.lora_B.default.weight</td><td>4e-05</td></tr><tr><td>train/parameters/mean/base_model.model.roberta.encoder.layer.7.attention.self.value.lora_A.default.weight</td><td>-0.00031</td></tr><tr><td>train/parameters/mean/base_model.model.roberta.encoder.layer.7.attention.self.value.lora_B.default.weight</td><td>-3e-05</td></tr><tr><td>train/parameters/mean/base_model.model.roberta.encoder.layer.8.attention.self.query.lora_A.default.weight</td><td>-0.00053</td></tr><tr><td>train/parameters/mean/base_model.model.roberta.encoder.layer.8.attention.self.query.lora_B.default.weight</td><td>0.00017</td></tr><tr><td>train/parameters/mean/base_model.model.roberta.encoder.layer.8.attention.self.value.lora_A.default.weight</td><td>0.00078</td></tr><tr><td>train/parameters/mean/base_model.model.roberta.encoder.layer.8.attention.self.value.lora_B.default.weight</td><td>0.0002</td></tr><tr><td>train/parameters/mean/base_model.model.roberta.encoder.layer.9.attention.self.query.lora_A.default.weight</td><td>0.00129</td></tr><tr><td>train/parameters/mean/base_model.model.roberta.encoder.layer.9.attention.self.query.lora_B.default.weight</td><td>0.00016</td></tr><tr><td>train/parameters/mean/base_model.model.roberta.encoder.layer.9.attention.self.value.lora_A.default.weight</td><td>-0.001</td></tr><tr><td>train/parameters/mean/base_model.model.roberta.encoder.layer.9.attention.self.value.lora_B.default.weight</td><td>0.00017</td></tr><tr><td>train/parameters/std/base_model.model.classifier.modules_to_save.default.dense.bias</td><td>0.00048</td></tr><tr><td>train/parameters/std/base_model.model.classifier.modules_to_save.default.dense.weight</td><td>0.02028</td></tr><tr><td>train/parameters/std/base_model.model.classifier.modules_to_save.default.out_proj.bias</td><td>0.00048</td></tr><tr><td>train/parameters/std/base_model.model.classifier.modules_to_save.default.out_proj.weight</td><td>0.02114</td></tr><tr><td>train/parameters/std/base_model.model.roberta.encoder.layer.0.attention.self.query.lora_A.default.weight</td><td>0.02223</td></tr><tr><td>train/parameters/std/base_model.model.roberta.encoder.layer.0.attention.self.query.lora_B.default.weight</td><td>0.00325</td></tr><tr><td>train/parameters/std/base_model.model.roberta.encoder.layer.0.attention.self.value.lora_A.default.weight</td><td>0.02263</td></tr><tr><td>train/parameters/std/base_model.model.roberta.encoder.layer.0.attention.self.value.lora_B.default.weight</td><td>0.00375</td></tr><tr><td>train/parameters/std/base_model.model.roberta.encoder.layer.1.attention.self.query.lora_A.default.weight</td><td>0.02231</td></tr><tr><td>train/parameters/std/base_model.model.roberta.encoder.layer.1.attention.self.query.lora_B.default.weight</td><td>0.00382</td></tr><tr><td>train/parameters/std/base_model.model.roberta.encoder.layer.1.attention.self.value.lora_A.default.weight</td><td>0.02215</td></tr><tr><td>train/parameters/std/base_model.model.roberta.encoder.layer.1.attention.self.value.lora_B.default.weight</td><td>0.00334</td></tr><tr><td>train/parameters/std/base_model.model.roberta.encoder.layer.10.attention.self.query.lora_A.default.weight</td><td>0.0221</td></tr><tr><td>train/parameters/std/base_model.model.roberta.encoder.layer.10.attention.self.query.lora_B.default.weight</td><td>0.00462</td></tr><tr><td>train/parameters/std/base_model.model.roberta.encoder.layer.10.attention.self.value.lora_A.default.weight</td><td>0.02209</td></tr><tr><td>train/parameters/std/base_model.model.roberta.encoder.layer.10.attention.self.value.lora_B.default.weight</td><td>0.00496</td></tr><tr><td>train/parameters/std/base_model.model.roberta.encoder.layer.11.attention.self.query.lora_A.default.weight</td><td>0.02224</td></tr><tr><td>train/parameters/std/base_model.model.roberta.encoder.layer.11.attention.self.query.lora_B.default.weight</td><td>0.00496</td></tr><tr><td>train/parameters/std/base_model.model.roberta.encoder.layer.11.attention.self.value.lora_A.default.weight</td><td>0.0221</td></tr><tr><td>train/parameters/std/base_model.model.roberta.encoder.layer.11.attention.self.value.lora_B.default.weight</td><td>0.00488</td></tr><tr><td>train/parameters/std/base_model.model.roberta.encoder.layer.2.attention.self.query.lora_A.default.weight</td><td>0.02277</td></tr><tr><td>train/parameters/std/base_model.model.roberta.encoder.layer.2.attention.self.query.lora_B.default.weight</td><td>0.00381</td></tr><tr><td>train/parameters/std/base_model.model.roberta.encoder.layer.2.attention.self.value.lora_A.default.weight</td><td>0.02134</td></tr><tr><td>train/parameters/std/base_model.model.roberta.encoder.layer.2.attention.self.value.lora_B.default.weight</td><td>0.00278</td></tr><tr><td>train/parameters/std/base_model.model.roberta.encoder.layer.3.attention.self.query.lora_A.default.weight</td><td>0.02148</td></tr><tr><td>train/parameters/std/base_model.model.roberta.encoder.layer.3.attention.self.query.lora_B.default.weight</td><td>0.00301</td></tr><tr><td>train/parameters/std/base_model.model.roberta.encoder.layer.3.attention.self.value.lora_A.default.weight</td><td>0.02152</td></tr><tr><td>train/parameters/std/base_model.model.roberta.encoder.layer.3.attention.self.value.lora_B.default.weight</td><td>0.00279</td></tr><tr><td>train/parameters/std/base_model.model.roberta.encoder.layer.4.attention.self.query.lora_A.default.weight</td><td>0.02138</td></tr><tr><td>train/parameters/std/base_model.model.roberta.encoder.layer.4.attention.self.query.lora_B.default.weight</td><td>0.00334</td></tr><tr><td>train/parameters/std/base_model.model.roberta.encoder.layer.4.attention.self.value.lora_A.default.weight</td><td>0.02123</td></tr><tr><td>train/parameters/std/base_model.model.roberta.encoder.layer.4.attention.self.value.lora_B.default.weight</td><td>0.00317</td></tr><tr><td>train/parameters/std/base_model.model.roberta.encoder.layer.5.attention.self.query.lora_A.default.weight</td><td>0.02198</td></tr><tr><td>train/parameters/std/base_model.model.roberta.encoder.layer.5.attention.self.query.lora_B.default.weight</td><td>0.00407</td></tr><tr><td>train/parameters/std/base_model.model.roberta.encoder.layer.5.attention.self.value.lora_A.default.weight</td><td>0.02191</td></tr><tr><td>train/parameters/std/base_model.model.roberta.encoder.layer.5.attention.self.value.lora_B.default.weight</td><td>0.00401</td></tr><tr><td>train/parameters/std/base_model.model.roberta.encoder.layer.6.attention.self.query.lora_A.default.weight</td><td>0.02474</td></tr><tr><td>train/parameters/std/base_model.model.roberta.encoder.layer.6.attention.self.query.lora_B.default.weight</td><td>0.00555</td></tr><tr><td>train/parameters/std/base_model.model.roberta.encoder.layer.6.attention.self.value.lora_A.default.weight</td><td>0.0213</td></tr><tr><td>train/parameters/std/base_model.model.roberta.encoder.layer.6.attention.self.value.lora_B.default.weight</td><td>0.00438</td></tr><tr><td>train/parameters/std/base_model.model.roberta.encoder.layer.7.attention.self.query.lora_A.default.weight</td><td>0.02202</td></tr><tr><td>train/parameters/std/base_model.model.roberta.encoder.layer.7.attention.self.query.lora_B.default.weight</td><td>0.00463</td></tr><tr><td>train/parameters/std/base_model.model.roberta.encoder.layer.7.attention.self.value.lora_A.default.weight</td><td>0.02212</td></tr><tr><td>train/parameters/std/base_model.model.roberta.encoder.layer.7.attention.self.value.lora_B.default.weight</td><td>0.00464</td></tr><tr><td>train/parameters/std/base_model.model.roberta.encoder.layer.8.attention.self.query.lora_A.default.weight</td><td>0.02189</td></tr><tr><td>train/parameters/std/base_model.model.roberta.encoder.layer.8.attention.self.query.lora_B.default.weight</td><td>0.0052</td></tr><tr><td>train/parameters/std/base_model.model.roberta.encoder.layer.8.attention.self.value.lora_A.default.weight</td><td>0.02177</td></tr><tr><td>train/parameters/std/base_model.model.roberta.encoder.layer.8.attention.self.value.lora_B.default.weight</td><td>0.00444</td></tr><tr><td>train/parameters/std/base_model.model.roberta.encoder.layer.9.attention.self.query.lora_A.default.weight</td><td>0.02224</td></tr><tr><td>train/parameters/std/base_model.model.roberta.encoder.layer.9.attention.self.query.lora_B.default.weight</td><td>0.0047</td></tr><tr><td>train/parameters/std/base_model.model.roberta.encoder.layer.9.attention.self.value.lora_A.default.weight</td><td>0.02192</td></tr><tr><td>train/parameters/std/base_model.model.roberta.encoder.layer.9.attention.self.value.lora_B.default.weight</td><td>0.00483</td></tr><tr><td>train/step</td><td>400</td></tr><tr><td>train/system/gpu_memory_allocated</td><td>503.14404</td></tr><tr><td>train/system/gpu_memory_cached</td><td>7166.0</td></tr><tr><td>train/train/batch_size</td><td>32</td></tr><tr><td>train/train/gradient_norm</td><td>0.0</td></tr></table><br/></div></div>"
      ],
      "text/plain": [
       "<IPython.core.display.HTML object>"
      ]
     },
     "metadata": {},
     "output_type": "display_data"
    },
    {
     "data": {
      "text/html": [
       " View run <strong style=\"color:#cdcd00\">roberta_lora_k024enny</strong> at: <a href='https://wandb.ai/jl10897-new-york-university/ag_news_classification/runs/imeh96ze' target=\"_blank\">https://wandb.ai/jl10897-new-york-university/ag_news_classification/runs/imeh96ze</a><br/>Synced 6 W&B file(s), 12 media file(s), 0 artifact file(s) and 0 other file(s)"
      ],
      "text/plain": [
       "<IPython.core.display.HTML object>"
      ]
     },
     "metadata": {},
     "output_type": "display_data"
    },
    {
     "data": {
      "text/html": [
       "Find logs at: <code>./wandb/run-20250420_231948-imeh96ze/logs</code>"
      ],
      "text/plain": [
       "<IPython.core.display.HTML object>"
      ]
     },
     "metadata": {},
     "output_type": "display_data"
    },
    {
     "data": {
      "text/html": [
       "Successfully finished last run (ID:imeh96ze). Initializing new run:<br/>"
      ],
      "text/plain": [
       "<IPython.core.display.HTML object>"
      ]
     },
     "metadata": {},
     "output_type": "display_data"
    },
    {
     "data": {
      "application/vnd.jupyter.widget-view+json": {
       "model_id": "b1b358f3fc8949b08522ad15423543c0",
       "version_major": 2,
       "version_minor": 0
      },
      "text/plain": [
       "VBox(children=(Label(value='Waiting for wandb.init()...\\r'), FloatProgress(value=0.011113322799145762, max=1.0…"
      ]
     },
     "metadata": {},
     "output_type": "display_data"
    },
    {
     "data": {
      "text/html": [
       "wandb version 0.19.9 is available!  To upgrade, please run:\n",
       " $ pip install wandb --upgrade"
      ],
      "text/plain": [
       "<IPython.core.display.HTML object>"
      ]
     },
     "metadata": {},
     "output_type": "display_data"
    },
    {
     "data": {
      "text/html": [
       "Tracking run with wandb version 0.16.0"
      ],
      "text/plain": [
       "<IPython.core.display.HTML object>"
      ]
     },
     "metadata": {},
     "output_type": "display_data"
    },
    {
     "data": {
      "text/html": [
       "Run data is saved locally in <code>/ssd_2T/viewsetting/results/wandb/run-20250421_003842-9n3a6m1b</code>"
      ],
      "text/plain": [
       "<IPython.core.display.HTML object>"
      ]
     },
     "metadata": {},
     "output_type": "display_data"
    },
    {
     "data": {
      "text/html": [
       "Syncing run <strong><a href='https://wandb.ai/jl10897-new-york-university/ag_news_classification/runs/9n3a6m1b' target=\"_blank\">roberta_lora_cch3892m</a></strong> to <a href='https://wandb.ai/jl10897-new-york-university/ag_news_classification' target=\"_blank\">Weights & Biases</a> (<a href='https://wandb.me/run' target=\"_blank\">docs</a>)<br/>"
      ],
      "text/plain": [
       "<IPython.core.display.HTML object>"
      ]
     },
     "metadata": {},
     "output_type": "display_data"
    },
    {
     "data": {
      "text/html": [
       " View project at <a href='https://wandb.ai/jl10897-new-york-university/ag_news_classification' target=\"_blank\">https://wandb.ai/jl10897-new-york-university/ag_news_classification</a>"
      ],
      "text/plain": [
       "<IPython.core.display.HTML object>"
      ]
     },
     "metadata": {},
     "output_type": "display_data"
    },
    {
     "data": {
      "text/html": [
       " View run at <a href='https://wandb.ai/jl10897-new-york-university/ag_news_classification/runs/9n3a6m1b' target=\"_blank\">https://wandb.ai/jl10897-new-york-university/ag_news_classification/runs/9n3a6m1b</a>"
      ],
      "text/plain": [
       "<IPython.core.display.HTML object>"
      ]
     },
     "metadata": {},
     "output_type": "display_data"
    },
    {
     "name": "stderr",
     "output_type": "stream",
     "text": [
      "/cache_intel/anaconda/miniconda3/lib/python3.9/site-packages/torch/nn/parallel/data_parallel.py:37: UserWarning: \n",
      "    There is an imbalance between your GPUs. You may want to exclude GPU 2 which\n",
      "    has less than 75% of the memory or cores of GPU 0. You can do so by setting\n",
      "    the device_ids argument to DataParallel, or by setting the CUDA_VISIBLE_DEVICES\n",
      "    environment variable.\n",
      "  warnings.warn(\n",
      "/cache_intel/anaconda/miniconda3/lib/python3.9/site-packages/torch/nn/parallel/_functions.py:70: UserWarning: Was asked to gather along dimension 0, but all input tensors were scalars; will instead unsqueeze and return a vector.\n",
      "  warnings.warn(\n"
     ]
    },
    {
     "data": {
      "text/html": [
       "\n",
       "    <div>\n",
       "      \n",
       "      <progress value='1866' max='1866' style='width:300px; height:20px; vertical-align: middle;'></progress>\n",
       "      [1866/1866 1:15:46, Epoch 2/2]\n",
       "    </div>\n",
       "    <table border=\"1\" class=\"dataframe\">\n",
       "  <thead>\n",
       " <tr style=\"text-align: left;\">\n",
       "      <th>Step</th>\n",
       "      <th>Training Loss</th>\n",
       "      <th>Validation Loss</th>\n",
       "      <th>Accuracy</th>\n",
       "      <th>Precision Macro</th>\n",
       "      <th>Precision Micro</th>\n",
       "      <th>Recall Macro</th>\n",
       "      <th>Recall Micro</th>\n",
       "      <th>F1 Macro</th>\n",
       "      <th>F1 Micro</th>\n",
       "      <th>Precision Class World</th>\n",
       "      <th>Recall Class World</th>\n",
       "      <th>F1 Class World</th>\n",
       "      <th>Precision Class Sports</th>\n",
       "      <th>Recall Class Sports</th>\n",
       "      <th>F1 Class Sports</th>\n",
       "      <th>Precision Class Business</th>\n",
       "      <th>Recall Class Business</th>\n",
       "      <th>F1 Class Business</th>\n",
       "      <th>Precision Class Sci/tech</th>\n",
       "      <th>Recall Class Sci/tech</th>\n",
       "      <th>F1 Class Sci/tech</th>\n",
       "      <th>Norm</th>\n",
       "      <th>Size</th>\n",
       "      <th>Memory Allocated</th>\n",
       "      <th>Memory Cached</th>\n",
       "      <th>Model.model.roberta.encoder.layer.0.attention.self.query.lora A.default.weight</th>\n",
       "      <th>Model.model.roberta.encoder.layer.0.attention.self.query.lora B.default.weight</th>\n",
       "      <th>Model.model.roberta.encoder.layer.0.attention.self.value.lora A.default.weight</th>\n",
       "      <th>Model.model.roberta.encoder.layer.0.attention.self.value.lora B.default.weight</th>\n",
       "      <th>Model.model.roberta.encoder.layer.1.attention.self.query.lora A.default.weight</th>\n",
       "      <th>Model.model.roberta.encoder.layer.1.attention.self.query.lora B.default.weight</th>\n",
       "      <th>Model.model.roberta.encoder.layer.1.attention.self.value.lora A.default.weight</th>\n",
       "      <th>Model.model.roberta.encoder.layer.1.attention.self.value.lora B.default.weight</th>\n",
       "      <th>Model.model.roberta.encoder.layer.2.attention.self.query.lora A.default.weight</th>\n",
       "      <th>Model.model.roberta.encoder.layer.2.attention.self.query.lora B.default.weight</th>\n",
       "      <th>Model.model.roberta.encoder.layer.2.attention.self.value.lora A.default.weight</th>\n",
       "      <th>Model.model.roberta.encoder.layer.2.attention.self.value.lora B.default.weight</th>\n",
       "      <th>Model.model.roberta.encoder.layer.3.attention.self.query.lora A.default.weight</th>\n",
       "      <th>Model.model.roberta.encoder.layer.3.attention.self.query.lora B.default.weight</th>\n",
       "      <th>Model.model.roberta.encoder.layer.3.attention.self.value.lora A.default.weight</th>\n",
       "      <th>Model.model.roberta.encoder.layer.3.attention.self.value.lora B.default.weight</th>\n",
       "      <th>Model.model.roberta.encoder.layer.4.attention.self.query.lora A.default.weight</th>\n",
       "      <th>Model.model.roberta.encoder.layer.4.attention.self.query.lora B.default.weight</th>\n",
       "      <th>Model.model.roberta.encoder.layer.4.attention.self.value.lora A.default.weight</th>\n",
       "      <th>Model.model.roberta.encoder.layer.4.attention.self.value.lora B.default.weight</th>\n",
       "      <th>Model.model.roberta.encoder.layer.5.attention.self.query.lora A.default.weight</th>\n",
       "      <th>Model.model.roberta.encoder.layer.5.attention.self.query.lora B.default.weight</th>\n",
       "      <th>Model.model.roberta.encoder.layer.5.attention.self.value.lora A.default.weight</th>\n",
       "      <th>Model.model.roberta.encoder.layer.5.attention.self.value.lora B.default.weight</th>\n",
       "      <th>Model.model.roberta.encoder.layer.6.attention.self.query.lora A.default.weight</th>\n",
       "      <th>Model.model.roberta.encoder.layer.6.attention.self.query.lora B.default.weight</th>\n",
       "      <th>Model.model.roberta.encoder.layer.6.attention.self.value.lora A.default.weight</th>\n",
       "      <th>Model.model.roberta.encoder.layer.6.attention.self.value.lora B.default.weight</th>\n",
       "      <th>Model.model.roberta.encoder.layer.7.attention.self.query.lora A.default.weight</th>\n",
       "      <th>Model.model.roberta.encoder.layer.7.attention.self.query.lora B.default.weight</th>\n",
       "      <th>Model.model.roberta.encoder.layer.7.attention.self.value.lora A.default.weight</th>\n",
       "      <th>Model.model.roberta.encoder.layer.7.attention.self.value.lora B.default.weight</th>\n",
       "      <th>Model.model.roberta.encoder.layer.8.attention.self.query.lora A.default.weight</th>\n",
       "      <th>Model.model.roberta.encoder.layer.8.attention.self.query.lora B.default.weight</th>\n",
       "      <th>Model.model.roberta.encoder.layer.8.attention.self.value.lora A.default.weight</th>\n",
       "      <th>Model.model.roberta.encoder.layer.8.attention.self.value.lora B.default.weight</th>\n",
       "      <th>Model.model.roberta.encoder.layer.9.attention.self.query.lora A.default.weight</th>\n",
       "      <th>Model.model.roberta.encoder.layer.9.attention.self.query.lora B.default.weight</th>\n",
       "      <th>Model.model.roberta.encoder.layer.9.attention.self.value.lora A.default.weight</th>\n",
       "      <th>Model.model.roberta.encoder.layer.9.attention.self.value.lora B.default.weight</th>\n",
       "      <th>Model.model.roberta.encoder.layer.10.attention.self.query.lora A.default.weight</th>\n",
       "      <th>Model.model.roberta.encoder.layer.10.attention.self.query.lora B.default.weight</th>\n",
       "      <th>Model.model.roberta.encoder.layer.10.attention.self.value.lora A.default.weight</th>\n",
       "      <th>Model.model.roberta.encoder.layer.10.attention.self.value.lora B.default.weight</th>\n",
       "      <th>Model.model.roberta.encoder.layer.11.attention.self.query.lora A.default.weight</th>\n",
       "      <th>Model.model.roberta.encoder.layer.11.attention.self.query.lora B.default.weight</th>\n",
       "      <th>Model.model.roberta.encoder.layer.11.attention.self.value.lora A.default.weight</th>\n",
       "      <th>Model.model.roberta.encoder.layer.11.attention.self.value.lora B.default.weight</th>\n",
       "      <th>Model.model.classifier.modules To Save.default.dense.weight</th>\n",
       "      <th>Model.model.classifier.modules To Save.default.dense.bias</th>\n",
       "      <th>Model.model.classifier.modules To Save.default.out Proj.weight</th>\n",
       "      <th>Model.model.classifier.modules To Save.default.out Proj.bias</th>\n",
       "    </tr>\n",
       "  </thead>\n",
       "  <tbody>\n",
       "    <tr>\n",
       "      <td>200</td>\n",
       "      <td>0.380300</td>\n",
       "      <td>0.389086</td>\n",
       "      <td>0.867188</td>\n",
       "      <td>0.868075</td>\n",
       "      <td>0.867188</td>\n",
       "      <td>0.866257</td>\n",
       "      <td>0.867188</td>\n",
       "      <td>0.866989</td>\n",
       "      <td>0.867188</td>\n",
       "      <td>0.857143</td>\n",
       "      <td>0.827586</td>\n",
       "      <td>0.842105</td>\n",
       "      <td>0.919255</td>\n",
       "      <td>0.936709</td>\n",
       "      <td>0.927900</td>\n",
       "      <td>0.859060</td>\n",
       "      <td>0.836601</td>\n",
       "      <td>0.847682</td>\n",
       "      <td>0.836842</td>\n",
       "      <td>0.864130</td>\n",
       "      <td>0.850267</td>\n",
       "      <td>0.000000</td>\n",
       "      <td>32</td>\n",
       "      <td>509.042969</td>\n",
       "      <td>7180.000000</td>\n",
       "      <td>0.022732</td>\n",
       "      <td>0.003810</td>\n",
       "      <td>0.022968</td>\n",
       "      <td>0.004046</td>\n",
       "      <td>0.022732</td>\n",
       "      <td>0.004230</td>\n",
       "      <td>0.022411</td>\n",
       "      <td>0.003581</td>\n",
       "      <td>0.023229</td>\n",
       "      <td>0.004236</td>\n",
       "      <td>0.021484</td>\n",
       "      <td>0.003044</td>\n",
       "      <td>0.021844</td>\n",
       "      <td>0.003486</td>\n",
       "      <td>0.021598</td>\n",
       "      <td>0.002978</td>\n",
       "      <td>0.021525</td>\n",
       "      <td>0.003617</td>\n",
       "      <td>0.021303</td>\n",
       "      <td>0.003295</td>\n",
       "      <td>0.022309</td>\n",
       "      <td>0.004410</td>\n",
       "      <td>0.021971</td>\n",
       "      <td>0.004136</td>\n",
       "      <td>0.025216</td>\n",
       "      <td>0.005818</td>\n",
       "      <td>0.021339</td>\n",
       "      <td>0.004492</td>\n",
       "      <td>0.022270</td>\n",
       "      <td>0.005032</td>\n",
       "      <td>0.022270</td>\n",
       "      <td>0.004790</td>\n",
       "      <td>0.022005</td>\n",
       "      <td>0.005459</td>\n",
       "      <td>0.021868</td>\n",
       "      <td>0.004601</td>\n",
       "      <td>0.022469</td>\n",
       "      <td>0.005004</td>\n",
       "      <td>0.022002</td>\n",
       "      <td>0.004942</td>\n",
       "      <td>0.022624</td>\n",
       "      <td>0.004984</td>\n",
       "      <td>0.022246</td>\n",
       "      <td>0.005184</td>\n",
       "      <td>0.022406</td>\n",
       "      <td>0.005274</td>\n",
       "      <td>0.022267</td>\n",
       "      <td>0.005160</td>\n",
       "      <td>0.020315</td>\n",
       "      <td>0.000737</td>\n",
       "      <td>0.021368</td>\n",
       "      <td>0.000714</td>\n",
       "    </tr>\n",
       "    <tr>\n",
       "      <td>400</td>\n",
       "      <td>0.359200</td>\n",
       "      <td>0.384672</td>\n",
       "      <td>0.870313</td>\n",
       "      <td>0.874226</td>\n",
       "      <td>0.870313</td>\n",
       "      <td>0.867611</td>\n",
       "      <td>0.870313</td>\n",
       "      <td>0.870042</td>\n",
       "      <td>0.870313</td>\n",
       "      <td>0.856115</td>\n",
       "      <td>0.820690</td>\n",
       "      <td>0.838028</td>\n",
       "      <td>0.941935</td>\n",
       "      <td>0.924051</td>\n",
       "      <td>0.932907</td>\n",
       "      <td>0.881119</td>\n",
       "      <td>0.823529</td>\n",
       "      <td>0.851351</td>\n",
       "      <td>0.817734</td>\n",
       "      <td>0.902174</td>\n",
       "      <td>0.857881</td>\n",
       "      <td>0.000000</td>\n",
       "      <td>32</td>\n",
       "      <td>509.072266</td>\n",
       "      <td>7180.000000</td>\n",
       "      <td>0.023772</td>\n",
       "      <td>0.004824</td>\n",
       "      <td>0.023088</td>\n",
       "      <td>0.004319</td>\n",
       "      <td>0.023585</td>\n",
       "      <td>0.005013</td>\n",
       "      <td>0.022591</td>\n",
       "      <td>0.003891</td>\n",
       "      <td>0.024088</td>\n",
       "      <td>0.005031</td>\n",
       "      <td>0.021761</td>\n",
       "      <td>0.003497</td>\n",
       "      <td>0.022720</td>\n",
       "      <td>0.004486</td>\n",
       "      <td>0.021773</td>\n",
       "      <td>0.003322</td>\n",
       "      <td>0.022068</td>\n",
       "      <td>0.004463</td>\n",
       "      <td>0.021439</td>\n",
       "      <td>0.003566</td>\n",
       "      <td>0.022901</td>\n",
       "      <td>0.005062</td>\n",
       "      <td>0.022052</td>\n",
       "      <td>0.004319</td>\n",
       "      <td>0.026182</td>\n",
       "      <td>0.006288</td>\n",
       "      <td>0.021392</td>\n",
       "      <td>0.004635</td>\n",
       "      <td>0.022463</td>\n",
       "      <td>0.005488</td>\n",
       "      <td>0.022254</td>\n",
       "      <td>0.004935</td>\n",
       "      <td>0.022372</td>\n",
       "      <td>0.005949</td>\n",
       "      <td>0.021700</td>\n",
       "      <td>0.004689</td>\n",
       "      <td>0.023673</td>\n",
       "      <td>0.005798</td>\n",
       "      <td>0.022132</td>\n",
       "      <td>0.005157</td>\n",
       "      <td>0.023914</td>\n",
       "      <td>0.005776</td>\n",
       "      <td>0.022337</td>\n",
       "      <td>0.005470</td>\n",
       "      <td>0.022665</td>\n",
       "      <td>0.005876</td>\n",
       "      <td>0.022375</td>\n",
       "      <td>0.005451</td>\n",
       "      <td>0.020384</td>\n",
       "      <td>0.000971</td>\n",
       "      <td>0.021627</td>\n",
       "      <td>0.000896</td>\n",
       "    </tr>\n",
       "    <tr>\n",
       "      <td>600</td>\n",
       "      <td>0.368100</td>\n",
       "      <td>0.378458</td>\n",
       "      <td>0.875000</td>\n",
       "      <td>0.877177</td>\n",
       "      <td>0.875000</td>\n",
       "      <td>0.872655</td>\n",
       "      <td>0.875000</td>\n",
       "      <td>0.874461</td>\n",
       "      <td>0.875000</td>\n",
       "      <td>0.857143</td>\n",
       "      <td>0.827586</td>\n",
       "      <td>0.842105</td>\n",
       "      <td>0.941558</td>\n",
       "      <td>0.917722</td>\n",
       "      <td>0.929487</td>\n",
       "      <td>0.871622</td>\n",
       "      <td>0.843137</td>\n",
       "      <td>0.857143</td>\n",
       "      <td>0.838384</td>\n",
       "      <td>0.902174</td>\n",
       "      <td>0.869110</td>\n",
       "      <td>0.000000</td>\n",
       "      <td>32</td>\n",
       "      <td>509.072266</td>\n",
       "      <td>7180.000000</td>\n",
       "      <td>0.024646</td>\n",
       "      <td>0.005610</td>\n",
       "      <td>0.023253</td>\n",
       "      <td>0.004576</td>\n",
       "      <td>0.024156</td>\n",
       "      <td>0.005519</td>\n",
       "      <td>0.022778</td>\n",
       "      <td>0.004115</td>\n",
       "      <td>0.024493</td>\n",
       "      <td>0.005412</td>\n",
       "      <td>0.021851</td>\n",
       "      <td>0.003697</td>\n",
       "      <td>0.022990</td>\n",
       "      <td>0.004868</td>\n",
       "      <td>0.021837</td>\n",
       "      <td>0.003438</td>\n",
       "      <td>0.022348</td>\n",
       "      <td>0.004919</td>\n",
       "      <td>0.021581</td>\n",
       "      <td>0.003748</td>\n",
       "      <td>0.023373</td>\n",
       "      <td>0.005468</td>\n",
       "      <td>0.022065</td>\n",
       "      <td>0.004349</td>\n",
       "      <td>0.026289</td>\n",
       "      <td>0.006473</td>\n",
       "      <td>0.021517</td>\n",
       "      <td>0.004815</td>\n",
       "      <td>0.022624</td>\n",
       "      <td>0.005788</td>\n",
       "      <td>0.022325</td>\n",
       "      <td>0.005110</td>\n",
       "      <td>0.022671</td>\n",
       "      <td>0.006257</td>\n",
       "      <td>0.021691</td>\n",
       "      <td>0.004861</td>\n",
       "      <td>0.024333</td>\n",
       "      <td>0.006294</td>\n",
       "      <td>0.022171</td>\n",
       "      <td>0.005292</td>\n",
       "      <td>0.025608</td>\n",
       "      <td>0.006625</td>\n",
       "      <td>0.022472</td>\n",
       "      <td>0.005753</td>\n",
       "      <td>0.023375</td>\n",
       "      <td>0.006608</td>\n",
       "      <td>0.022544</td>\n",
       "      <td>0.005764</td>\n",
       "      <td>0.020421</td>\n",
       "      <td>0.001072</td>\n",
       "      <td>0.021609</td>\n",
       "      <td>0.000927</td>\n",
       "    </tr>\n",
       "    <tr>\n",
       "      <td>800</td>\n",
       "      <td>0.346800</td>\n",
       "      <td>0.343803</td>\n",
       "      <td>0.875000</td>\n",
       "      <td>0.876354</td>\n",
       "      <td>0.875000</td>\n",
       "      <td>0.874195</td>\n",
       "      <td>0.875000</td>\n",
       "      <td>0.874662</td>\n",
       "      <td>0.875000</td>\n",
       "      <td>0.893939</td>\n",
       "      <td>0.813793</td>\n",
       "      <td>0.851986</td>\n",
       "      <td>0.908537</td>\n",
       "      <td>0.943038</td>\n",
       "      <td>0.925466</td>\n",
       "      <td>0.848101</td>\n",
       "      <td>0.875817</td>\n",
       "      <td>0.861736</td>\n",
       "      <td>0.854839</td>\n",
       "      <td>0.864130</td>\n",
       "      <td>0.859459</td>\n",
       "      <td>0.000000</td>\n",
       "      <td>32</td>\n",
       "      <td>509.072266</td>\n",
       "      <td>7180.000000</td>\n",
       "      <td>0.025332</td>\n",
       "      <td>0.006140</td>\n",
       "      <td>0.023510</td>\n",
       "      <td>0.004806</td>\n",
       "      <td>0.024375</td>\n",
       "      <td>0.005835</td>\n",
       "      <td>0.022927</td>\n",
       "      <td>0.004253</td>\n",
       "      <td>0.024973</td>\n",
       "      <td>0.005812</td>\n",
       "      <td>0.022090</td>\n",
       "      <td>0.003899</td>\n",
       "      <td>0.023452</td>\n",
       "      <td>0.005326</td>\n",
       "      <td>0.021994</td>\n",
       "      <td>0.003636</td>\n",
       "      <td>0.022780</td>\n",
       "      <td>0.005377</td>\n",
       "      <td>0.021678</td>\n",
       "      <td>0.003870</td>\n",
       "      <td>0.023643</td>\n",
       "      <td>0.005768</td>\n",
       "      <td>0.022125</td>\n",
       "      <td>0.004437</td>\n",
       "      <td>0.026932</td>\n",
       "      <td>0.006709</td>\n",
       "      <td>0.021585</td>\n",
       "      <td>0.004913</td>\n",
       "      <td>0.022668</td>\n",
       "      <td>0.005981</td>\n",
       "      <td>0.022293</td>\n",
       "      <td>0.005173</td>\n",
       "      <td>0.022842</td>\n",
       "      <td>0.006502</td>\n",
       "      <td>0.021653</td>\n",
       "      <td>0.004928</td>\n",
       "      <td>0.025691</td>\n",
       "      <td>0.007013</td>\n",
       "      <td>0.022174</td>\n",
       "      <td>0.005383</td>\n",
       "      <td>0.029223</td>\n",
       "      <td>0.007857</td>\n",
       "      <td>0.022418</td>\n",
       "      <td>0.005909</td>\n",
       "      <td>0.023863</td>\n",
       "      <td>0.007138</td>\n",
       "      <td>0.022512</td>\n",
       "      <td>0.005788</td>\n",
       "      <td>0.020465</td>\n",
       "      <td>0.001205</td>\n",
       "      <td>0.021800</td>\n",
       "      <td>0.001073</td>\n",
       "    </tr>\n",
       "    <tr>\n",
       "      <td>1000</td>\n",
       "      <td>0.339900</td>\n",
       "      <td>0.337962</td>\n",
       "      <td>0.876563</td>\n",
       "      <td>0.877765</td>\n",
       "      <td>0.876563</td>\n",
       "      <td>0.876198</td>\n",
       "      <td>0.876563</td>\n",
       "      <td>0.876824</td>\n",
       "      <td>0.876563</td>\n",
       "      <td>0.837838</td>\n",
       "      <td>0.855172</td>\n",
       "      <td>0.846416</td>\n",
       "      <td>0.942308</td>\n",
       "      <td>0.930380</td>\n",
       "      <td>0.936306</td>\n",
       "      <td>0.884354</td>\n",
       "      <td>0.849673</td>\n",
       "      <td>0.866667</td>\n",
       "      <td>0.846561</td>\n",
       "      <td>0.869565</td>\n",
       "      <td>0.857909</td>\n",
       "      <td>0.000000</td>\n",
       "      <td>32</td>\n",
       "      <td>509.072266</td>\n",
       "      <td>7180.000000</td>\n",
       "      <td>0.025729</td>\n",
       "      <td>0.006479</td>\n",
       "      <td>0.023590</td>\n",
       "      <td>0.004906</td>\n",
       "      <td>0.024598</td>\n",
       "      <td>0.005996</td>\n",
       "      <td>0.023078</td>\n",
       "      <td>0.004370</td>\n",
       "      <td>0.025074</td>\n",
       "      <td>0.006015</td>\n",
       "      <td>0.022169</td>\n",
       "      <td>0.003997</td>\n",
       "      <td>0.023987</td>\n",
       "      <td>0.005729</td>\n",
       "      <td>0.022104</td>\n",
       "      <td>0.003778</td>\n",
       "      <td>0.022918</td>\n",
       "      <td>0.005553</td>\n",
       "      <td>0.021744</td>\n",
       "      <td>0.003953</td>\n",
       "      <td>0.023862</td>\n",
       "      <td>0.005956</td>\n",
       "      <td>0.022100</td>\n",
       "      <td>0.004446</td>\n",
       "      <td>0.027078</td>\n",
       "      <td>0.006846</td>\n",
       "      <td>0.021684</td>\n",
       "      <td>0.005025</td>\n",
       "      <td>0.022825</td>\n",
       "      <td>0.006182</td>\n",
       "      <td>0.022374</td>\n",
       "      <td>0.005288</td>\n",
       "      <td>0.022949</td>\n",
       "      <td>0.006690</td>\n",
       "      <td>0.021675</td>\n",
       "      <td>0.005007</td>\n",
       "      <td>0.026447</td>\n",
       "      <td>0.007369</td>\n",
       "      <td>0.022211</td>\n",
       "      <td>0.005456</td>\n",
       "      <td>0.029919</td>\n",
       "      <td>0.008246</td>\n",
       "      <td>0.022604</td>\n",
       "      <td>0.006096</td>\n",
       "      <td>0.024491</td>\n",
       "      <td>0.007640</td>\n",
       "      <td>0.022625</td>\n",
       "      <td>0.005962</td>\n",
       "      <td>0.020498</td>\n",
       "      <td>0.001301</td>\n",
       "      <td>0.021911</td>\n",
       "      <td>0.001195</td>\n",
       "    </tr>\n",
       "    <tr>\n",
       "      <td>1200</td>\n",
       "      <td>0.333300</td>\n",
       "      <td>0.332009</td>\n",
       "      <td>0.879687</td>\n",
       "      <td>0.882326</td>\n",
       "      <td>0.879687</td>\n",
       "      <td>0.878838</td>\n",
       "      <td>0.879687</td>\n",
       "      <td>0.880294</td>\n",
       "      <td>0.879687</td>\n",
       "      <td>0.877698</td>\n",
       "      <td>0.841379</td>\n",
       "      <td>0.859155</td>\n",
       "      <td>0.947712</td>\n",
       "      <td>0.917722</td>\n",
       "      <td>0.932476</td>\n",
       "      <td>0.864516</td>\n",
       "      <td>0.875817</td>\n",
       "      <td>0.870130</td>\n",
       "      <td>0.839378</td>\n",
       "      <td>0.880435</td>\n",
       "      <td>0.859416</td>\n",
       "      <td>0.000000</td>\n",
       "      <td>32</td>\n",
       "      <td>509.072266</td>\n",
       "      <td>7180.000000</td>\n",
       "      <td>0.026164</td>\n",
       "      <td>0.006794</td>\n",
       "      <td>0.023756</td>\n",
       "      <td>0.005034</td>\n",
       "      <td>0.024879</td>\n",
       "      <td>0.006191</td>\n",
       "      <td>0.023238</td>\n",
       "      <td>0.004472</td>\n",
       "      <td>0.025434</td>\n",
       "      <td>0.006274</td>\n",
       "      <td>0.022355</td>\n",
       "      <td>0.004140</td>\n",
       "      <td>0.024228</td>\n",
       "      <td>0.005943</td>\n",
       "      <td>0.022187</td>\n",
       "      <td>0.003888</td>\n",
       "      <td>0.023190</td>\n",
       "      <td>0.005776</td>\n",
       "      <td>0.021817</td>\n",
       "      <td>0.004091</td>\n",
       "      <td>0.024157</td>\n",
       "      <td>0.006152</td>\n",
       "      <td>0.022147</td>\n",
       "      <td>0.004489</td>\n",
       "      <td>0.027315</td>\n",
       "      <td>0.006954</td>\n",
       "      <td>0.021777</td>\n",
       "      <td>0.005083</td>\n",
       "      <td>0.022973</td>\n",
       "      <td>0.006315</td>\n",
       "      <td>0.022402</td>\n",
       "      <td>0.005357</td>\n",
       "      <td>0.023257</td>\n",
       "      <td>0.006914</td>\n",
       "      <td>0.021633</td>\n",
       "      <td>0.005042</td>\n",
       "      <td>0.027255</td>\n",
       "      <td>0.007643</td>\n",
       "      <td>0.022243</td>\n",
       "      <td>0.005501</td>\n",
       "      <td>0.030547</td>\n",
       "      <td>0.008493</td>\n",
       "      <td>0.022575</td>\n",
       "      <td>0.006167</td>\n",
       "      <td>0.024929</td>\n",
       "      <td>0.007948</td>\n",
       "      <td>0.022702</td>\n",
       "      <td>0.006083</td>\n",
       "      <td>0.020522</td>\n",
       "      <td>0.001366</td>\n",
       "      <td>0.022021</td>\n",
       "      <td>0.001254</td>\n",
       "    </tr>\n",
       "    <tr>\n",
       "      <td>1400</td>\n",
       "      <td>0.325500</td>\n",
       "      <td>0.326597</td>\n",
       "      <td>0.884375</td>\n",
       "      <td>0.885964</td>\n",
       "      <td>0.884375</td>\n",
       "      <td>0.884690</td>\n",
       "      <td>0.884375</td>\n",
       "      <td>0.885244</td>\n",
       "      <td>0.884375</td>\n",
       "      <td>0.863946</td>\n",
       "      <td>0.875862</td>\n",
       "      <td>0.869863</td>\n",
       "      <td>0.948052</td>\n",
       "      <td>0.924051</td>\n",
       "      <td>0.935897</td>\n",
       "      <td>0.880795</td>\n",
       "      <td>0.869281</td>\n",
       "      <td>0.875000</td>\n",
       "      <td>0.851064</td>\n",
       "      <td>0.869565</td>\n",
       "      <td>0.860215</td>\n",
       "      <td>0.000000</td>\n",
       "      <td>32</td>\n",
       "      <td>509.072266</td>\n",
       "      <td>7180.000000</td>\n",
       "      <td>0.026432</td>\n",
       "      <td>0.006978</td>\n",
       "      <td>0.023828</td>\n",
       "      <td>0.005086</td>\n",
       "      <td>0.024905</td>\n",
       "      <td>0.006238</td>\n",
       "      <td>0.023232</td>\n",
       "      <td>0.004486</td>\n",
       "      <td>0.025430</td>\n",
       "      <td>0.006322</td>\n",
       "      <td>0.022370</td>\n",
       "      <td>0.004155</td>\n",
       "      <td>0.024279</td>\n",
       "      <td>0.006009</td>\n",
       "      <td>0.022221</td>\n",
       "      <td>0.003931</td>\n",
       "      <td>0.023284</td>\n",
       "      <td>0.005872</td>\n",
       "      <td>0.021870</td>\n",
       "      <td>0.004145</td>\n",
       "      <td>0.024354</td>\n",
       "      <td>0.006301</td>\n",
       "      <td>0.022147</td>\n",
       "      <td>0.004494</td>\n",
       "      <td>0.027371</td>\n",
       "      <td>0.007004</td>\n",
       "      <td>0.021805</td>\n",
       "      <td>0.005108</td>\n",
       "      <td>0.023058</td>\n",
       "      <td>0.006452</td>\n",
       "      <td>0.022436</td>\n",
       "      <td>0.005407</td>\n",
       "      <td>0.023296</td>\n",
       "      <td>0.007003</td>\n",
       "      <td>0.021680</td>\n",
       "      <td>0.005106</td>\n",
       "      <td>0.027652</td>\n",
       "      <td>0.007822</td>\n",
       "      <td>0.022291</td>\n",
       "      <td>0.005543</td>\n",
       "      <td>0.030753</td>\n",
       "      <td>0.008615</td>\n",
       "      <td>0.022718</td>\n",
       "      <td>0.006270</td>\n",
       "      <td>0.025136</td>\n",
       "      <td>0.008101</td>\n",
       "      <td>0.022749</td>\n",
       "      <td>0.006163</td>\n",
       "      <td>0.020541</td>\n",
       "      <td>0.001402</td>\n",
       "      <td>0.022136</td>\n",
       "      <td>0.001274</td>\n",
       "    </tr>\n",
       "    <tr>\n",
       "      <td>1600</td>\n",
       "      <td>0.318300</td>\n",
       "      <td>0.321465</td>\n",
       "      <td>0.884375</td>\n",
       "      <td>0.886761</td>\n",
       "      <td>0.884375</td>\n",
       "      <td>0.884144</td>\n",
       "      <td>0.884375</td>\n",
       "      <td>0.885291</td>\n",
       "      <td>0.884375</td>\n",
       "      <td>0.873239</td>\n",
       "      <td>0.855172</td>\n",
       "      <td>0.864111</td>\n",
       "      <td>0.954248</td>\n",
       "      <td>0.924051</td>\n",
       "      <td>0.938907</td>\n",
       "      <td>0.876623</td>\n",
       "      <td>0.882353</td>\n",
       "      <td>0.879479</td>\n",
       "      <td>0.842932</td>\n",
       "      <td>0.875000</td>\n",
       "      <td>0.858667</td>\n",
       "      <td>0.000000</td>\n",
       "      <td>32</td>\n",
       "      <td>509.072266</td>\n",
       "      <td>7180.000000</td>\n",
       "      <td>0.026632</td>\n",
       "      <td>0.007106</td>\n",
       "      <td>0.023900</td>\n",
       "      <td>0.005128</td>\n",
       "      <td>0.024995</td>\n",
       "      <td>0.006301</td>\n",
       "      <td>0.023279</td>\n",
       "      <td>0.004513</td>\n",
       "      <td>0.025456</td>\n",
       "      <td>0.006357</td>\n",
       "      <td>0.022422</td>\n",
       "      <td>0.004177</td>\n",
       "      <td>0.024337</td>\n",
       "      <td>0.006051</td>\n",
       "      <td>0.022287</td>\n",
       "      <td>0.003986</td>\n",
       "      <td>0.023356</td>\n",
       "      <td>0.005942</td>\n",
       "      <td>0.021910</td>\n",
       "      <td>0.004187</td>\n",
       "      <td>0.024467</td>\n",
       "      <td>0.006360</td>\n",
       "      <td>0.022180</td>\n",
       "      <td>0.004529</td>\n",
       "      <td>0.027564</td>\n",
       "      <td>0.007076</td>\n",
       "      <td>0.021852</td>\n",
       "      <td>0.005166</td>\n",
       "      <td>0.023104</td>\n",
       "      <td>0.006479</td>\n",
       "      <td>0.022445</td>\n",
       "      <td>0.005413</td>\n",
       "      <td>0.023331</td>\n",
       "      <td>0.007027</td>\n",
       "      <td>0.021671</td>\n",
       "      <td>0.005105</td>\n",
       "      <td>0.027976</td>\n",
       "      <td>0.007941</td>\n",
       "      <td>0.022321</td>\n",
       "      <td>0.005568</td>\n",
       "      <td>0.030956</td>\n",
       "      <td>0.008667</td>\n",
       "      <td>0.022746</td>\n",
       "      <td>0.006314</td>\n",
       "      <td>0.025211</td>\n",
       "      <td>0.008140</td>\n",
       "      <td>0.022737</td>\n",
       "      <td>0.006149</td>\n",
       "      <td>0.020549</td>\n",
       "      <td>0.001458</td>\n",
       "      <td>0.022164</td>\n",
       "      <td>0.001365</td>\n",
       "    </tr>\n",
       "    <tr>\n",
       "      <td>1800</td>\n",
       "      <td>0.326700</td>\n",
       "      <td>0.316439</td>\n",
       "      <td>0.889062</td>\n",
       "      <td>0.892092</td>\n",
       "      <td>0.889062</td>\n",
       "      <td>0.888534</td>\n",
       "      <td>0.889062</td>\n",
       "      <td>0.890078</td>\n",
       "      <td>0.889062</td>\n",
       "      <td>0.880282</td>\n",
       "      <td>0.862069</td>\n",
       "      <td>0.871080</td>\n",
       "      <td>0.954545</td>\n",
       "      <td>0.930380</td>\n",
       "      <td>0.942308</td>\n",
       "      <td>0.893333</td>\n",
       "      <td>0.875817</td>\n",
       "      <td>0.884488</td>\n",
       "      <td>0.840206</td>\n",
       "      <td>0.885870</td>\n",
       "      <td>0.862434</td>\n",
       "      <td>0.000000</td>\n",
       "      <td>32</td>\n",
       "      <td>509.072266</td>\n",
       "      <td>7180.000000</td>\n",
       "      <td>0.026752</td>\n",
       "      <td>0.007177</td>\n",
       "      <td>0.023941</td>\n",
       "      <td>0.005151</td>\n",
       "      <td>0.025055</td>\n",
       "      <td>0.006336</td>\n",
       "      <td>0.023311</td>\n",
       "      <td>0.004528</td>\n",
       "      <td>0.025518</td>\n",
       "      <td>0.006405</td>\n",
       "      <td>0.022450</td>\n",
       "      <td>0.004189</td>\n",
       "      <td>0.024393</td>\n",
       "      <td>0.006087</td>\n",
       "      <td>0.022300</td>\n",
       "      <td>0.003995</td>\n",
       "      <td>0.023399</td>\n",
       "      <td>0.005973</td>\n",
       "      <td>0.021927</td>\n",
       "      <td>0.004216</td>\n",
       "      <td>0.024487</td>\n",
       "      <td>0.006379</td>\n",
       "      <td>0.022197</td>\n",
       "      <td>0.004543</td>\n",
       "      <td>0.027550</td>\n",
       "      <td>0.007086</td>\n",
       "      <td>0.021869</td>\n",
       "      <td>0.005188</td>\n",
       "      <td>0.023121</td>\n",
       "      <td>0.006509</td>\n",
       "      <td>0.022465</td>\n",
       "      <td>0.005427</td>\n",
       "      <td>0.023339</td>\n",
       "      <td>0.007038</td>\n",
       "      <td>0.021686</td>\n",
       "      <td>0.005112</td>\n",
       "      <td>0.028066</td>\n",
       "      <td>0.007975</td>\n",
       "      <td>0.022328</td>\n",
       "      <td>0.005574</td>\n",
       "      <td>0.030983</td>\n",
       "      <td>0.008687</td>\n",
       "      <td>0.022784</td>\n",
       "      <td>0.006333</td>\n",
       "      <td>0.025306</td>\n",
       "      <td>0.008176</td>\n",
       "      <td>0.022754</td>\n",
       "      <td>0.006171</td>\n",
       "      <td>0.020550</td>\n",
       "      <td>0.001456</td>\n",
       "      <td>0.022165</td>\n",
       "      <td>0.001355</td>\n",
       "    </tr>\n",
       "  </tbody>\n",
       "</table><p>"
      ],
      "text/plain": [
       "<IPython.core.display.HTML object>"
      ]
     },
     "metadata": {},
     "output_type": "display_data"
    },
    {
     "name": "stderr",
     "output_type": "stream",
     "text": [
      "/cache_intel/anaconda/miniconda3/lib/python3.9/site-packages/torch/nn/parallel/_functions.py:70: UserWarning: Was asked to gather along dimension 0, but all input tensors were scalars; will instead unsqueeze and return a vector.\n",
      "  warnings.warn(\n",
      "/cache_intel/anaconda/miniconda3/lib/python3.9/site-packages/torch/nn/parallel/data_parallel.py:37: UserWarning: \n",
      "    There is an imbalance between your GPUs. You may want to exclude GPU 2 which\n",
      "    has less than 75% of the memory or cores of GPU 0. You can do so by setting\n",
      "    the device_ids argument to DataParallel, or by setting the CUDA_VISIBLE_DEVICES\n",
      "    environment variable.\n",
      "  warnings.warn(\n",
      "/cache_intel/anaconda/miniconda3/lib/python3.9/site-packages/torch/nn/parallel/_functions.py:70: UserWarning: Was asked to gather along dimension 0, but all input tensors were scalars; will instead unsqueeze and return a vector.\n",
      "  warnings.warn(\n",
      "/cache_intel/anaconda/miniconda3/lib/python3.9/site-packages/torch/nn/parallel/data_parallel.py:37: UserWarning: \n",
      "    There is an imbalance between your GPUs. You may want to exclude GPU 2 which\n",
      "    has less than 75% of the memory or cores of GPU 0. You can do so by setting\n",
      "    the device_ids argument to DataParallel, or by setting the CUDA_VISIBLE_DEVICES\n",
      "    environment variable.\n",
      "  warnings.warn(\n",
      "/cache_intel/anaconda/miniconda3/lib/python3.9/site-packages/torch/nn/parallel/_functions.py:70: UserWarning: Was asked to gather along dimension 0, but all input tensors were scalars; will instead unsqueeze and return a vector.\n",
      "  warnings.warn(\n",
      "/cache_intel/anaconda/miniconda3/lib/python3.9/site-packages/torch/nn/parallel/data_parallel.py:37: UserWarning: \n",
      "    There is an imbalance between your GPUs. You may want to exclude GPU 2 which\n",
      "    has less than 75% of the memory or cores of GPU 0. You can do so by setting\n",
      "    the device_ids argument to DataParallel, or by setting the CUDA_VISIBLE_DEVICES\n",
      "    environment variable.\n",
      "  warnings.warn(\n",
      "/cache_intel/anaconda/miniconda3/lib/python3.9/site-packages/torch/nn/parallel/_functions.py:70: UserWarning: Was asked to gather along dimension 0, but all input tensors were scalars; will instead unsqueeze and return a vector.\n",
      "  warnings.warn(\n",
      "/cache_intel/anaconda/miniconda3/lib/python3.9/site-packages/torch/nn/parallel/data_parallel.py:37: UserWarning: \n",
      "    There is an imbalance between your GPUs. You may want to exclude GPU 2 which\n",
      "    has less than 75% of the memory or cores of GPU 0. You can do so by setting\n",
      "    the device_ids argument to DataParallel, or by setting the CUDA_VISIBLE_DEVICES\n",
      "    environment variable.\n",
      "  warnings.warn(\n",
      "/cache_intel/anaconda/miniconda3/lib/python3.9/site-packages/torch/nn/parallel/_functions.py:70: UserWarning: Was asked to gather along dimension 0, but all input tensors were scalars; will instead unsqueeze and return a vector.\n",
      "  warnings.warn(\n",
      "/cache_intel/anaconda/miniconda3/lib/python3.9/site-packages/torch/nn/parallel/data_parallel.py:37: UserWarning: \n",
      "    There is an imbalance between your GPUs. You may want to exclude GPU 2 which\n",
      "    has less than 75% of the memory or cores of GPU 0. You can do so by setting\n",
      "    the device_ids argument to DataParallel, or by setting the CUDA_VISIBLE_DEVICES\n",
      "    environment variable.\n",
      "  warnings.warn(\n",
      "/cache_intel/anaconda/miniconda3/lib/python3.9/site-packages/torch/nn/parallel/_functions.py:70: UserWarning: Was asked to gather along dimension 0, but all input tensors were scalars; will instead unsqueeze and return a vector.\n",
      "  warnings.warn(\n",
      "/cache_intel/anaconda/miniconda3/lib/python3.9/site-packages/torch/nn/parallel/data_parallel.py:37: UserWarning: \n",
      "    There is an imbalance between your GPUs. You may want to exclude GPU 2 which\n",
      "    has less than 75% of the memory or cores of GPU 0. You can do so by setting\n",
      "    the device_ids argument to DataParallel, or by setting the CUDA_VISIBLE_DEVICES\n",
      "    environment variable.\n",
      "  warnings.warn(\n",
      "/cache_intel/anaconda/miniconda3/lib/python3.9/site-packages/torch/nn/parallel/_functions.py:70: UserWarning: Was asked to gather along dimension 0, but all input tensors were scalars; will instead unsqueeze and return a vector.\n",
      "  warnings.warn(\n",
      "/cache_intel/anaconda/miniconda3/lib/python3.9/site-packages/torch/nn/parallel/data_parallel.py:37: UserWarning: \n",
      "    There is an imbalance between your GPUs. You may want to exclude GPU 2 which\n",
      "    has less than 75% of the memory or cores of GPU 0. You can do so by setting\n",
      "    the device_ids argument to DataParallel, or by setting the CUDA_VISIBLE_DEVICES\n",
      "    environment variable.\n",
      "  warnings.warn(\n",
      "/cache_intel/anaconda/miniconda3/lib/python3.9/site-packages/torch/nn/parallel/_functions.py:70: UserWarning: Was asked to gather along dimension 0, but all input tensors were scalars; will instead unsqueeze and return a vector.\n",
      "  warnings.warn(\n",
      "/cache_intel/anaconda/miniconda3/lib/python3.9/site-packages/torch/nn/parallel/data_parallel.py:37: UserWarning: \n",
      "    There is an imbalance between your GPUs. You may want to exclude GPU 2 which\n",
      "    has less than 75% of the memory or cores of GPU 0. You can do so by setting\n",
      "    the device_ids argument to DataParallel, or by setting the CUDA_VISIBLE_DEVICES\n",
      "    environment variable.\n",
      "  warnings.warn(\n",
      "/cache_intel/anaconda/miniconda3/lib/python3.9/site-packages/torch/nn/parallel/_functions.py:70: UserWarning: Was asked to gather along dimension 0, but all input tensors were scalars; will instead unsqueeze and return a vector.\n",
      "  warnings.warn(\n"
     ]
    }
   ],
   "source": [
    "peft_lora_finetuning_trainer = get_trainer(peft_model)\n",
    "\n",
    "result = peft_lora_finetuning_trainer.train()"
   ]
  },
  {
   "cell_type": "code",
   "execution_count": 26,
   "id": "bb49e2b3",
   "metadata": {},
   "outputs": [
    {
     "name": "stdout",
     "output_type": "stream",
     "text": [
      "Model saved to results/peft_model\n"
     ]
    }
   ],
   "source": [
    "# 保存模型\n",
    "peft_model_path = os.path.join(output_dir, \"peft_model\")\n",
    "peft_model.save_pretrained(peft_model_path)\n",
    "# 保存tokenizer\n",
    "tokenizer.save_pretrained(peft_model_path)\n",
    "print(f\"Model saved to {peft_model_path}\")\n"
   ]
  },
  {
   "cell_type": "markdown",
   "id": "5183be7e-514f-4e64-a6f4-314a827e6be5",
   "metadata": {
    "id": "5183be7e-514f-4e64-a6f4-314a827e6be5"
   },
   "source": [
    "## Evaluate Finetuned Model\n"
   ]
  },
  {
   "cell_type": "markdown",
   "id": "038198cf-0953-47e7-bd47-b073d05f8378",
   "metadata": {
    "id": "038198cf-0953-47e7-bd47-b073d05f8378"
   },
   "source": [
    "### Performing Inference on Custom Input\n",
    "Uncomment following functions for running inference on custom inputs"
   ]
  },
  {
   "cell_type": "code",
   "execution_count": 27,
   "id": "f88ad420-3f46-4eff-9d71-0ce388163062",
   "metadata": {
    "id": "f88ad420-3f46-4eff-9d71-0ce388163062"
   },
   "outputs": [],
   "source": [
    "# def classify(model, tokenizer, text):\n",
    "#     device = torch.device(\"cuda\" if torch.cuda.is_available() else \"cpu\")\n",
    "#     inputs = tokenizer(text, truncation=True, padding=True, return_tensors=\"pt\").to(device)\n",
    "#     output = model(**inputs)\n",
    "\n",
    "#     prediction = output.logits.argmax(dim=-1).item()\n",
    "\n",
    "#     print(f'\\n Class: {prediction}, Label: {id2label[prediction]}, Text: {text}')\n",
    "#     return id2label[prediction]"
   ]
  },
  {
   "cell_type": "code",
   "execution_count": 28,
   "id": "fc52bb94-5e13-4943-9225-a6d7fd053579",
   "metadata": {
    "id": "fc52bb94-5e13-4943-9225-a6d7fd053579"
   },
   "outputs": [],
   "source": [
    "# classify( peft_model, tokenizer, \"Kederis proclaims innocence Olympic champion Kostas Kederis today left hospital ahead of his date with IOC inquisitors claiming his ...\")\n",
    "# classify( peft_model, tokenizer, \"Wall St. Bears Claw Back Into the Black (Reuters) Reuters - Short-sellers, Wall Street's dwindling\\band of ultra-cynics, are seeing green again.\")"
   ]
  },
  {
   "cell_type": "markdown",
   "id": "68a3e276-bf8c-4403-8a48-5ef19f2beccf",
   "metadata": {
    "id": "68a3e276-bf8c-4403-8a48-5ef19f2beccf"
   },
   "source": [
    "### Run Inference on eval_dataset"
   ]
  },
  {
   "cell_type": "code",
   "execution_count": 29,
   "id": "ebbc20a2-a1c0-4cb7-b842-f52e4de61ed5",
   "metadata": {
    "id": "ebbc20a2-a1c0-4cb7-b842-f52e4de61ed5"
   },
   "outputs": [],
   "source": [
    "from torch.utils.data import DataLoader\n",
    "import evaluate\n",
    "from tqdm import tqdm\n",
    "\n",
    "def evaluate_model(inference_model, dataset, labelled=True, batch_size=32, data_collator=None):\n",
    "    \"\"\"\n",
    "    Evaluate a PEFT model on a dataset.\n",
    "\n",
    "    Args:\n",
    "        inference_model: The model to evaluate.\n",
    "        dataset: The dataset (Hugging Face Dataset) to run inference on.\n",
    "        labelled (bool): If True, the dataset includes labels and metrics will be computed.\n",
    "                         If False, only predictions will be returned.\n",
    "        batch_size (int): Batch size for inference.\n",
    "        data_collator: Function to collate batches. If None, the default collate_fn is used.\n",
    "\n",
    "    Returns:\n",
    "        If labelled is True, returns a tuple (metrics, predictions)\n",
    "        If labelled is False, returns the predictions.\n",
    "    \"\"\"\n",
    "    # Create the DataLoader\n",
    "    eval_dataloader = DataLoader(dataset, batch_size=batch_size, collate_fn=data_collator)\n",
    "    device = torch.device(\"cuda\" if torch.cuda.is_available() else \"cpu\")\n",
    "\n",
    "    inference_model.to(device)\n",
    "    inference_model.eval()\n",
    "\n",
    "    all_predictions = []\n",
    "    if labelled:\n",
    "        metric = evaluate.load('accuracy')\n",
    "\n",
    "    # Loop over the DataLoader\n",
    "    for batch in tqdm(eval_dataloader):\n",
    "        # Move each tensor in the batch to the device\n",
    "        batch = {k: v.to(device) for k, v in batch.items()}\n",
    "        with torch.no_grad():\n",
    "            outputs = inference_model(**batch)\n",
    "        predictions = outputs.logits.argmax(dim=-1)\n",
    "        all_predictions.append(predictions.cpu())\n",
    "\n",
    "        if labelled:\n",
    "            # Expecting that labels are provided under the \"labels\" key.\n",
    "            references = batch[\"labels\"]\n",
    "            metric.add_batch(\n",
    "                predictions=predictions.cpu().numpy(),\n",
    "                references=references.cpu().numpy()\n",
    "            )\n",
    "\n",
    "    # Concatenate predictions from all batches\n",
    "    all_predictions = torch.cat(all_predictions, dim=0)\n",
    "\n",
    "    if labelled:\n",
    "        eval_metric = metric.compute()\n",
    "        print(\"Evaluation Metric:\", eval_metric)\n",
    "        return eval_metric, all_predictions\n",
    "    else:\n",
    "        return all_predictions"
   ]
  },
  {
   "cell_type": "code",
   "execution_count": 30,
   "id": "809635a6-a2c7-4d09-8d60-ababd1815003",
   "metadata": {
    "id": "809635a6-a2c7-4d09-8d60-ababd1815003"
   },
   "outputs": [
    {
     "name": "stderr",
     "output_type": "stream",
     "text": [
      "100%|██████████| 20/20 [00:04<00:00,  4.19it/s]"
     ]
    },
    {
     "name": "stdout",
     "output_type": "stream",
     "text": [
      "Evaluation Metric: {'accuracy': 0.88125}\n"
     ]
    },
    {
     "name": "stderr",
     "output_type": "stream",
     "text": [
      "\n"
     ]
    }
   ],
   "source": [
    "# Check evaluation accuracy\n",
    "_, _ = evaluate_model(peft_model, eval_dataset, True, 32, data_collator)"
   ]
  },
  {
   "cell_type": "code",
   "execution_count": null,
   "id": "kMJgvV1ZnVhd",
   "metadata": {
    "id": "kMJgvV1ZnVhd"
   },
   "outputs": [],
   "source": []
  },
  {
   "cell_type": "markdown",
   "id": "75f39087-f2bb-49d3-9fe1-0d812fb30203",
   "metadata": {
    "id": "75f39087-f2bb-49d3-9fe1-0d812fb30203"
   },
   "source": [
    "### Run Inference on unlabelled dataset"
   ]
  },
  {
   "cell_type": "code",
   "execution_count": 31,
   "id": "2af62541-2c33-4f16-bb1c-cc969c715cd7",
   "metadata": {
    "id": "2af62541-2c33-4f16-bb1c-cc969c715cd7"
   },
   "outputs": [
    {
     "data": {
      "application/vnd.jupyter.widget-view+json": {
       "model_id": "87fa7e40f5d4447587585e699fcfd69f",
       "version_major": 2,
       "version_minor": 0
      },
      "text/plain": [
       "Map:   0%|          | 0/8000 [00:00<?, ? examples/s]"
      ]
     },
     "metadata": {},
     "output_type": "display_data"
    },
    {
     "data": {
      "text/plain": [
       "Dataset({\n",
       "    features: ['text'],\n",
       "    num_rows: 8000\n",
       "})"
      ]
     },
     "execution_count": 31,
     "metadata": {},
     "output_type": "execute_result"
    }
   ],
   "source": [
    "#Load your unlabelled data\n",
    "unlabelled_dataset = pd.read_pickle(\"/home/viewsetting/ssd_2T/test_unlabelled.pkl\")\n",
    "test_dataset = unlabelled_dataset.map(preprocess_with_augmentation, batched=True, remove_columns=[\"text\"])\n",
    "unlabelled_dataset"
   ]
  },
  {
   "cell_type": "code",
   "execution_count": 32,
   "id": "e60991d3-38b1-4657-8854-408ce66f6b84",
   "metadata": {
    "id": "e60991d3-38b1-4657-8854-408ce66f6b84"
   },
   "outputs": [
    {
     "name": "stderr",
     "output_type": "stream",
     "text": [
      "100%|██████████| 250/250 [00:31<00:00,  7.94it/s]"
     ]
    },
    {
     "name": "stdout",
     "output_type": "stream",
     "text": [
      "Inference complete. Predictions saved to inference_output.csv\n"
     ]
    },
    {
     "name": "stderr",
     "output_type": "stream",
     "text": [
      "\n"
     ]
    }
   ],
   "source": [
    "# Run inference and save predictions\n",
    "preds = evaluate_model(peft_model, test_dataset, False, 32, data_collator)\n",
    "df_output = pd.DataFrame({\n",
    "    'ID': range(len(preds)),\n",
    "    'Label': preds.numpy()  # or preds.tolist()\n",
    "})\n",
    "df_output.to_csv(os.path.join(output_dir,\"inference_output.csv\"), index=False)\n",
    "print(\"Inference complete. Predictions saved to inference_output.csv\")"
   ]
  }
 ],
 "metadata": {
  "accelerator": "GPU",
  "colab": {
   "gpuType": "T4",
   "provenance": []
  },
  "kernelspec": {
   "display_name": "base",
   "language": "python",
   "name": "python3"
  },
  "language_info": {
   "codemirror_mode": {
    "name": "ipython",
    "version": 3
   },
   "file_extension": ".py",
   "mimetype": "text/x-python",
   "name": "python",
   "nbconvert_exporter": "python",
   "pygments_lexer": "ipython3",
   "version": "3.9.12"
  }
 },
 "nbformat": 4,
 "nbformat_minor": 5
}
